{
 "cells": [
  {
   "cell_type": "raw",
   "metadata": {
    "collapsed": true
   },
   "source": [
    "# Конфигурация параметров SparkContext (версия Spark 2.4)"
   ]
  },
  {
   "cell_type": "code",
   "execution_count": 1,
   "metadata": {},
   "outputs": [
    {
     "name": "stdout",
     "output_type": "stream",
     "text": [
      "Filesystem                 1K-blocks     Used  Available Use% Mounted on\r\n",
      "/dev/mapper/rootvg-lvroot    5095040    50576    4797400   2% /\r\n",
      "devtmpfs                    65905892        0   65905892   0% /dev\r\n",
      "tmpfs                       65931420        0   65931420   0% /dev/shm\r\n",
      "tmpfs                       65931420  4186952   61744468   7% /run\r\n",
      "tmpfs                       65931420        0   65931420   0% /sys/fs/cgroup\r\n",
      "/dev/mapper/rootvg-lvusr     3997376  3011812     759468  80% /usr\r\n",
      "/dev/vda1                     475736   137495     309160  31% /boot\r\n",
      "/dev/mapper/rootvg-lvhome    3997376    22160    3749120   1% /home\r\n",
      "/dev/mapper/rootvg-lvtmp    15350728   192592   14470680   2% /tmp\r\n",
      "/dev/mapper/rootvg-lvvar    30832548 19371372   10144588  66% /var\r\n",
      "/dev/mapper/rootvg-lvopt  1999631152 78642028 1839690456   5% /opt\r\n",
      "tmpfs                       13186284        0   13186284   0% /run/user/0\r\n",
      "cm_processes                65931420    51940   65879480   1% /run/cloudera-scm-agent/process\r\n",
      "tmpfs                       13186284        0   13186284   0% /run/user/994\r\n",
      "tmpfs                       13186284       12   13186272   1% /run/user/1011419713\r\n"
     ]
    }
   ],
   "source": [
    "! df"
   ]
  },
  {
   "cell_type": "code",
   "execution_count": 2,
   "metadata": {},
   "outputs": [],
   "source": [
    "import os\n",
    "import sys\n",
    " \n",
    "spark_home = '/opt/cloudera/parcels/SPARK2/lib/spark2'\n",
    "os.environ['SPARK_HOME'] = spark_home\n",
    "os.environ['PYSPARK_DRIVER_PYTHON'] = 'python'\n",
    "os.environ['LD_LIBRARY_PATH'] = '/opt/python/virtualenv/jupyter/lib'\n",
    " \n",
    "sys.path.insert(0, os.path.join (spark_home,'python'))\n",
    " \n",
    "sys.path.insert(0, os.path.join (spark_home,'python/lib/py4j-0.10.7-src.zip'))\n",
    "from pyspark import SparkContext, SparkConf, HiveContext\n",
    " \n",
    "conf = SparkConf().setAppName('SparkContextExample')\\\n",
    "    .setMaster(\"yarn-client\")\\\n",
    "    .set('spark.dynamicAllocation.enabled', 'false')\\\n",
    "    .set(\"hive.metastore.uris\", \"thrift://februs6.lab.df.sbrf.ru:9083\")\\\n",
    "    .set(\"hive.metastore.uris\", \"thrift://februs7.lab.df.sbrf.ru:9083\")\n",
    "# Пример кастомизации параметров Spark. По умолчанию параметры берутся из конфигурации Cloudera Manager.\n",
    "# .set('spark.local.dir', 'sparktmp')\\ # Директория для временных файлов Spark\n",
    "# .set('spark.executor.memory','5g')\\ # Объём памяти для выполнения задач Spark\n",
    "# .set('spark.driver.maxResultSize','5g')\\ # Максимальный объём памяти для драйвера Spark\n",
    "# .set('spark.executor.instances', '1')\\ # Количество экземпляров/инстансов для выполнения задач Spark\n",
    "# .set('spark.executor.cores', '8')\\ # Количество ядер, задействованных для выполнения задач Spark\n",
    "# .set('spark.port.maxRetries', '150')\\ # Максимальное количество попыток привязки к порту до отказа\n"
   ]
  },
  {
   "cell_type": "raw",
   "metadata": {},
   "source": [
    "# Запуск SparkContext"
   ]
  },
  {
   "cell_type": "code",
   "execution_count": 3,
   "metadata": {},
   "outputs": [],
   "source": [
    "sc = SparkContext.getOrCreate(conf=conf)"
   ]
  },
  {
   "cell_type": "raw",
   "metadata": {},
   "source": [
    "# Запуск HiveContext"
   ]
  },
  {
   "cell_type": "code",
   "execution_count": 4,
   "metadata": {},
   "outputs": [],
   "source": [
    "sqlc = HiveContext(sc)"
   ]
  },
  {
   "cell_type": "raw",
   "metadata": {},
   "source": [
    "# Выполнение запросов в HiveContext"
   ]
  },
  {
   "cell_type": "code",
   "execution_count": 5,
   "metadata": {},
   "outputs": [
    {
     "name": "stdout",
     "output_type": "stream",
     "text": [
      "+-------------------+\n",
      "| max(protocol_dttm)|\n",
      "+-------------------+\n",
      "|2019-12-11 07:59:00|\n",
      "+-------------------+\n",
      "\n"
     ]
    }
   ],
   "source": [
    "sqlc.sql(\"\"\"select max(protocol_dttm) from custom_cb_p4d_zakupki.tender_participants\"\"\").show()"
   ]
  },
  {
   "cell_type": "raw",
   "metadata": {},
   "source": [
    "# Остановка SparkContext"
   ]
  },
  {
   "cell_type": "code",
   "execution_count": 6,
   "metadata": {},
   "outputs": [],
   "source": [
    "sc.stop()"
   ]
  },
  {
   "cell_type": "code",
   "execution_count": 7,
   "metadata": {},
   "outputs": [],
   "source": [
    "sys.path.insert(0, '/home/patrakova1-es_ca-sbrf-ru/ds/spark/')"
   ]
  },
  {
   "cell_type": "code",
   "execution_count": 8,
   "metadata": {},
   "outputs": [],
   "source": [
    "from spark_helper import SparkHelper"
   ]
  },
  {
   "cell_type": "code",
   "execution_count": 9,
   "metadata": {},
   "outputs": [
    {
     "name": "stdout",
     "output_type": "stream",
     "text": [
      "Start\n",
      "Context ready: <SparkContext master=yarn-client appName=dataset_4442>\n"
     ]
    }
   ],
   "source": [
    "helper=SparkHelper()\n",
    "sc,sql_context=helper.create_sql_context(port='4442', name='dataset', instances=20)"
   ]
  },
  {
   "cell_type": "code",
   "execution_count": 11,
   "metadata": {},
   "outputs": [
    {
     "name": "stdout",
     "output_type": "stream",
     "text": [
      "+-------------------+-------------------+\n",
      "| max(protocol_dttm)| min(protocol_dttm)|\n",
      "+-------------------+-------------------+\n",
      "|2019-12-11 07:59:00|2017-01-26 17:09:33|\n",
      "+-------------------+-------------------+\n",
      "\n"
     ]
    }
   ],
   "source": [
    "sql_context.sql(\"\"\"select max(protocol_dttm), min(protocol_dttm) from custom_cb_p4d_zakupki.tender_participants\"\"\").show()"
   ]
  },
  {
   "cell_type": "code",
   "execution_count": 12,
   "metadata": {},
   "outputs": [],
   "source": [
    "sc.stop()"
   ]
  },
  {
   "cell_type": "code",
   "execution_count": null,
   "metadata": {},
   "outputs": [],
   "source": []
  }
 ],
 "metadata": {
  "kernelspec": {
   "display_name": "Python 3",
   "language": "python",
   "name": "python3"
  },
  "language_info": {
   "codemirror_mode": {
    "name": "ipython",
    "version": 3
   },
   "file_extension": ".py",
   "mimetype": "text/x-python",
   "name": "python",
   "nbconvert_exporter": "python",
   "pygments_lexer": "ipython3",
   "version": "3.6.3"
  }
 },
 "nbformat": 4,
 "nbformat_minor": 2
}
