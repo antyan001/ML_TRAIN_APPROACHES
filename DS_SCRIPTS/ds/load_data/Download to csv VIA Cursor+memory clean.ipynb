{
 "cells": [
  {
   "cell_type": "code",
   "execution_count": null,
   "metadata": {
    "collapsed": true
   },
   "outputs": [],
   "source": [
    "import cx_Oracle\n",
    "import time, datetime\n",
    "from sklearn.externals import joblib\n",
    "import pandas as pd\n",
    "import gc\n",
    "import os"
   ]
  },
  {
   "cell_type": "code",
   "execution_count": null,
   "metadata": {
    "collapsed": true
   },
   "outputs": [],
   "source": [
    "class OracleDB:\n",
    "\n",
    "    def __init__(self, user, password, sid):\n",
    "        self.user = user\n",
    "        self.password = password\n",
    "        self.sid = sid\n",
    "        self.DatabaseError = cx_Oracle.DatabaseError\n",
    "\n",
    "    def connect(self):\n",
    "        self.connection = cx_Oracle.connect(self.user, self.password, self.sid)\n",
    "        self.cursor = self.connection.cursor()\n",
    "\n",
    "    def close(self):\n",
    "        self.cursor.close()\n",
    "        self.connection.close()"
   ]
  },
  {
   "cell_type": "code",
   "execution_count": null,
   "metadata": {
    "collapsed": true
   },
   "outputs": [],
   "source": [
    "def read_from_db(db, columns, file_name, append_header):\n",
    "    index, cols = [], []\n",
    "    rows = db.cursor.fetchmany()\n",
    "    if not rows: return False\n",
    "    index.extend([x[0] for x in rows])\n",
    "    cols.extend([x[1:] for x in rows])\n",
    "\n",
    "    data = pd.DataFrame(cols, index=index, columns=columns[1:])\n",
    "    data.to_csv(file_name, mode='a', compression='gzip', header=append_header, sep=';',  encoding='cp1251')\n",
    "    append_header=False\n",
    "\n",
    "    return True\n",
    "\n",
    "def get_balance(db, sql, file_name):\n",
    "    print('Connecting...')\n",
    "    db.connect()\n",
    "    \n",
    "    start_time = datetime.datetime.now()\n",
    "    print('Getting data ... ')\n",
    "    db.cursor.arraysize = 10_000\n",
    "\n",
    "    db.cursor.execute(sql)\n",
    "    columns=[x[0] for x in db.cursor.description]\n",
    "    index, cols = [], []\n",
    "    start_time = time.time()\n",
    "    append_header = True\n",
    "    \n",
    "    if os.path.exists(file_name):\n",
    "        os.remove(file_name)\n",
    "        \n",
    "    count = 0\n",
    "    while True:\n",
    "        result = read_from_db(db, columns, file_name, append_header)\n",
    "        count += 1\n",
    "        append_header = False\n",
    "        if not result: break\n",
    "        print('Downloaded {:,} lines, {:7.0f}sec. passed'.format(count * db.cursor.arraysize, time.time() - start_time))\n",
    "    \n",
    "    db.close()"
   ]
  },
  {
   "cell_type": "code",
   "execution_count": null,
   "metadata": {},
   "outputs": [],
   "source": [
    "db4 = OracleDB('', '', '')\n",
    "file_name='cvm_churn_fot_zp_agr.csv'\n",
    "sql='''select /*+parallel(6)*/* from cvm_churn_fot_zp_agr'''\n",
    "\n",
    "get_balance(db4, sql, file_name)"
   ]
  },
  {
   "cell_type": "markdown",
   "metadata": {},
   "source": [
    "# Файл сохраняется с сжатием gzip\n",
    "# Для чтения необходим параметр compression='gzip'"
   ]
  },
  {
   "cell_type": "code",
   "execution_count": null,
   "metadata": {
    "collapsed": true
   },
   "outputs": [],
   "source": [
    "df = pd.read_csv(file_name, compression='gzip', sep=';')"
   ]
  }
 ],
 "metadata": {
  "kernelspec": {
   "display_name": "Python 3",
   "language": "python",
   "name": "python3"
  },
  "language_info": {
   "codemirror_mode": {
    "name": "ipython",
    "version": 3
   },
   "file_extension": ".py",
   "mimetype": "text/x-python",
   "name": "python",
   "nbconvert_exporter": "python",
   "pygments_lexer": "ipython3",
   "version": "3.4.5"
  }
 },
 "nbformat": 4,
 "nbformat_minor": 2
}
