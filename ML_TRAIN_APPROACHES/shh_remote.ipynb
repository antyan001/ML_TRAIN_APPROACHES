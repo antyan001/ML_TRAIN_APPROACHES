{
 "cells": [
  {
   "cell_type": "code",
   "execution_count": 1,
   "metadata": {
    "collapsed": true
   },
   "outputs": [],
   "source": [
    "import os\n",
    "import sys\n",
    "from pathlib import Path\n",
    "sys.path.insert(0, '/home/ektov-av/notebooks/myscripts/support_library/') \n",
    "sys.path.insert(0, '/home/ektov-av/python35-libs/lib/python3.5/site-packages/')\n",
    "sys.path.insert(0, '/home/ektov-av/notebooks/labdata/lib/')\n",
    "from spark_connector import SparkConnector\n",
    "from sparkdb_loader import spark\n",
    "from sshloader import Ssh\n",
    "from time import sleep"
   ]
  },
  {
   "cell_type": "code",
   "execution_count": 2,
   "metadata": {
    "collapsed": true
   },
   "outputs": [],
   "source": [
    "import pyspark\n",
    "from pyspark import SparkContext, SparkConf, HiveContext\n",
    "from pyspark.sql.window import Window\n",
    "from pyspark.sql.functions import *\n",
    "from pyspark.sql.types import *"
   ]
  },
  {
   "cell_type": "code",
   "execution_count": 3,
   "metadata": {
    "collapsed": true
   },
   "outputs": [],
   "source": [
    "def show(self, n=10):\n",
    "    return self.limit(n).toPandas()\n",
    "\n",
    "pyspark.sql.dataframe.DataFrame.show = show"
   ]
  },
  {
   "cell_type": "code",
   "execution_count": null,
   "metadata": {
    "collapsed": true,
    "scrolled": true
   },
   "outputs": [],
   "source": [
    "for i in range(9,1000):\n",
    "    try:\n",
    "        print('working with: februs{}.ca.sbrf.ru'.format(str(i)))\n",
    "        _ssh = Ssh(host='februs{}.ca.sbrf.ru'.format(str(i)))\n",
    "        _ssh.setup()\n",
    "\n",
    "        file_name  = 'pip.conf'\n",
    "        remotepath = Path('./').as_posix()\n",
    "        localpath  = Path('/home/ektov-av/pip').as_posix()\n",
    "        remdir = 'pip'\n",
    "        _ssh.putFiles(localpath, remotepath, file_name, destFolderName=remdir)\n",
    "\n",
    "        bash_profile  = '.bash_profile'\n",
    "        remotepath = Path('./').as_posix()\n",
    "        localpath  = Path('/home/ektov-av/').as_posix()\n",
    "        remdir = ''\n",
    "        _ssh.putFiles(localpath, remotepath, bash_profile, destFolderName=remdir)\n",
    "\n",
    "        sleep(1)\n",
    "\n",
    "        stdin,stdout,stderr=_ssh.ssh.exec_command('cd /home/ektov-av; source {bash_profile}'.format(bash_profile=bash_profile))\n",
    "        outlines=stdout.readlines()  \n",
    "        resp=''.join(outlines)\n",
    "\n",
    "        bootstrap  = 'bootstrap_py35_data_laboratory_februs.sh'\n",
    "        remotepath = Path('./').as_posix()\n",
    "        localpath  = Path('/home/ektov-av/').as_posix()\n",
    "        remdir = ''\n",
    "        _ssh.putFiles(localpath, remotepath, bootstrap, destFolderName=remdir)\n",
    "\n",
    "        stdin,stdout,stderr=_ssh.ssh.exec_command('cd /home/ektov-av; chmod u+x ./{bootstrap}; ./{bootstrap}'.format(bootstrap=bootstrap))\n",
    "        outlines=stdout.readlines()  \n",
    "        resp=''.join(outlines)\n",
    "\n",
    "        remdir = 'python35-libs/lib/python3.5/site-packages/'\n",
    "        stdin,stdout,stderr=_ssh.ssh.exec_command('cd /home/ektov-av; mkdir -p {__dir}'.format(__dir=remdir))\n",
    "        outlines=stdout.readlines()  \n",
    "        resp=''.join(outlines)\n",
    "\n",
    "        pythondir = '/home/ektov-av/python35-libs/lib/python3.5/site-packages/'\n",
    "        stdin,stdout,stderr=_ssh.ssh.exec_command('cd /home/ektov-av; source .bash_profile; pip35 install yargy -t {__dir}'.format(__dir=pythondir))\n",
    "        outlines=stdout.readlines()  \n",
    "        resp=''.join(outlines)\n",
    "    except:\n",
    "        pass"
   ]
  },
  {
   "cell_type": "code",
   "execution_count": null,
   "metadata": {
    "collapsed": true,
    "scrolled": false
   },
   "outputs": [],
   "source": [
    "# remdir = '/home/ektov-av/python35-libs/lib/python3.5/site-packages/'\n",
    "# _ssh.putFiles(localpath, remotepath, file_name, destFolderName=remdir)"
   ]
  },
  {
   "cell_type": "code",
   "execution_count": null,
   "metadata": {
    "collapsed": true
   },
   "outputs": [],
   "source": [
    "# remotepath = Path('./data/').as_posix()\n",
    "# localpath  = Path.joinpath(Path(os.getcwd()),'csv').as_posix()\n",
    "# _ssh.getFiles(remotepath, localpath, file_name)"
   ]
  },
  {
   "cell_type": "code",
   "execution_count": null,
   "metadata": {
    "collapsed": true,
    "scrolled": true
   },
   "outputs": [],
   "source": [
    "# file_name  = 'avito_db_nedvizhimost_04.15.2019.csv'\n",
    "# remotepath = Path.joinpath(Path('/mnt/data/avito_parse/get/csv/'),file_name).as_posix()\n",
    "# localpath  = Path.joinpath(Path(os.getcwd()),'csv', file_name).as_posix()\n",
    "# sftp.get(remotepath, localpath)\n",
    "# sftp.close()"
   ]
  },
  {
   "cell_type": "markdown",
   "metadata": {},
   "source": [
    "### SPARK CONNECTOR"
   ]
  },
  {
   "cell_type": "code",
   "execution_count": 4,
   "metadata": {
    "scrolled": true
   },
   "outputs": [
    {
     "name": "stdout",
     "output_type": "stream",
     "text": [
      "dynamic_allocation is ON\n"
     ]
    }
   ],
   "source": [
    "sp = spark(schema='t_team_speech_analytics')"
   ]
  },
  {
   "cell_type": "code",
   "execution_count": 5,
   "metadata": {
    "collapsed": true,
    "scrolled": true
   },
   "outputs": [],
   "source": [
    "hive = sp.sql\n",
    "transcriptions = hive.table('t_team_speech_analytics.telemarketing')"
   ]
  },
  {
   "cell_type": "code",
   "execution_count": null,
   "metadata": {
    "collapsed": true
   },
   "outputs": [],
   "source": [
    "transcriptions.printSchema()"
   ]
  },
  {
   "cell_type": "code",
   "execution_count": 7,
   "metadata": {
    "scrolled": true
   },
   "outputs": [
    {
     "data": {
      "text/html": [
       "<div>\n",
       "<style scoped>\n",
       "    .dataframe tbody tr th:only-of-type {\n",
       "        vertical-align: middle;\n",
       "    }\n",
       "\n",
       "    .dataframe tbody tr th {\n",
       "        vertical-align: top;\n",
       "    }\n",
       "\n",
       "    .dataframe thead th {\n",
       "        text-align: right;\n",
       "    }\n",
       "</style>\n",
       "<table border=\"1\" class=\"dataframe\">\n",
       "  <thead>\n",
       "    <tr style=\"text-align: right;\">\n",
       "      <th></th>\n",
       "      <th>Dialogue_ID</th>\n",
       "      <th>Date</th>\n",
       "      <th>duration</th>\n",
       "      <th>Channel_0</th>\n",
       "      <th>Channel_1</th>\n",
       "      <th>Text</th>\n",
       "      <th>nvcswitchagentids</th>\n",
       "      <th>nvcdialednumbers</th>\n",
       "    </tr>\n",
       "  </thead>\n",
       "  <tbody>\n",
       "    <tr>\n",
       "      <th>0</th>\n",
       "      <td>6605395277561004793</td>\n",
       "      <td>2018-09-26 05:07:00</td>\n",
       "      <td>73</td>\n",
       "      <td>а. здравствуйте. да слушаю вас. я. я отвечаю. ...</td>\n",
       "      <td>добрый день. меня зовут ольга я специалист сбе...</td>\n",
       "      <td>Канал 0: а\\nКанал 1: добрый день\\nКанал 0: здр...</td>\n",
       "      <td>[4156, 54638]</td>\n",
       "      <td>[89174079449]</td>\n",
       "    </tr>\n",
       "    <tr>\n",
       "      <th>1</th>\n",
       "      <td>6605400783709078672</td>\n",
       "      <td>2018-09-26 05:28:00</td>\n",
       "      <td>36</td>\n",
       "      <td>аллё здравствуйте. нет. знаком а вы по какому ...</td>\n",
       "      <td>добрый день. меня зовут алексей я специалист с...</td>\n",
       "      <td>Канал 1: добрый день\\nКанал 0: аллё здравствуй...</td>\n",
       "      <td>[3999, 54135]</td>\n",
       "      <td>[89133601454]</td>\n",
       "    </tr>\n",
       "    <tr>\n",
       "      <th>2</th>\n",
       "      <td>6605405409388856779</td>\n",
       "      <td>2018-09-26 05:46:00</td>\n",
       "      <td>5</td>\n",
       "      <td>а. а. аллё. да да. да нет меня не интересует. ...</td>\n",
       "      <td>добрый день. добрый день а сбербанк специалист...</td>\n",
       "      <td>Канал 0: а\\nКанал 1: добрый день\\nКанал 0: а\\n...</td>\n",
       "      <td>[2541, 52016]</td>\n",
       "      <td>[89098237581]</td>\n",
       "    </tr>\n",
       "    <tr>\n",
       "      <th>3</th>\n",
       "      <td>6605405598367417813</td>\n",
       "      <td>2018-09-26 05:47:00</td>\n",
       "      <td>50</td>\n",
       "      <td>добрый. да. сергей. девушка давайте а потом я ...</td>\n",
       "      <td>добрый день. меня я специалист сбербанка. явля...</td>\n",
       "      <td>Канал 1: добрый день\\nКанал 0: добрый\\nКанал 1...</td>\n",
       "      <td>[54328, 4044]</td>\n",
       "      <td>[89227948043]</td>\n",
       "    </tr>\n",
       "  </tbody>\n",
       "</table>\n",
       "</div>"
      ],
      "text/plain": [
       "           Dialogue_ID                Date  duration  \\\n",
       "0  6605395277561004793 2018-09-26 05:07:00        73   \n",
       "1  6605400783709078672 2018-09-26 05:28:00        36   \n",
       "2  6605405409388856779 2018-09-26 05:46:00         5   \n",
       "3  6605405598367417813 2018-09-26 05:47:00        50   \n",
       "\n",
       "                                           Channel_0  \\\n",
       "0  а. здравствуйте. да слушаю вас. я. я отвечаю. ...   \n",
       "1  аллё здравствуйте. нет. знаком а вы по какому ...   \n",
       "2  а. а. аллё. да да. да нет меня не интересует. ...   \n",
       "3  добрый. да. сергей. девушка давайте а потом я ...   \n",
       "\n",
       "                                           Channel_1  \\\n",
       "0  добрый день. меня зовут ольга я специалист сбе...   \n",
       "1  добрый день. меня зовут алексей я специалист с...   \n",
       "2  добрый день. добрый день а сбербанк специалист...   \n",
       "3  добрый день. меня я специалист сбербанка. явля...   \n",
       "\n",
       "                                                Text nvcswitchagentids  \\\n",
       "0  Канал 0: а\\nКанал 1: добрый день\\nКанал 0: здр...     [4156, 54638]   \n",
       "1  Канал 1: добрый день\\nКанал 0: аллё здравствуй...     [3999, 54135]   \n",
       "2  Канал 0: а\\nКанал 1: добрый день\\nКанал 0: а\\n...     [2541, 52016]   \n",
       "3  Канал 1: добрый день\\nКанал 0: добрый\\nКанал 1...     [54328, 4044]   \n",
       "\n",
       "  nvcdialednumbers  \n",
       "0    [89174079449]  \n",
       "1    [89133601454]  \n",
       "2    [89098237581]  \n",
       "3    [89227948043]  "
      ]
     },
     "execution_count": 7,
     "metadata": {},
     "output_type": "execute_result"
    }
   ],
   "source": [
    "df = transcriptions.limit(4).show()\n",
    "df"
   ]
  },
  {
   "cell_type": "code",
   "execution_count": null,
   "metadata": {
    "collapsed": true
   },
   "outputs": [],
   "source": [
    "transcriptions_text = hive.table('t_team_speech_analytics.telemarketing') \\\n",
    "                .select('Dialogue_ID', 'Text')"
   ]
  },
  {
   "cell_type": "code",
   "execution_count": null,
   "metadata": {
    "collapsed": true
   },
   "outputs": [],
   "source": [
    "import os\n",
    "import shlex\n",
    "import subprocess\n",
    "\n",
    "def install_package(x):\n",
    "    import sys\n",
    "    sys.path.insert(0, '/home/ektov-av/python35-libs/lib/python3.5/site-packages/')\n",
    "    import yargy\n",
    "#     out, err = proc.communicate()\n",
    "    return yargy.__file__\n",
    "            \n",
    "# def install_package(x):\n",
    "#     out = subprocess.check_call('/opt/cloudera/parcels/PYENV.GPUAI-3.6.pyenv.p0.1/bin/pip3 install yargy ' \\\n",
    "#         '--user --index-url=http://mirror.ca.sbrf.ru/pypi/simple/ '\\\n",
    "#         '--extra-index-url=http://mirror.ca.sbrf.ru/pypi_old/simple '\\\n",
    "#         '--trusted-host=mirror.ca.sbrf.ru', shell=True, stderr=subprocess.PIPE)\n",
    "#     return out\n",
    "\n",
    "rdd = sp.sc.parallelize(list(range(sp.sc._jsc.sc().getExecutorMemoryStatus().size())))\n",
    "output = rdd.map(install_package).collect()\n",
    "output"
   ]
  },
  {
   "cell_type": "code",
   "execution_count": null,
   "metadata": {
    "collapsed": true
   },
   "outputs": [],
   "source": [
    "res = sp.get(input='news_monitoring_news_with_events', where='limit 100')"
   ]
  },
  {
   "cell_type": "code",
   "execution_count": null,
   "metadata": {
    "collapsed": true,
    "scrolled": true
   },
   "outputs": [],
   "source": [
    "res.show()"
   ]
  },
  {
   "cell_type": "code",
   "execution_count": null,
   "metadata": {
    "collapsed": true
   },
   "outputs": [],
   "source": []
  },
  {
   "cell_type": "code",
   "execution_count": null,
   "metadata": {
    "collapsed": true
   },
   "outputs": [],
   "source": []
  }
 ],
 "metadata": {
  "kernelspec": {
   "display_name": "Anaconda3",
   "language": "python",
   "name": "anaconda"
  },
  "language_info": {
   "codemirror_mode": {
    "name": "ipython",
    "version": 3
   },
   "file_extension": ".py",
   "mimetype": "text/x-python",
   "name": "python",
   "nbconvert_exporter": "python",
   "pygments_lexer": "ipython3",
   "version": "3.7.2"
  }
 },
 "nbformat": 4,
 "nbformat_minor": 2
}
