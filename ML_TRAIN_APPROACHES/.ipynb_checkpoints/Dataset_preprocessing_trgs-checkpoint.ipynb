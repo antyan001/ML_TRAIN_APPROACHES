{
 "cells": [
  {
   "cell_type": "code",
   "execution_count": 124,
   "metadata": {},
   "outputs": [],
   "source": [
    "import sys\n",
    "sys.path.insert(0, '/home/ektov-av/python35-libs/lib/python3.5/site-packages/') \n",
    "\n",
    "import pandas as pd\n",
    "import numpy as np\n",
    "import seaborn as sns\n",
    "import matplotlib.pyplot as plt\n",
    "import datetime\n",
    "import calendar\n",
    "import time\n",
    "import os\n",
    "import joblib\n",
    "import warnings\n",
    "    \n",
    "from sklearn.preprocessing import LabelEncoder, binarize\n",
    "\n",
    "warnings.filterwarnings('ignore')\n",
    "\n",
    "# from support_library.plot_support import *\n",
    "pd.set_option('display.max_columns', None)\n",
    "\n",
    "%matplotlib inline\n",
    "pd.options.display.max_rows = 1000\n",
    "pd.options.display.max_columns = 1000"
   ]
  },
  {
   "cell_type": "code",
   "execution_count": 125,
   "metadata": {
    "collapsed": true,
    "jupyter": {
     "outputs_hidden": true
    }
   },
   "outputs": [],
   "source": [
    "def add_months(date, months):\n",
    "    month = date.month - 1 + months\n",
    "    year = date.year + month // 12\n",
    "    month = month % 12 + 1\n",
    "    day = min(date.day, calendar.monthrange(year, month)[1])\n",
    "    return datetime.date(year, month, day)"
   ]
  },
  {
   "cell_type": "code",
   "execution_count": 126,
   "metadata": {
    "collapsed": true,
    "jupyter": {
     "outputs_hidden": true
    }
   },
   "outputs": [],
   "source": [
    "def get_path(folder, file):\n",
    "    return os.path.join(folder, file)"
   ]
  },
  {
   "cell_type": "code",
   "execution_count": 127,
   "metadata": {
    "collapsed": true,
    "jupyter": {
     "outputs_hidden": true
    }
   },
   "outputs": [],
   "source": [
    "folder='data_csv/deal'\n",
    "postfix='_mmb' #'_mmb'"
   ]
  },
  {
   "cell_type": "markdown",
   "metadata": {},
   "source": [
    "## Assign FLAG to a specified value depending on the problem kind:\n",
    "### -- set to 'test/train' if we want to generate a dataset with target variable  \n",
    "### -- set to 'validate' if we gonna check a prediction on the validation dataset"
   ]
  },
  {
   "cell_type": "code",
   "execution_count": 128,
   "metadata": {
    "collapsed": true,
    "jupyter": {
     "outputs_hidden": true
    }
   },
   "outputs": [],
   "source": [
    "FLAG='validate' # 'test/train'"
   ]
  },
  {
   "cell_type": "markdown",
   "metadata": {},
   "source": [
    "## Fetching Main-Mart Database"
   ]
  },
  {
   "cell_type": "code",
   "execution_count": 129,
   "metadata": {
    "collapsed": true,
    "jupyter": {
     "outputs_hidden": true
    }
   },
   "outputs": [],
   "source": [
    "df_columns_dict={}"
   ]
  },
  {
   "cell_type": "code",
   "execution_count": 130,
   "metadata": {
    "collapsed": true,
    "jupyter": {
     "outputs_hidden": true
    }
   },
   "outputs": [],
   "source": [
    "if FLAG == 'test/train':\n",
    "    df_kp_deal = pd.read_csv(get_path(folder, 'cvm_kp_deal_upd' + postfix + '.csv'), sep=';', \n",
    "                                                             compression='gzip', encoding='cp1251')\n",
    "elif FLAG == 'validate':\n",
    "    df_kp_deal = pd.read_csv(get_path(folder, 'cvm_vw_kp_deal' + '.csv'), sep=';', \n",
    "                                                             compression='gzip', encoding='cp1251')"
   ]
  },
  {
   "cell_type": "code",
   "execution_count": null,
   "metadata": {
    "scrolled": true
   },
   "outputs": [],
   "source": [
    "# df_kp_deal = df_kp_deal.rename(columns={'Unnamed: 0': 'IS_SOLD'})\n",
    "df_kp_deal.columns = df_kp_deal.columns.map(lambda x: x.lower())\n",
    "df_kp_deal.loc[:, 'date_create'] = pd.to_datetime(df_kp_deal['date_create'], format='%Y-%m-%d')\n",
    "df_kp_deal.loc[:, 'date_close']  = pd.to_datetime(df_kp_deal['date_close'], format='%Y-%m-%d')\n",
    "df_kp_deal.head()"
   ]
  },
  {
   "cell_type": "code",
   "execution_count": 132,
   "metadata": {
    "scrolled": true
   },
   "outputs": [
    {
     "data": {
      "text/plain": [
       "0"
      ]
     },
     "execution_count": 132,
     "metadata": {},
     "output_type": "execute_result"
    }
   ],
   "source": [
    "df_kp_deal.duplicated(subset=['inn', 'id']).sum()\n",
    "#df_kp_deal = df_kp_deal.drop_duplicates()"
   ]
  },
  {
   "cell_type": "code",
   "execution_count": 133,
   "metadata": {},
   "outputs": [
    {
     "data": {
      "text/plain": [
       "(19860, 18)"
      ]
     },
     "execution_count": 133,
     "metadata": {},
     "output_type": "execute_result"
    }
   ],
   "source": [
    "df_kp_deal.shape"
   ]
  },
  {
   "cell_type": "code",
   "execution_count": 134,
   "metadata": {
    "collapsed": true,
    "jupyter": {
     "outputs_hidden": true
    }
   },
   "outputs": [],
   "source": [
    "data=df_kp_deal"
   ]
  },
  {
   "cell_type": "code",
   "execution_count": 135,
   "metadata": {
    "collapsed": true,
    "jupyter": {
     "outputs_hidden": true
    }
   },
   "outputs": [],
   "source": [
    "if FLAG == 'test/train':\n",
    "    ckp_filter = data[(data['year_n']==2018) & (data['month_n']>0) & (data['ckp']=='ЦА-КРЕДСМАРТ')]\n",
    "    pr_gr = pd.concat([pd.DataFrame(ckp_filter.groupby(['ckp','year_n', 'month_n'])['is_sold'].count())\n",
    "                      ,pd.DataFrame(ckp_filter[ckp_filter['is_sold']==1].groupby(['ckp','year_n', 'month_n'])['is_sold'].count())\n",
    "                      ,pd.DataFrame(ckp_filter[ckp_filter['is_sold']==0].groupby(['ckp','year_n', 'month_n'])['is_sold'].count())\n",
    "                      ,], axis=1)\n",
    "    pr_gr.columns=['TOTAL', '1', '0']\n",
    "    pr_gr.head(20)"
   ]
  },
  {
   "cell_type": "code",
   "execution_count": 136,
   "metadata": {
    "collapsed": true,
    "jupyter": {
     "outputs_hidden": true
    },
    "scrolled": true
   },
   "outputs": [],
   "source": [
    "if FLAG == 'test/train':    \n",
    "    balance = pd.concat([df_kp_deal.groupby('product_group')['is_sold'].sum(), \n",
    "                         df_kp_deal.groupby('product_group')['is_sold'].count()], axis=1)\n",
    "    balance.columns = ['Sum of sold', 'Count']\n",
    "    balance['balance'] = balance['Sum of sold'] / balance['Count']*100\n",
    "    balance = balance.sort_values('balance', ascending=False)\n",
    "    balance"
   ]
  },
  {
   "cell_type": "code",
   "execution_count": 137,
   "metadata": {
    "collapsed": true,
    "jupyter": {
     "outputs_hidden": true
    }
   },
   "outputs": [],
   "source": [
    "if FLAG == 'test/train':\n",
    "    df_temp = df_kp_deal[['date_create', 'is_sold']]\n",
    "    df_temp = df_temp.set_index('date_create')\n",
    "    df_temp.groupby(pd.Grouper(freq='M'))['is_sold'].count().sort_index().plot(kind='bar', color='orange', figsize=(10,8))"
   ]
  },
  {
   "cell_type": "code",
   "execution_count": 138,
   "metadata": {
    "collapsed": true,
    "jupyter": {
     "outputs_hidden": true
    }
   },
   "outputs": [],
   "source": [
    "df_columns_dict['df_kp_deal']=df_kp_deal.columns.tolist()"
   ]
  },
  {
   "cell_type": "markdown",
   "metadata": {},
   "source": [
    "## Working with Client Managers' database. Historic Data over CM"
   ]
  },
  {
   "cell_type": "code",
   "execution_count": 139,
   "metadata": {
    "collapsed": true,
    "jupyter": {
     "outputs_hidden": true
    },
    "scrolled": true
   },
   "outputs": [],
   "source": [
    "df_kp_km = pd.read_csv(get_path(folder, 'cvm_kp_km_upd' + postfix + '.csv'), sep=';', \n",
    "                                                         compression='gzip', encoding='cp1251')"
   ]
  },
  {
   "cell_type": "code",
   "execution_count": null,
   "metadata": {
    "scrolled": true
   },
   "outputs": [],
   "source": [
    "# df_kp_km = df_kp_km.rename(columns={'Unnamed: 0': 'MONTH_'})\n",
    "df_kp_km.columns = df_kp_km.columns.map(lambda x: x.lower())\n",
    "df_kp_km.loc[:, 'month_'] = pd.to_datetime(df_kp_km['month_'], format='%Y-%m-%d')\n",
    "df_kp_km = df_kp_km.drop(['year_n', 'month_n'], axis = 1)\n",
    "df_kp_km.head()"
   ]
  },
  {
   "cell_type": "code",
   "execution_count": null,
   "metadata": {},
   "outputs": [],
   "source": [
    "df_kp_km.sort_values('month_').groupby(['month_']).sum()"
   ]
  },
  {
   "cell_type": "code",
   "execution_count": 142,
   "metadata": {},
   "outputs": [
    {
     "data": {
      "text/plain": [
       "<matplotlib.axes._subplots.AxesSubplot at 0x7f3cf262cc18>"
      ]
     },
     "execution_count": 142,
     "metadata": {},
     "output_type": "execute_result"
    },
    {
     "data": {
      "image/png": "[encoded data removed]",
      "text/plain": [
       "<Figure size 720x576 with 1 Axes>"
      ]
     },
     "metadata": {},
     "output_type": "display_data"
    }
   ],
   "source": [
    "df_temp = df_kp_km[['month_', 'sum_sold']]\n",
    "df_temp = df_temp.set_index('month_')\n",
    "df_temp.groupby(pd.Grouper(freq='M'))['sum_sold'].sum().sort_index().plot(kind='bar', color='orange', figsize=(10,8))"
   ]
  },
  {
   "cell_type": "code",
   "execution_count": 143,
   "metadata": {},
   "outputs": [
    {
     "data": {
      "text/plain": [
       "month_                         0\n",
       "vko_id                       160\n",
       "product                        0\n",
       "product_group                  0\n",
       "sum_sold                       0\n",
       "sum_sold_cumulate              0\n",
       "sum_refused                    0\n",
       "sum_refused_cumulate           0\n",
       "sum_sold_total               160\n",
       "sum_sold_total_cumulate      160\n",
       "sum_refused_total            160\n",
       "sum_refused_tota_cumulate    160\n",
       "dtype: int64"
      ]
     },
     "execution_count": 143,
     "metadata": {},
     "output_type": "execute_result"
    }
   ],
   "source": [
    "df_kp_km.isnull().sum()"
   ]
  },
  {
   "cell_type": "code",
   "execution_count": 144,
   "metadata": {},
   "outputs": [
    {
     "data": {
      "text/plain": [
       "(1170704, 12)"
      ]
     },
     "execution_count": 144,
     "metadata": {},
     "output_type": "execute_result"
    }
   ],
   "source": [
    "df_kp_km.shape"
   ]
  },
  {
   "cell_type": "code",
   "execution_count": 145,
   "metadata": {
    "collapsed": true,
    "jupyter": {
     "outputs_hidden": true
    }
   },
   "outputs": [],
   "source": [
    "df_kp_km = df_kp_km[~df_kp_km['vko_id'].isnull()]"
   ]
  },
  {
   "cell_type": "code",
   "execution_count": 146,
   "metadata": {
    "collapsed": true,
    "jupyter": {
     "outputs_hidden": true
    }
   },
   "outputs": [],
   "source": [
    "df_kp_km=df_kp_km.drop_duplicates()"
   ]
  },
  {
   "cell_type": "code",
   "execution_count": 147,
   "metadata": {
    "scrolled": true
   },
   "outputs": [
    {
     "data": {
      "text/plain": [
       "(1170544, 12)"
      ]
     },
     "execution_count": 147,
     "metadata": {},
     "output_type": "execute_result"
    }
   ],
   "source": [
    "df_kp_km.shape"
   ]
  },
  {
   "cell_type": "code",
   "execution_count": 148,
   "metadata": {
    "collapsed": true,
    "jupyter": {
     "outputs_hidden": true
    }
   },
   "outputs": [],
   "source": [
    "df_columns_dict['df_kp_deal']=df_kp_deal.columns.tolist()"
   ]
  },
  {
   "cell_type": "markdown",
   "metadata": {},
   "source": [
    "## Treatment of Historic Data over Companies"
   ]
  },
  {
   "cell_type": "code",
   "execution_count": 149,
   "metadata": {
    "collapsed": true,
    "jupyter": {
     "outputs_hidden": true
    },
    "scrolled": true
   },
   "outputs": [],
   "source": [
    "df_kp_company = pd.read_csv(get_path(folder, 'cvm_kp_company_upd' + postfix + '.csv'), sep=';', \n",
    "                                                         compression='gzip', encoding='cp1251')"
   ]
  },
  {
   "cell_type": "code",
   "execution_count": 150,
   "metadata": {},
   "outputs": [
    {
     "data": {
      "text/plain": [
       "(6135408, 14)"
      ]
     },
     "execution_count": 150,
     "metadata": {},
     "output_type": "execute_result"
    }
   ],
   "source": [
    "df_kp_company.shape"
   ]
  },
  {
   "cell_type": "code",
   "execution_count": null,
   "metadata": {
    "scrolled": true
   },
   "outputs": [],
   "source": [
    "# df_kp_company=df_kp_company.rename(columns={'Unnamed: 0': 'MONTH_'})\n",
    "df_kp_company.columns = df_kp_company.columns.map(lambda x: x.lower())\n",
    "df_kp_company = df_kp_company.drop(['year_n', 'month_n'], axis = 1)\n",
    "df_kp_company.loc[:, 'month_'] = pd.to_datetime(df_kp_company['month_'], format='%Y-%m-%d')\n",
    "df_kp_company.head()"
   ]
  },
  {
   "cell_type": "code",
   "execution_count": null,
   "metadata": {},
   "outputs": [],
   "source": [
    "df_kp_company.sort_values('month_').groupby(['month_']).sum()"
   ]
  },
  {
   "cell_type": "code",
   "execution_count": 153,
   "metadata": {},
   "outputs": [
    {
     "data": {
      "text/plain": [
       "<matplotlib.axes._subplots.AxesSubplot at 0x7f3c66dd20b8>"
      ]
     },
     "execution_count": 153,
     "metadata": {},
     "output_type": "execute_result"
    },
    {
     "data": {
      "image/png": "[encoded data removed]",
      "text/plain": [
       "<Figure size 720x576 with 1 Axes>"
      ]
     },
     "metadata": {},
     "output_type": "display_data"
    }
   ],
   "source": [
    "df_temp = df_kp_company[['month_', 'sum_sold']]\n",
    "df_temp = df_temp.set_index('month_')\n",
    "df_temp.groupby(pd.Grouper(freq='M'))['sum_sold'].sum().sort_index().plot(kind='bar', color='blue', figsize=(10,8))"
   ]
  },
  {
   "cell_type": "code",
   "execution_count": 154,
   "metadata": {},
   "outputs": [
    {
     "data": {
      "text/plain": [
       "month_                        0\n",
       "company_id                    0\n",
       "product                       0\n",
       "product_group                 0\n",
       "sum_sold                      0\n",
       "sum_sold_cumulate             0\n",
       "sum_refused                   0\n",
       "sum_refused_cumulate          0\n",
       "sum_sold_total                0\n",
       "sum_sold_total_cumulate       0\n",
       "sum_refused_total             0\n",
       "sum_refused_total_cumulate    0\n",
       "dtype: int64"
      ]
     },
     "execution_count": 154,
     "metadata": {},
     "output_type": "execute_result"
    }
   ],
   "source": [
    "df_kp_company.isnull().sum()"
   ]
  },
  {
   "cell_type": "code",
   "execution_count": 155,
   "metadata": {},
   "outputs": [
    {
     "data": {
      "text/plain": [
       "(6135408, 12)"
      ]
     },
     "execution_count": 155,
     "metadata": {},
     "output_type": "execute_result"
    }
   ],
   "source": [
    "df_kp_company.shape"
   ]
  },
  {
   "cell_type": "code",
   "execution_count": 156,
   "metadata": {
    "collapsed": true,
    "jupyter": {
     "outputs_hidden": true
    }
   },
   "outputs": [],
   "source": [
    "df_kp_company=df_kp_company.drop_duplicates()"
   ]
  },
  {
   "cell_type": "code",
   "execution_count": 157,
   "metadata": {},
   "outputs": [
    {
     "data": {
      "text/plain": [
       "(6135185, 12)"
      ]
     },
     "execution_count": 157,
     "metadata": {},
     "output_type": "execute_result"
    }
   ],
   "source": [
    "df_kp_company.shape"
   ]
  },
  {
   "cell_type": "code",
   "execution_count": 158,
   "metadata": {},
   "outputs": [
    {
     "data": {
      "text/plain": [
       "49"
      ]
     },
     "execution_count": 158,
     "metadata": {},
     "output_type": "execute_result"
    }
   ],
   "source": [
    "df_kp_company.duplicated(subset=['month_', 'company_id', 'product']).sum()"
   ]
  },
  {
   "cell_type": "code",
   "execution_count": 159,
   "metadata": {
    "collapsed": true,
    "jupyter": {
     "outputs_hidden": true
    }
   },
   "outputs": [],
   "source": [
    "df_columns_dict['df_kp_company']=df_kp_company.columns.tolist()"
   ]
  },
  {
   "cell_type": "markdown",
   "metadata": {},
   "source": [
    "## Aggregates"
   ]
  },
  {
   "cell_type": "code",
   "execution_count": null,
   "metadata": {
    "scrolled": true
   },
   "outputs": [],
   "source": [
    "df_kp_km_aggregates = df_kp_km.groupby(['vko_id', 'month_', 'product_group']).sum().reset_index()\n",
    "df_kp_km_aggregates.head()"
   ]
  },
  {
   "cell_type": "code",
   "execution_count": 161,
   "metadata": {
    "collapsed": true,
    "jupyter": {
     "outputs_hidden": true
    }
   },
   "outputs": [],
   "source": [
    "df_kp_company_aggregates = df_kp_company.groupby(['company_id', 'month_', 'product_group']).sum().reset_index()"
   ]
  },
  {
   "cell_type": "code",
   "execution_count": 162,
   "metadata": {
    "collapsed": true,
    "jupyter": {
     "outputs_hidden": true
    }
   },
   "outputs": [],
   "source": [
    "df_columns_dict['df_kp_km_aggregates']=df_kp_km_aggregates.columns.tolist()\n",
    "df_columns_dict['df_kp_company_aggregates']=df_kp_company_aggregates.columns.tolist()"
   ]
  },
  {
   "cell_type": "markdown",
   "metadata": {},
   "source": [
    "## Aggregating statistics for Products being sold by CM"
   ]
  },
  {
   "cell_type": "code",
   "execution_count": 163,
   "metadata": {
    "collapsed": true,
    "jupyter": {
     "outputs_hidden": true
    }
   },
   "outputs": [],
   "source": [
    "df_kp_share_prod = pd.read_csv(get_path(folder, 'cvm_kp_km_share_prod_upd' + '.csv'), sep=';', \n",
    "                                                         compression='gzip', encoding='cp1251')"
   ]
  },
  {
   "cell_type": "code",
   "execution_count": null,
   "metadata": {
    "scrolled": true
   },
   "outputs": [],
   "source": [
    "# df_kp_share_prod=df_kp_share_prod.rename(columns={'Unnamed: 0': 'MONTH_'})\n",
    "df_kp_share_prod.columns = df_kp_share_prod.columns.map(lambda x: x.lower())\n",
    "df_kp_share_prod = df_kp_share_prod.drop(['year_n', 'month_n'], axis = 1)\n",
    "df_kp_share_prod.loc[:, 'month_'] = pd.to_datetime(df_kp_share_prod['month_'], format='%Y-%m-%d')\n",
    "df_kp_share_prod.head()"
   ]
  },
  {
   "cell_type": "code",
   "execution_count": null,
   "metadata": {},
   "outputs": [],
   "source": [
    "df_kp_share_prod.groupby(['month_']).sum()"
   ]
  },
  {
   "cell_type": "code",
   "execution_count": null,
   "metadata": {},
   "outputs": [],
   "source": [
    "df_kp_share_prod.groupby(['month_', 'vko_id']).sum().groupby(['month_']).sum()"
   ]
  },
  {
   "cell_type": "code",
   "execution_count": 167,
   "metadata": {},
   "outputs": [
    {
     "data": {
      "text/plain": [
       "month_\n",
       "2017-08-01    8311\n",
       "2017-09-01    8321\n",
       "2017-10-01    8456\n",
       "2017-11-01    8553\n",
       "2017-12-01    8508\n",
       "2018-01-01    8606\n",
       "2018-02-01    8559\n",
       "2018-03-01    8594\n",
       "2018-04-01    8495\n",
       "2018-05-01    8397\n",
       "2018-06-01    8371\n",
       "2018-07-01    8422\n",
       "2018-08-01    8567\n",
       "2018-09-01    8261\n",
       "2018-10-01    8355\n",
       "Name: vko_id, dtype: int64"
      ]
     },
     "execution_count": 167,
     "metadata": {},
     "output_type": "execute_result"
    }
   ],
   "source": [
    "df_kp_share_prod.sort_values('month_').groupby('month_')['vko_id'].count()"
   ]
  },
  {
   "cell_type": "code",
   "execution_count": 168,
   "metadata": {},
   "outputs": [
    {
     "data": {
      "text/plain": [
       "0"
      ]
     },
     "execution_count": 168,
     "metadata": {},
     "output_type": "execute_result"
    }
   ],
   "source": [
    "df_kp_share_prod.duplicated(subset=['month_', 'vko_id']).sum()"
   ]
  },
  {
   "cell_type": "code",
   "execution_count": 169,
   "metadata": {},
   "outputs": [
    {
     "data": {
      "text/plain": [
       "(126791, 43)"
      ]
     },
     "execution_count": 169,
     "metadata": {},
     "output_type": "execute_result"
    }
   ],
   "source": [
    "df_kp_share_prod.shape"
   ]
  },
  {
   "cell_type": "code",
   "execution_count": null,
   "metadata": {},
   "outputs": [],
   "source": [
    "df_kp_share_prod.isnull().sum()"
   ]
  },
  {
   "cell_type": "code",
   "execution_count": 171,
   "metadata": {},
   "outputs": [
    {
     "name": "stdout",
     "output_type": "stream",
     "text": [
      "obsluzh_beneficiar has been deleted\n",
      "priem_platezh has been deleted\n"
     ]
    }
   ],
   "source": [
    "for col in df_kp_share_prod.columns:\n",
    "    if df_kp_share_prod[col].isnull().sum() == df_kp_share_prod.shape[0]:\n",
    "        df_kp_share_prod.drop([col], axis = 1, inplace=True)\n",
    "        print(col+' has been deleted')"
   ]
  },
  {
   "cell_type": "code",
   "execution_count": 172,
   "metadata": {
    "collapsed": true,
    "jupyter": {
     "outputs_hidden": true
    }
   },
   "outputs": [],
   "source": [
    "df_kp_share_prod = df_kp_share_prod[~df_kp_share_prod['total_client_cnt'].isnull()]"
   ]
  },
  {
   "cell_type": "code",
   "execution_count": 173,
   "metadata": {},
   "outputs": [
    {
     "data": {
      "text/plain": [
       "(126776, 41)"
      ]
     },
     "execution_count": 173,
     "metadata": {},
     "output_type": "execute_result"
    }
   ],
   "source": [
    "df_kp_share_prod.shape"
   ]
  },
  {
   "cell_type": "code",
   "execution_count": 174,
   "metadata": {
    "collapsed": true,
    "jupyter": {
     "outputs_hidden": true
    }
   },
   "outputs": [],
   "source": [
    "for col in set(df_kp_share_prod.columns) - set(['month_', 'year_n', 'month_n', 'total_client_cnt', 'vko_id']):\n",
    "    df_kp_share_prod[col + '_ratio'] = df_kp_share_prod[col] / df_kp_share_prod['total_client_cnt']"
   ]
  },
  {
   "cell_type": "code",
   "execution_count": null,
   "metadata": {},
   "outputs": [],
   "source": [
    "df_kp_share_prod.head()"
   ]
  },
  {
   "cell_type": "code",
   "execution_count": 176,
   "metadata": {
    "collapsed": true,
    "jupyter": {
     "outputs_hidden": true
    }
   },
   "outputs": [],
   "source": [
    "df_columns_dict['df_kp_share_prod']=df_kp_share_prod.columns.tolist()"
   ]
  },
  {
   "cell_type": "markdown",
   "metadata": {},
   "source": [
    "## Difference between current deal and previous one (by Companies)"
   ]
  },
  {
   "cell_type": "code",
   "execution_count": 177,
   "metadata": {
    "collapsed": true,
    "jupyter": {
     "outputs_hidden": true
    }
   },
   "outputs": [],
   "source": [
    "df_comp_dealdiff = pd.read_csv(get_path(folder, 'cvm_kp_comp_dealdiff_upd'+ postfix +'.csv'), sep=';', \n",
    "                                                         compression='gzip', encoding='cp1251')"
   ]
  },
  {
   "cell_type": "code",
   "execution_count": 178,
   "metadata": {},
   "outputs": [
    {
     "data": {
      "text/html": [
       "<div>\n",
       "<style scoped>\n",
       "    .dataframe tbody tr th:only-of-type {\n",
       "        vertical-align: middle;\n",
       "    }\n",
       "\n",
       "    .dataframe tbody tr th {\n",
       "        vertical-align: top;\n",
       "    }\n",
       "\n",
       "    .dataframe thead th {\n",
       "        text-align: right;\n",
       "    }\n",
       "</style>\n",
       "<table border=\"1\" class=\"dataframe\">\n",
       "  <thead>\n",
       "    <tr style=\"text-align: right;\">\n",
       "      <th></th>\n",
       "      <th>company_id</th>\n",
       "      <th>date_create</th>\n",
       "      <th>days_between</th>\n",
       "      <th>is_previous_sold</th>\n",
       "    </tr>\n",
       "  </thead>\n",
       "  <tbody>\n",
       "    <tr>\n",
       "      <th>0</th>\n",
       "      <td>1-28MP1RP</td>\n",
       "      <td>2018-10-02</td>\n",
       "      <td>40</td>\n",
       "      <td>0</td>\n",
       "    </tr>\n",
       "    <tr>\n",
       "      <th>1</th>\n",
       "      <td>1-28MP1RP</td>\n",
       "      <td>2018-08-23</td>\n",
       "      <td>153</td>\n",
       "      <td>0</td>\n",
       "    </tr>\n",
       "    <tr>\n",
       "      <th>2</th>\n",
       "      <td>1-28OIKJA</td>\n",
       "      <td>2018-06-09</td>\n",
       "      <td>22</td>\n",
       "      <td>0</td>\n",
       "    </tr>\n",
       "    <tr>\n",
       "      <th>3</th>\n",
       "      <td>1-28OIKJA</td>\n",
       "      <td>2018-05-18</td>\n",
       "      <td>72</td>\n",
       "      <td>1</td>\n",
       "    </tr>\n",
       "    <tr>\n",
       "      <th>4</th>\n",
       "      <td>1-28Q7JHA</td>\n",
       "      <td>2018-06-07</td>\n",
       "      <td>80</td>\n",
       "      <td>0</td>\n",
       "    </tr>\n",
       "  </tbody>\n",
       "</table>\n",
       "</div>"
      ],
      "text/plain": [
       "  company_id date_create  days_between  is_previous_sold\n",
       "0  1-28MP1RP  2018-10-02            40                 0\n",
       "1  1-28MP1RP  2018-08-23           153                 0\n",
       "2  1-28OIKJA  2018-06-09            22                 0\n",
       "3  1-28OIKJA  2018-05-18            72                 1\n",
       "4  1-28Q7JHA  2018-06-07            80                 0"
      ]
     },
     "execution_count": 178,
     "metadata": {},
     "output_type": "execute_result"
    }
   ],
   "source": [
    "# df_comp_dealdiff = df_comp_dealdiff.rename(columns={'Unnamed: 0': 'company_id'})\n",
    "df_comp_dealdiff.columns = df_comp_dealdiff.columns.map(lambda x: x.lower())\n",
    "df_comp_dealdiff = df_comp_dealdiff.drop(['year_n', 'month_n'], axis = 1)\n",
    "df_comp_dealdiff.loc[:, 'date_create'] = pd.to_datetime(df_comp_dealdiff['date_create'], format='%Y-%m-%d')\n",
    "df_comp_dealdiff.head()"
   ]
  },
  {
   "cell_type": "code",
   "execution_count": 179,
   "metadata": {
    "collapsed": true,
    "jupyter": {
     "outputs_hidden": true
    }
   },
   "outputs": [],
   "source": [
    "df_comp_dealdiff.drop_duplicates(inplace=True)"
   ]
  },
  {
   "cell_type": "code",
   "execution_count": 180,
   "metadata": {},
   "outputs": [
    {
     "data": {
      "text/plain": [
       "(74322, 4)"
      ]
     },
     "execution_count": 180,
     "metadata": {},
     "output_type": "execute_result"
    }
   ],
   "source": [
    "df_comp_dealdiff.shape"
   ]
  },
  {
   "cell_type": "code",
   "execution_count": 181,
   "metadata": {
    "collapsed": true,
    "jupyter": {
     "outputs_hidden": true
    }
   },
   "outputs": [],
   "source": [
    "df_columns_dict['df_comp_dealdiff']=df_comp_dealdiff.columns.tolist()"
   ]
  },
  {
   "cell_type": "markdown",
   "metadata": {},
   "source": [
    "## Difference between current deal and previous one (by CM)"
   ]
  },
  {
   "cell_type": "code",
   "execution_count": 182,
   "metadata": {
    "collapsed": true,
    "jupyter": {
     "outputs_hidden": true
    }
   },
   "outputs": [],
   "source": [
    "df_km_dealdiff = pd.read_csv(get_path(folder, 'cvm_kp_km_dealdiff_upd'+ postfix +'.csv'), sep=';', \n",
    "                                                         compression='gzip', encoding='cp1251')"
   ]
  },
  {
   "cell_type": "code",
   "execution_count": 183,
   "metadata": {},
   "outputs": [
    {
     "data": {
      "text/html": [
       "<div>\n",
       "<style scoped>\n",
       "    .dataframe tbody tr th:only-of-type {\n",
       "        vertical-align: middle;\n",
       "    }\n",
       "\n",
       "    .dataframe tbody tr th {\n",
       "        vertical-align: top;\n",
       "    }\n",
       "\n",
       "    .dataframe thead th {\n",
       "        text-align: right;\n",
       "    }\n",
       "</style>\n",
       "<table border=\"1\" class=\"dataframe\">\n",
       "  <thead>\n",
       "    <tr style=\"text-align: right;\">\n",
       "      <th></th>\n",
       "      <th>vko_id</th>\n",
       "      <th>date_create</th>\n",
       "      <th>days_between</th>\n",
       "      <th>is_previous_sold</th>\n",
       "    </tr>\n",
       "  </thead>\n",
       "  <tbody>\n",
       "    <tr>\n",
       "      <th>0</th>\n",
       "      <td>1-O1RWNL0</td>\n",
       "      <td>2018-05-10</td>\n",
       "      <td>2</td>\n",
       "      <td>0</td>\n",
       "    </tr>\n",
       "    <tr>\n",
       "      <th>1</th>\n",
       "      <td>1-O1RWNL0</td>\n",
       "      <td>2018-05-08</td>\n",
       "      <td>15</td>\n",
       "      <td>1</td>\n",
       "    </tr>\n",
       "    <tr>\n",
       "      <th>2</th>\n",
       "      <td>1-O1RWNL0</td>\n",
       "      <td>2018-04-23</td>\n",
       "      <td>3</td>\n",
       "      <td>0</td>\n",
       "    </tr>\n",
       "    <tr>\n",
       "      <th>3</th>\n",
       "      <td>1-O1RWNL0</td>\n",
       "      <td>2018-04-20</td>\n",
       "      <td>2</td>\n",
       "      <td>1</td>\n",
       "    </tr>\n",
       "    <tr>\n",
       "      <th>4</th>\n",
       "      <td>1-O1RWNL0</td>\n",
       "      <td>2018-04-09</td>\n",
       "      <td>10</td>\n",
       "      <td>1</td>\n",
       "    </tr>\n",
       "  </tbody>\n",
       "</table>\n",
       "</div>"
      ],
      "text/plain": [
       "      vko_id date_create  days_between  is_previous_sold\n",
       "0  1-O1RWNL0  2018-05-10             2                 0\n",
       "1  1-O1RWNL0  2018-05-08            15                 1\n",
       "2  1-O1RWNL0  2018-04-23             3                 0\n",
       "3  1-O1RWNL0  2018-04-20             2                 1\n",
       "4  1-O1RWNL0  2018-04-09            10                 1"
      ]
     },
     "execution_count": 183,
     "metadata": {},
     "output_type": "execute_result"
    }
   ],
   "source": [
    "# df_km_dealdiff = df_km_dealdiff.rename(columns={'Unnamed: 0': 'vko_id'})\n",
    "df_km_dealdiff.columns = df_km_dealdiff.columns.map(lambda x: x.lower())\n",
    "df_km_dealdiff = df_km_dealdiff.drop(['year_n', 'month_n'], axis = 1)\n",
    "df_km_dealdiff.loc[:, 'date_create'] = pd.to_datetime(df_km_dealdiff['date_create'], format='%Y-%m-%d')\n",
    "df_km_dealdiff.head()"
   ]
  },
  {
   "cell_type": "code",
   "execution_count": 184,
   "metadata": {
    "collapsed": true,
    "jupyter": {
     "outputs_hidden": true
    }
   },
   "outputs": [],
   "source": [
    "df_km_dealdiff.drop_duplicates(inplace=True)"
   ]
  },
  {
   "cell_type": "code",
   "execution_count": 185,
   "metadata": {},
   "outputs": [
    {
     "data": {
      "text/plain": [
       "(142502, 4)"
      ]
     },
     "execution_count": 185,
     "metadata": {},
     "output_type": "execute_result"
    }
   ],
   "source": [
    "df_km_dealdiff.shape"
   ]
  },
  {
   "cell_type": "code",
   "execution_count": 186,
   "metadata": {},
   "outputs": [
    {
     "data": {
      "text/plain": [
       "['vko_id', 'date_create', 'days_between', 'is_previous_sold']"
      ]
     },
     "execution_count": 186,
     "metadata": {},
     "output_type": "execute_result"
    }
   ],
   "source": [
    "df_km_dealdiff.columns.tolist()"
   ]
  },
  {
   "cell_type": "code",
   "execution_count": 187,
   "metadata": {
    "collapsed": true,
    "jupyter": {
     "outputs_hidden": true
    }
   },
   "outputs": [],
   "source": [
    "df_columns_dict['df_km_dealdiff']=df_km_dealdiff.columns.tolist()"
   ]
  },
  {
   "cell_type": "code",
   "execution_count": 188,
   "metadata": {},
   "outputs": [
    {
     "data": {
      "text/plain": [
       "['pkl_store/df_columns_dict.pkl']"
      ]
     },
     "execution_count": 188,
     "metadata": {},
     "output_type": "execute_result"
    }
   ],
   "source": [
    "df_columns_dict.keys()\n",
    "joblib.dump(df_columns_dict, get_path('pkl_store', 'df_columns_dict.pkl'))"
   ]
  },
  {
   "cell_type": "markdown",
   "metadata": {},
   "source": [
    "## Joining Databases with Aggregates on Main Mart Database"
   ]
  },
  {
   "cell_type": "code",
   "execution_count": 189,
   "metadata": {
    "collapsed": true,
    "jupyter": {
     "outputs_hidden": true
    }
   },
   "outputs": [],
   "source": [
    "start_shape = df_kp_deal.shape[0]"
   ]
  },
  {
   "cell_type": "code",
   "execution_count": 190,
   "metadata": {
    "collapsed": true,
    "jupyter": {
     "outputs_hidden": true
    }
   },
   "outputs": [],
   "source": [
    "df = df_kp_deal"
   ]
  },
  {
   "cell_type": "code",
   "execution_count": 191,
   "metadata": {},
   "outputs": [
    {
     "data": {
      "text/plain": [
       "(19860, 18)"
      ]
     },
     "execution_count": 191,
     "metadata": {},
     "output_type": "execute_result"
    }
   ],
   "source": [
    "df.shape"
   ]
  },
  {
   "cell_type": "code",
   "execution_count": 192,
   "metadata": {
    "collapsed": true,
    "jupyter": {
     "outputs_hidden": true
    }
   },
   "outputs": [],
   "source": [
    "df['kp_prev_1'] = (pd.to_datetime({'day': 1, 'month': df['date_create'].dt.month, \\\n",
    "            'year': df['date_create'].dt.year}) - pd.offsets.MonthOffset(1))\n",
    "df['kp_prev_2'] = (pd.to_datetime({'day': 1, 'month': df['date_create'].dt.month, \\\n",
    "            'year': df['date_create'].dt.year}) - pd.offsets.MonthOffset(2))\n",
    "df['kp_prev_3'] = (pd.to_datetime({'day': 1, 'month': df['date_create'].dt.month, \\\n",
    "            'year': df['date_create'].dt.year}) - pd.offsets.MonthOffset(3))"
   ]
  },
  {
   "cell_type": "code",
   "execution_count": null,
   "metadata": {},
   "outputs": [],
   "source": [
    "df_kp_company.loc[df_kp_company.duplicated(['company_id', 'month_', 'product'], keep=False),:].sort_values(['company_id', 'month_', 'product'], ascending=True)"
   ]
  },
  {
   "cell_type": "code",
   "execution_count": 194,
   "metadata": {
    "collapsed": true,
    "jupyter": {
     "outputs_hidden": true
    }
   },
   "outputs": [],
   "source": [
    "df_kp_company.drop_duplicates(['company_id', 'month_', 'product'], keep=False, inplace=True)"
   ]
  },
  {
   "cell_type": "code",
   "execution_count": 195,
   "metadata": {},
   "outputs": [
    {
     "name": "stdout",
     "output_type": "stream",
     "text": [
      "Roll back by 1 month\n",
      "CM: Databases intersection is equal to 16640 rows\n",
      "COMPANIES: Databases intersection is equal to 1535 rows\n",
      "Roll back by 2 month\n",
      "CM: Databases intersection is equal to 16616 rows\n",
      "COMPANIES: Databases intersection is equal to 1529 rows\n",
      "Roll back by 3 month\n",
      "CM: Databases intersection is equal to 16593 rows\n",
      "COMPANIES: Databases intersection is equal to 1525 rows\n"
     ]
    }
   ],
   "source": [
    "for i in [1,2,3]:\n",
    "    print('Roll back by %.d month' % i)\n",
    "    df = df.merge(   df_kp_km, how='left', left_on=['vko_id', 'kp_prev_%.d' % i, 'product'], \\\n",
    "                     right_on=['vko_id', 'month_', 'product'], suffixes=('', '_km_shift_%.d' % i))\n",
    "    count_kp_km = df.merge(df_kp_km, how='inner', left_on=['vko_id', 'kp_prev_%.d' % i, 'product'], \\\n",
    "             right_on=['vko_id', 'month_', 'product']).shape[0]\n",
    "    \n",
    "    print('CM: Databases intersection is equal to %.d rows' % (count_kp_km))\n",
    "    \n",
    "    df = df.merge(  df_kp_company, how='left', left_on=['company_id', 'kp_prev_%.d' % i, 'product'], \\\n",
    "                    right_on=['company_id', 'month_', 'product'], suffixes=('', '_company_shift_%.d' % i))\n",
    "    count_kp_company = df.merge(df_kp_company, how='inner', left_on=['company_id', 'kp_prev_%.d' % i, 'product'], \\\n",
    "             right_on=['company_id', 'month_', 'product']).shape[0]\n",
    "    \n",
    "    print('COMPANIES: Databases intersection is equal to %.d rows' % (count_kp_company))"
   ]
  },
  {
   "cell_type": "code",
   "execution_count": null,
   "metadata": {
    "scrolled": true
   },
   "outputs": [],
   "source": [
    "df.head()\n",
    "#df[df['sum_sold'].isnull()].head()"
   ]
  },
  {
   "cell_type": "code",
   "execution_count": 197,
   "metadata": {},
   "outputs": [
    {
     "data": {
      "text/plain": [
       "0"
      ]
     },
     "execution_count": 197,
     "metadata": {},
     "output_type": "execute_result"
    }
   ],
   "source": [
    "start_shape - df.shape[0]"
   ]
  },
  {
   "cell_type": "code",
   "execution_count": 198,
   "metadata": {},
   "outputs": [
    {
     "data": {
      "text/plain": [
       "0"
      ]
     },
     "execution_count": 198,
     "metadata": {},
     "output_type": "execute_result"
    }
   ],
   "source": [
    "len(set(df['company_id']) - set(df_kp_deal['company_id']))"
   ]
  },
  {
   "cell_type": "markdown",
   "metadata": {},
   "source": [
    "## Joining Databases with aggregates"
   ]
  },
  {
   "cell_type": "code",
   "execution_count": 199,
   "metadata": {},
   "outputs": [
    {
     "data": {
      "text/html": [
       "<div>\n",
       "<style scoped>\n",
       "    .dataframe tbody tr th:only-of-type {\n",
       "        vertical-align: middle;\n",
       "    }\n",
       "\n",
       "    .dataframe tbody tr th {\n",
       "        vertical-align: top;\n",
       "    }\n",
       "\n",
       "    .dataframe thead th {\n",
       "        text-align: right;\n",
       "    }\n",
       "</style>\n",
       "<table border=\"1\" class=\"dataframe\">\n",
       "  <thead>\n",
       "    <tr style=\"text-align: right;\">\n",
       "      <th></th>\n",
       "      <th>company_id</th>\n",
       "      <th>month_</th>\n",
       "      <th>product_group</th>\n",
       "      <th>sum_sold</th>\n",
       "      <th>sum_sold_cumulate</th>\n",
       "      <th>sum_refused</th>\n",
       "      <th>sum_refused_cumulate</th>\n",
       "      <th>sum_sold_total</th>\n",
       "      <th>sum_sold_total_cumulate</th>\n",
       "      <th>sum_refused_total</th>\n",
       "      <th>sum_refused_total_cumulate</th>\n",
       "    </tr>\n",
       "  </thead>\n",
       "  <tbody>\n",
       "  </tbody>\n",
       "</table>\n",
       "</div>"
      ],
      "text/plain": [
       "Empty DataFrame\n",
       "Columns: [company_id, month_, product_group, sum_sold, sum_sold_cumulate, sum_refused, sum_refused_cumulate, sum_sold_total, sum_sold_total_cumulate, sum_refused_total, sum_refused_total_cumulate]\n",
       "Index: []"
      ]
     },
     "execution_count": 199,
     "metadata": {},
     "output_type": "execute_result"
    }
   ],
   "source": [
    "df_kp_company_aggregates.loc[df_kp_company_aggregates.duplicated(['company_id', 'month_', 'product_group'], keep=False),:].sort_values(['company_id', 'month_', 'product_group'], ascending=True)"
   ]
  },
  {
   "cell_type": "code",
   "execution_count": 200,
   "metadata": {
    "scrolled": true
   },
   "outputs": [
    {
     "name": "stdout",
     "output_type": "stream",
     "text": [
      "Roll back by 1 month\n",
      "CM: Databases intersection is equal to 18736 rows\n",
      "COMPANY: Databases intersection is equal to 2569 rows\n",
      "Roll back by 2 month\n",
      "CM: Databases intersection is equal to 18710 rows\n",
      "COMPANY: Databases intersection is equal to 2562 rows\n",
      "Roll back by 3 month\n",
      "CM: Databases intersection is equal to 18684 rows\n",
      "COMPANY: Databases intersection is equal to 2558 rows\n"
     ]
    }
   ],
   "source": [
    "for i in [1, 2, 3]:\n",
    "    print('Roll back by %.d month' % i)\n",
    "    df = df.merge(df_kp_km_aggregates, how='left', left_on=['vko_id', 'kp_prev_%.d' % i, 'product_group'], \\\n",
    "             right_on=['vko_id', 'month_', 'product_group'], suffixes=('', '_agg_km_shift_%.d' % i))\n",
    "    count_kp_km = df.merge(df_kp_km_aggregates, how='inner', \n",
    "                             left_on =['vko_id', 'kp_prev_%.d' % i, 'product_group'], \\\n",
    "                             right_on=['vko_id', 'month_', 'product_group']).shape[0]\n",
    "    print('CM: Databases intersection is equal to %.d rows' % (count_kp_km))\n",
    "    \n",
    "    df = df.merge(df_kp_company_aggregates, how='left', left_on=['company_id', 'kp_prev_%.d' % i, 'product_group'], \\\n",
    "             right_on=['company_id', 'month_', 'product_group'], suffixes=('', '_agg_company_shift_%.d' % i))\n",
    "    count_kp_company = df.merge(df_kp_company_aggregates, how='inner', \n",
    "                                left_on=['company_id', 'kp_prev_%.d' % i, 'product_group'], \\\n",
    "                                right_on=['company_id', 'month_', 'product_group']).shape[0]\n",
    "    print('COMPANY: Databases intersection is equal to %.d rows' % (count_kp_company))"
   ]
  },
  {
   "cell_type": "code",
   "execution_count": 201,
   "metadata": {},
   "outputs": [
    {
     "data": {
      "text/plain": [
       "0"
      ]
     },
     "execution_count": 201,
     "metadata": {},
     "output_type": "execute_result"
    }
   ],
   "source": [
    "start_shape - df.shape[0]"
   ]
  },
  {
   "cell_type": "code",
   "execution_count": 202,
   "metadata": {
    "scrolled": true
   },
   "outputs": [
    {
     "data": {
      "text/plain": [
       "array(['2017-08-01T00:00:00.000000000', '2017-09-01T00:00:00.000000000',\n",
       "       '2017-10-01T00:00:00.000000000', '2017-11-01T00:00:00.000000000',\n",
       "       '2017-12-01T00:00:00.000000000', '2018-01-01T00:00:00.000000000',\n",
       "       '2018-02-01T00:00:00.000000000', '2018-03-01T00:00:00.000000000',\n",
       "       '2018-04-01T00:00:00.000000000', '2018-05-01T00:00:00.000000000',\n",
       "       '2018-06-01T00:00:00.000000000', '2018-07-01T00:00:00.000000000',\n",
       "       '2018-08-01T00:00:00.000000000', '2018-09-01T00:00:00.000000000',\n",
       "       '2018-10-01T00:00:00.000000000', '2018-11-01T00:00:00.000000000'],\n",
       "      dtype='datetime64[ns]')"
      ]
     },
     "execution_count": 202,
     "metadata": {},
     "output_type": "execute_result"
    }
   ],
   "source": [
    "df_kp_company_aggregates['month_'].sort_values().unique()"
   ]
  },
  {
   "cell_type": "markdown",
   "metadata": {},
   "source": [
    "## Joining df_kp_share_prod Database"
   ]
  },
  {
   "cell_type": "code",
   "execution_count": 203,
   "metadata": {},
   "outputs": [
    {
     "data": {
      "text/plain": [
       "(126776, 79)"
      ]
     },
     "execution_count": 203,
     "metadata": {},
     "output_type": "execute_result"
    }
   ],
   "source": [
    "df_kp_share_prod.shape"
   ]
  },
  {
   "cell_type": "code",
   "execution_count": 204,
   "metadata": {},
   "outputs": [
    {
     "data": {
      "text/plain": [
       "0"
      ]
     },
     "execution_count": 204,
     "metadata": {},
     "output_type": "execute_result"
    }
   ],
   "source": [
    "df_kp_share_prod.duplicated().sum()"
   ]
  },
  {
   "cell_type": "code",
   "execution_count": null,
   "metadata": {
    "scrolled": true
   },
   "outputs": [],
   "source": [
    "df_kp_share_prod.head()"
   ]
  },
  {
   "cell_type": "code",
   "execution_count": 206,
   "metadata": {},
   "outputs": [
    {
     "name": "stdout",
     "output_type": "stream",
     "text": [
      "Roll back by 1 month\n",
      "df_kp_share_prod: Databases intersection is equal to 18777 rows\n",
      "Roll back by 2 month\n",
      "df_kp_share_prod: Databases intersection is equal to 18184 rows\n",
      "Roll back by 3 month\n",
      "df_kp_share_prod: Databases intersection is equal to 17720 rows\n"
     ]
    }
   ],
   "source": [
    "for i in [1, 2, 3]:\n",
    "    print('Roll back by %.d month' % i)\n",
    "    df = df.merge(df_kp_share_prod, how='left', left_on=['vko_id', 'kp_prev_%.d' % i], \\\n",
    "             right_on=['vko_id', 'month_'], suffixes=('', '_share_prod_shift_%.d' % i))\n",
    "    count = df.merge(df_kp_share_prod, how='inner', left_on=['vko_id', 'kp_prev_%.d' % i], \\\n",
    "             right_on=['vko_id', 'month_'], suffixes=('', '_share_prod_shift_%.d' % i)).shape[0]\n",
    "    print('df_kp_share_prod: Databases intersection is equal to %.d rows' % (count))"
   ]
  },
  {
   "cell_type": "code",
   "execution_count": 207,
   "metadata": {},
   "outputs": [
    {
     "data": {
      "text/plain": [
       "0"
      ]
     },
     "execution_count": 207,
     "metadata": {},
     "output_type": "execute_result"
    }
   ],
   "source": [
    "start_shape - df.shape[0]"
   ]
  },
  {
   "cell_type": "markdown",
   "metadata": {},
   "source": [
    "## Joining cvm_kp_comp_dealdiff_mmb"
   ]
  },
  {
   "cell_type": "code",
   "execution_count": 208,
   "metadata": {},
   "outputs": [
    {
     "data": {
      "text/plain": [
       "0"
      ]
     },
     "execution_count": 208,
     "metadata": {},
     "output_type": "execute_result"
    }
   ],
   "source": [
    "df_comp_dealdiff.duplicated(['company_id', 'date_create']).sum()"
   ]
  },
  {
   "cell_type": "code",
   "execution_count": 209,
   "metadata": {},
   "outputs": [
    {
     "data": {
      "text/plain": [
       "41501"
      ]
     },
     "execution_count": 209,
     "metadata": {},
     "output_type": "execute_result"
    }
   ],
   "source": [
    "len(set(df_comp_dealdiff['company_id']) - set(df['company_id']))"
   ]
  },
  {
   "cell_type": "code",
   "execution_count": 210,
   "metadata": {
    "collapsed": true,
    "jupyter": {
     "outputs_hidden": true
    }
   },
   "outputs": [],
   "source": [
    "df = df.merge(df_comp_dealdiff, how='left', on =['company_id', 'date_create'], suffixes=('', '_comp_dealdiff'))"
   ]
  },
  {
   "cell_type": "code",
   "execution_count": 211,
   "metadata": {},
   "outputs": [
    {
     "data": {
      "text/plain": [
       "0"
      ]
     },
     "execution_count": 211,
     "metadata": {},
     "output_type": "execute_result"
    }
   ],
   "source": [
    "start_shape - df.shape[0]"
   ]
  },
  {
   "cell_type": "markdown",
   "metadata": {},
   "source": [
    "## Joining cvm_kp_km_dealdiff_mmb"
   ]
  },
  {
   "cell_type": "code",
   "execution_count": 212,
   "metadata": {
    "collapsed": true,
    "jupyter": {
     "outputs_hidden": true
    }
   },
   "outputs": [],
   "source": [
    "df = df.merge(df_km_dealdiff, how='left', on=['vko_id', 'date_create'], suffixes=('', '_km_dealdiff'))"
   ]
  },
  {
   "cell_type": "code",
   "execution_count": 213,
   "metadata": {
    "collapsed": true,
    "jupyter": {
     "outputs_hidden": true
    }
   },
   "outputs": [],
   "source": [
    "#df.shape[0] - df.merge(df_km_dealdiff, how='inner', on=['vko_id', 'date_create']).shape[0]"
   ]
  },
  {
   "cell_type": "code",
   "execution_count": 214,
   "metadata": {},
   "outputs": [
    {
     "data": {
      "text/plain": [
       "0"
      ]
     },
     "execution_count": 214,
     "metadata": {},
     "output_type": "execute_result"
    }
   ],
   "source": [
    "start_shape - df.shape[0]"
   ]
  },
  {
   "cell_type": "code",
   "execution_count": 215,
   "metadata": {},
   "outputs": [
    {
     "data": {
      "text/plain": [
       "(19860, 373)"
      ]
     },
     "execution_count": 215,
     "metadata": {},
     "output_type": "execute_result"
    }
   ],
   "source": [
    "df.shape"
   ]
  },
  {
   "cell_type": "code",
   "execution_count": null,
   "metadata": {
    "scrolled": true
   },
   "outputs": [],
   "source": [
    "df.head()"
   ]
  },
  {
   "cell_type": "markdown",
   "metadata": {},
   "source": [
    "## Joining with triggers database"
   ]
  },
  {
   "cell_type": "code",
   "execution_count": null,
   "metadata": {},
   "outputs": [],
   "source": [
    "df_trg = pd.read_csv(get_path('data_csv', 'all_camp_deals_trg_new.csv'), sep=';', encoding='utf8', compression='gzip')\n",
    "df_trg.columns=df_trg.columns.map(lambda x: x.lower())\n",
    "df_trg.prod_gr_atb_seg=df_trg.prod_gr_atb_seg.apply(lambda x: x.strip())\n",
    "df_trg.head(30) "
   ]
  },
  {
   "cell_type": "code",
   "execution_count": 218,
   "metadata": {
    "collapsed": true,
    "jupyter": {
     "outputs_hidden": true
    }
   },
   "outputs": [],
   "source": [
    "df_trg.loc[:, 'date_create'] = pd.to_datetime(df_trg['date_create'], format='%Y-%m-%d')"
   ]
  },
  {
   "cell_type": "code",
   "execution_count": 219,
   "metadata": {
    "collapsed": true,
    "jupyter": {
     "outputs_hidden": true
    },
    "scrolled": true
   },
   "outputs": [],
   "source": [
    "df_trg_task=df_trg.groupby(['task_id'])['task_id'].count().to_frame().rename(columns={'task_id':'task_id_cnt'}).reset_index()"
   ]
  },
  {
   "cell_type": "code",
   "execution_count": 220,
   "metadata": {
    "scrolled": true
   },
   "outputs": [
    {
     "data": {
      "text/html": [
       "<div>\n",
       "<style scoped>\n",
       "    .dataframe tbody tr th:only-of-type {\n",
       "        vertical-align: middle;\n",
       "    }\n",
       "\n",
       "    .dataframe tbody tr th {\n",
       "        vertical-align: top;\n",
       "    }\n",
       "\n",
       "    .dataframe thead th {\n",
       "        text-align: right;\n",
       "    }\n",
       "</style>\n",
       "<table border=\"1\" class=\"dataframe\">\n",
       "  <thead>\n",
       "    <tr style=\"text-align: right;\">\n",
       "      <th></th>\n",
       "      <th>task_id</th>\n",
       "      <th>task_id_cnt</th>\n",
       "    </tr>\n",
       "  </thead>\n",
       "  <tbody>\n",
       "    <tr>\n",
       "      <th>32</th>\n",
       "      <td>1-HRULMX2</td>\n",
       "      <td>7</td>\n",
       "    </tr>\n",
       "    <tr>\n",
       "      <th>74</th>\n",
       "      <td>1-HRUWJW3</td>\n",
       "      <td>7</td>\n",
       "    </tr>\n",
       "  </tbody>\n",
       "</table>\n",
       "</div>"
      ],
      "text/plain": [
       "      task_id  task_id_cnt\n",
       "32  1-HRULMX2            7\n",
       "74  1-HRUWJW3            7"
      ]
     },
     "execution_count": 220,
     "metadata": {},
     "output_type": "execute_result"
    }
   ],
   "source": [
    "df_trg_task[df_trg_task['task_id_cnt']==7]"
   ]
  },
  {
   "cell_type": "code",
   "execution_count": null,
   "metadata": {},
   "outputs": [],
   "source": [
    "df_trg[df_trg['task_id']=='1-HRULMX2']"
   ]
  },
  {
   "cell_type": "markdown",
   "metadata": {},
   "source": [
    "### Group by triplet: `company_id`, `inn`, `date_create`"
   ]
  },
  {
   "cell_type": "code",
   "execution_count": 222,
   "metadata": {
    "collapsed": true,
    "jupyter": {
     "outputs_hidden": true
    },
    "scrolled": true
   },
   "outputs": [],
   "source": [
    "df_trg_comp=df_trg.groupby(['company_id','inn','date_create'])['company_id','inn','date_create'].count().rename(columns={'company_id':'company_id_cnt', 'inn':'inn_cnt','date_create':'date_create_cnt'})"
   ]
  },
  {
   "cell_type": "code",
   "execution_count": 223,
   "metadata": {
    "collapsed": true,
    "jupyter": {
     "outputs_hidden": true
    },
    "scrolled": true
   },
   "outputs": [],
   "source": [
    "df_trg_comp.reset_index(inplace=True)"
   ]
  },
  {
   "cell_type": "code",
   "execution_count": 224,
   "metadata": {},
   "outputs": [
    {
     "data": {
      "text/html": [
       "<div>\n",
       "<style scoped>\n",
       "    .dataframe tbody tr th:only-of-type {\n",
       "        vertical-align: middle;\n",
       "    }\n",
       "\n",
       "    .dataframe tbody tr th {\n",
       "        vertical-align: top;\n",
       "    }\n",
       "\n",
       "    .dataframe thead th {\n",
       "        text-align: right;\n",
       "    }\n",
       "</style>\n",
       "<table border=\"1\" class=\"dataframe\">\n",
       "  <thead>\n",
       "    <tr style=\"text-align: right;\">\n",
       "      <th></th>\n",
       "      <th>company_id</th>\n",
       "      <th>inn</th>\n",
       "      <th>date_create</th>\n",
       "      <th>company_id_cnt</th>\n",
       "      <th>inn_cnt</th>\n",
       "      <th>date_create_cnt</th>\n",
       "    </tr>\n",
       "  </thead>\n",
       "  <tbody>\n",
       "    <tr>\n",
       "      <th>9688</th>\n",
       "      <td>1-3BA8WQ</td>\n",
       "      <td>2314014569</td>\n",
       "      <td>2017-07-21</td>\n",
       "      <td>7</td>\n",
       "      <td>7</td>\n",
       "      <td>7</td>\n",
       "    </tr>\n",
       "  </tbody>\n",
       "</table>\n",
       "</div>"
      ],
      "text/plain": [
       "     company_id         inn date_create  company_id_cnt  inn_cnt  \\\n",
       "9688   1-3BA8WQ  2314014569  2017-07-21               7        7   \n",
       "\n",
       "      date_create_cnt  \n",
       "9688                7  "
      ]
     },
     "execution_count": 224,
     "metadata": {},
     "output_type": "execute_result"
    }
   ],
   "source": [
    "df_trg_comp[df_trg_comp['company_id']=='1-3BA8WQ']"
   ]
  },
  {
   "cell_type": "code",
   "execution_count": 225,
   "metadata": {
    "collapsed": true,
    "jupyter": {
     "outputs_hidden": true
    },
    "scrolled": true
   },
   "outputs": [],
   "source": [
    "df_trg_comp.rename(columns={'date_create':'date_create_trg'}, inplace=True)\n",
    "df_trg_comp.drop(columns=['inn_cnt','date_create_cnt'],inplace=True)"
   ]
  },
  {
   "cell_type": "code",
   "execution_count": 226,
   "metadata": {},
   "outputs": [
    {
     "data": {
      "text/html": [
       "<div>\n",
       "<style scoped>\n",
       "    .dataframe tbody tr th:only-of-type {\n",
       "        vertical-align: middle;\n",
       "    }\n",
       "\n",
       "    .dataframe tbody tr th {\n",
       "        vertical-align: top;\n",
       "    }\n",
       "\n",
       "    .dataframe thead th {\n",
       "        text-align: right;\n",
       "    }\n",
       "</style>\n",
       "<table border=\"1\" class=\"dataframe\">\n",
       "  <thead>\n",
       "    <tr style=\"text-align: right;\">\n",
       "      <th></th>\n",
       "      <th>company_id</th>\n",
       "      <th>inn</th>\n",
       "      <th>date_create_trg</th>\n",
       "      <th>company_id_cnt</th>\n",
       "    </tr>\n",
       "  </thead>\n",
       "  <tbody>\n",
       "    <tr>\n",
       "      <th>0</th>\n",
       "      <td>1-105DWZV</td>\n",
       "      <td>246313769438</td>\n",
       "      <td>2018-02-08</td>\n",
       "      <td>1</td>\n",
       "    </tr>\n",
       "    <tr>\n",
       "      <th>1</th>\n",
       "      <td>1-105E06B</td>\n",
       "      <td>7017312233</td>\n",
       "      <td>2018-04-17</td>\n",
       "      <td>1</td>\n",
       "    </tr>\n",
       "    <tr>\n",
       "      <th>2</th>\n",
       "      <td>1-105EK9C</td>\n",
       "      <td>541910020377</td>\n",
       "      <td>2018-06-28</td>\n",
       "      <td>1</td>\n",
       "    </tr>\n",
       "    <tr>\n",
       "      <th>3</th>\n",
       "      <td>1-105O7SN</td>\n",
       "      <td>7536129087</td>\n",
       "      <td>2018-02-19</td>\n",
       "      <td>1</td>\n",
       "    </tr>\n",
       "    <tr>\n",
       "      <th>4</th>\n",
       "      <td>1-105PJV8</td>\n",
       "      <td>276027480</td>\n",
       "      <td>2018-04-13</td>\n",
       "      <td>2</td>\n",
       "    </tr>\n",
       "  </tbody>\n",
       "</table>\n",
       "</div>"
      ],
      "text/plain": [
       "  company_id           inn date_create_trg  company_id_cnt\n",
       "0  1-105DWZV  246313769438      2018-02-08               1\n",
       "1  1-105E06B    7017312233      2018-04-17               1\n",
       "2  1-105EK9C  541910020377      2018-06-28               1\n",
       "3  1-105O7SN    7536129087      2018-02-19               1\n",
       "4  1-105PJV8     276027480      2018-04-13               2"
      ]
     },
     "execution_count": 226,
     "metadata": {},
     "output_type": "execute_result"
    }
   ],
   "source": [
    "df_trg_comp.head()"
   ]
  },
  {
   "cell_type": "code",
   "execution_count": 234,
   "metadata": {
    "scrolled": true
   },
   "outputs": [
    {
     "data": {
      "text/plain": [
       "(32926, 28587)"
      ]
     },
     "execution_count": 234,
     "metadata": {},
     "output_type": "execute_result"
    }
   ],
   "source": [
    "len(df_trg_comp['company_id']), len(set(df_trg_comp['company_id'])-set(df['company_id']))"
   ]
  },
  {
   "cell_type": "code",
   "execution_count": 247,
   "metadata": {
    "scrolled": true
   },
   "outputs": [
    {
     "data": {
      "text/plain": [
       "0"
      ]
     },
     "execution_count": 247,
     "metadata": {},
     "output_type": "execute_result"
    }
   ],
   "source": [
    "df_trg_comp.duplicated(['company_id','inn','date_create_trg']).sum()"
   ]
  },
  {
   "cell_type": "markdown",
   "metadata": {},
   "source": [
    "### Group by `company_id` and `tr_id`"
   ]
  },
  {
   "cell_type": "code",
   "execution_count": 263,
   "metadata": {
    "scrolled": true
   },
   "outputs": [
    {
     "data": {
      "text/html": [
       "<div>\n",
       "<style scoped>\n",
       "    .dataframe tbody tr th:only-of-type {\n",
       "        vertical-align: middle;\n",
       "    }\n",
       "\n",
       "    .dataframe tbody tr th {\n",
       "        vertical-align: top;\n",
       "    }\n",
       "\n",
       "    .dataframe thead th {\n",
       "        text-align: right;\n",
       "    }\n",
       "</style>\n",
       "<table border=\"1\" class=\"dataframe\">\n",
       "  <thead>\n",
       "    <tr style=\"text-align: right;\">\n",
       "      <th></th>\n",
       "      <th>company_id</th>\n",
       "      <th>tr_id</th>\n",
       "      <th>trg_count</th>\n",
       "      <th>tr_id_cnt</th>\n",
       "    </tr>\n",
       "  </thead>\n",
       "  <tbody>\n",
       "    <tr>\n",
       "      <th>0</th>\n",
       "      <td>1-105DWZV</td>\n",
       "      <td>47</td>\n",
       "      <td>1</td>\n",
       "      <td>1</td>\n",
       "    </tr>\n",
       "    <tr>\n",
       "      <th>1</th>\n",
       "      <td>1-105E06B</td>\n",
       "      <td>41</td>\n",
       "      <td>1</td>\n",
       "      <td>1</td>\n",
       "    </tr>\n",
       "    <tr>\n",
       "      <th>2</th>\n",
       "      <td>1-105EK9C</td>\n",
       "      <td>47</td>\n",
       "      <td>1</td>\n",
       "      <td>1</td>\n",
       "    </tr>\n",
       "    <tr>\n",
       "      <th>3</th>\n",
       "      <td>1-105O7SN</td>\n",
       "      <td>78</td>\n",
       "      <td>1</td>\n",
       "      <td>1</td>\n",
       "    </tr>\n",
       "    <tr>\n",
       "      <th>4</th>\n",
       "      <td>1-105PJV8</td>\n",
       "      <td>35</td>\n",
       "      <td>1</td>\n",
       "      <td>1</td>\n",
       "    </tr>\n",
       "  </tbody>\n",
       "</table>\n",
       "</div>"
      ],
      "text/plain": [
       "  company_id  tr_id  trg_count  tr_id_cnt\n",
       "0  1-105DWZV     47          1          1\n",
       "1  1-105E06B     41          1          1\n",
       "2  1-105EK9C     47          1          1\n",
       "3  1-105O7SN     78          1          1\n",
       "4  1-105PJV8     35          1          1"
      ]
     },
     "execution_count": 263,
     "metadata": {},
     "output_type": "execute_result"
    }
   ],
   "source": [
    "df_trg_comp=df_trg.groupby(['company_id','tr_id'])['company_id','tr_id'].count().rename(columns={'company_id':'company_id_cnt', 'tr_id':'tr_id_cnt'})\n",
    "df_trg_comp.reset_index(inplace=True)\n",
    "df_trg_comp.rename(columns={'company_id_cnt':'trg_count'}, inplace=True)\n",
    "#df_trg_comp.drop(columns=['tr_id_cnt'],inplace=True)\n",
    "df_trg_comp.head()"
   ]
  },
  {
   "cell_type": "code",
   "execution_count": 254,
   "metadata": {},
   "outputs": [
    {
     "data": {
      "text/plain": [
       "(31741, 28587)"
      ]
     },
     "execution_count": 254,
     "metadata": {},
     "output_type": "execute_result"
    }
   ],
   "source": [
    "len(df_trg_comp), len(set(df_trg_comp['company_id'])-set(df['company_id']))"
   ]
  },
  {
   "cell_type": "code",
   "execution_count": 255,
   "metadata": {},
   "outputs": [
    {
     "data": {
      "text/plain": [
       "0"
      ]
     },
     "execution_count": 255,
     "metadata": {},
     "output_type": "execute_result"
    }
   ],
   "source": [
    "df_trg_comp.duplicated(['company_id','inn']).sum()"
   ]
  },
  {
   "cell_type": "markdown",
   "metadata": {},
   "source": [
    "### Joining df with df_trg_comp"
   ]
  },
  {
   "cell_type": "code",
   "execution_count": 256,
   "metadata": {
    "collapsed": true,
    "jupyter": {
     "outputs_hidden": true
    }
   },
   "outputs": [],
   "source": [
    "df_cp=df.copy()"
   ]
  },
  {
   "cell_type": "code",
   "execution_count": 257,
   "metadata": {},
   "outputs": [
    {
     "data": {
      "text/plain": [
       "(19860, 373)"
      ]
     },
     "execution_count": 257,
     "metadata": {},
     "output_type": "execute_result"
    }
   ],
   "source": [
    "df_cp.shape"
   ]
  },
  {
   "cell_type": "code",
   "execution_count": 258,
   "metadata": {
    "collapsed": true,
    "jupyter": {
     "outputs_hidden": true
    }
   },
   "outputs": [],
   "source": [
    "df_cp = df_cp.merge(df_trg_comp, how='left', left_on =['company_id','inn'], \\\n",
    "                                             right_on=['company_id','inn'], suffixes=('', '_trgs_%.d'))"
   ]
  },
  {
   "cell_type": "code",
   "execution_count": 259,
   "metadata": {},
   "outputs": [
    {
     "data": {
      "text/plain": [
       "(19860, 374)"
      ]
     },
     "execution_count": 259,
     "metadata": {},
     "output_type": "execute_result"
    }
   ],
   "source": [
    "df_cp.shape"
   ]
  },
  {
   "cell_type": "code",
   "execution_count": 260,
   "metadata": {},
   "outputs": [
    {
     "data": {
      "text/plain": [
       "3505"
      ]
     },
     "execution_count": 260,
     "metadata": {},
     "output_type": "execute_result"
    }
   ],
   "source": [
    "len(df_cp[df_cp['trg_count']>0])"
   ]
  },
  {
   "cell_type": "code",
   "execution_count": null,
   "metadata": {
    "collapsed": true,
    "jupyter": {
     "outputs_hidden": true
    }
   },
   "outputs": [],
   "source": []
  },
  {
   "cell_type": "markdown",
   "metadata": {},
   "source": [
    "## Cleaning dataset"
   ]
  },
  {
   "cell_type": "code",
   "execution_count": 109,
   "metadata": {
    "collapsed": true,
    "jupyter": {
     "outputs_hidden": true
    }
   },
   "outputs": [],
   "source": [
    "coltypes=df.dtypes.to_dict()"
   ]
  },
  {
   "cell_type": "code",
   "execution_count": null,
   "metadata": {},
   "outputs": [],
   "source": [
    "coltypes"
   ]
  },
  {
   "cell_type": "code",
   "execution_count": 111,
   "metadata": {
    "collapsed": true,
    "jupyter": {
     "outputs_hidden": true
    },
    "scrolled": true
   },
   "outputs": [],
   "source": [
    "df=df.T.drop_duplicates().T"
   ]
  },
  {
   "cell_type": "code",
   "execution_count": 112,
   "metadata": {
    "collapsed": true,
    "jupyter": {
     "outputs_hidden": true
    }
   },
   "outputs": [],
   "source": [
    "for col in df.columns:\n",
    "    if col in list(coltypes.keys()):\n",
    "        df[col]=df[col].astype(coltypes[col], copy=False)"
   ]
  },
  {
   "cell_type": "markdown",
   "metadata": {},
   "source": [
    "## Sort `date_create` field in ascending order"
   ]
  },
  {
   "cell_type": "code",
   "execution_count": 120,
   "metadata": {
    "collapsed": true,
    "jupyter": {
     "outputs_hidden": true
    }
   },
   "outputs": [],
   "source": [
    "df.sort_values('date_create', ascending=True, inplace=True)"
   ]
  },
  {
   "cell_type": "code",
   "execution_count": null,
   "metadata": {
    "scrolled": true
   },
   "outputs": [],
   "source": [
    "import re\n",
    "colsdel = (c for c in df.columns if re.search('(product_group_|month__|date_create_trg)[_trgs_\\d+|km_shift_\\d+|company_shift_\\d+]*', c.lower()))\n",
    "colsdel=list(colsdel)\n",
    "colsdel"
   ]
  },
  {
   "cell_type": "code",
   "execution_count": 117,
   "metadata": {
    "scrolled": true
   },
   "outputs": [
    {
     "data": {
      "text/plain": [
       "['id',\n",
       " 'vko_id',\n",
       " 'company_id',\n",
       " 'inn',\n",
       " 'ckp_id',\n",
       " 'year_n',\n",
       " 'month_n',\n",
       " 'date_create',\n",
       " 'date_close',\n",
       " 'kp_prev_1',\n",
       " 'kp_prev_2',\n",
       " 'kp_prev_3',\n",
       " 'month_',\n",
       " 'ckp',\n",
       " 'type_object',\n",
       " 'product_group_km_shift_1',\n",
       " 'month__company_shift_1',\n",
       " 'product_group_company_shift_1',\n",
       " 'month__km_shift_2',\n",
       " 'product_group_km_shift_2',\n",
       " 'month__company_shift_2',\n",
       " 'product_group_company_shift_2',\n",
       " 'month__km_shift_3',\n",
       " 'product_group_km_shift_3',\n",
       " 'month__company_shift_3',\n",
       " 'product_group_company_shift_3',\n",
       " 'month__agg_km_shift_1',\n",
       " 'month__agg_company_shift_1',\n",
       " 'month__agg_km_shift_2',\n",
       " 'month__agg_company_shift_2',\n",
       " 'month__agg_km_shift_3',\n",
       " 'month__agg_company_shift_3',\n",
       " 'month__share_prod_shift_1',\n",
       " 'month__share_prod_shift_2',\n",
       " 'month__share_prod_shift_3',\n",
       " 'date_create_trg',\n",
       " 'date_create_trg_trgs_2',\n",
       " 'date_create_trg_trgs_3']"
      ]
     },
     "execution_count": 117,
     "metadata": {},
     "output_type": "execute_result"
    }
   ],
   "source": [
    "cols_for_drop = ['id', 'vko_id', 'company_id', 'inn', 'ckp_id', 'year_n', 'month_n', \n",
    "                 'date_create', 'date_close',\n",
    "                 'kp_prev_1', 'kp_prev_2','kp_prev_3', 'month_','ckp', 'type_object']\n",
    "cols_for_drop.extend(colsdel)\n",
    "cols_for_drop"
   ]
  },
  {
   "cell_type": "markdown",
   "metadata": {},
   "source": [
    "list(set(df['product_group']) - set(df['product_group_km_shift_3']))"
   ]
  },
  {
   "cell_type": "markdown",
   "metadata": {},
   "source": [
    "df['is_previous_sold'].isnull().sum()-df['is_previous_sold_km_dealdiff'].isnull().sum()"
   ]
  },
  {
   "cell_type": "markdown",
   "metadata": {},
   "source": [
    "d=abs(df['is_previous_sold']-df['is_previous_sold_km_dealdiff'])\n",
    "d=d.fillna(-1)\n",
    "d[d==0].count()"
   ]
  },
  {
   "cell_type": "markdown",
   "metadata": {},
   "source": [
    "d=abs(df['days_between']-df['days_between_km_dealdiff'])\n",
    "d=d.fillna(-1)\n",
    "d[d>=1].count()\n"
   ]
  },
  {
   "cell_type": "code",
   "execution_count": 118,
   "metadata": {
    "collapsed": true,
    "jupyter": {
     "outputs_hidden": true
    }
   },
   "outputs": [],
   "source": [
    "df = df.drop(cols_for_drop, axis=1, errors='ignore')"
   ]
  },
  {
   "cell_type": "code",
   "execution_count": null,
   "metadata": {
    "scrolled": true
   },
   "outputs": [],
   "source": [
    "df.head()"
   ]
  },
  {
   "cell_type": "code",
   "execution_count": null,
   "metadata": {
    "scrolled": true,
    "tags": []
   },
   "outputs": [],
   "source": [
    "null_compare = pd.DataFrame(df.isnull().sum(), columns=['train_null_count'])\n",
    "null_compare['train_null_ratio'] = null_compare['train_null_count'] / df.shape[0] * 100\n",
    "null_compare"
   ]
  },
  {
   "cell_type": "code",
   "execution_count": 126,
   "metadata": {
    "collapsed": true,
    "jupyter": {
     "outputs_hidden": true
    }
   },
   "outputs": [],
   "source": [
    "if FLAG == 'test/train':\n",
    "    dropnull=null_compare[null_compare['train_null_ratio']>90.].index.tolist()\n",
    "    joblib.dump(dropnull, get_path('pkl_store','dropnullcol_lst.pkl'))\n",
    "elif FLAG == 'validate':\n",
    "    dropnull=joblib.load(get_path('pkl_store','dropnullcol_lst.pkl'))"
   ]
  },
  {
   "cell_type": "code",
   "execution_count": 127,
   "metadata": {
    "collapsed": true,
    "jupyter": {
     "outputs_hidden": true
    }
   },
   "outputs": [],
   "source": [
    "df = df.drop(dropnull, axis=1, errors='ignore')"
   ]
  },
  {
   "cell_type": "code",
   "execution_count": 128,
   "metadata": {},
   "outputs": [
    {
     "data": {
      "text/plain": [
       "(19860, 268)"
      ]
     },
     "execution_count": 128,
     "metadata": {},
     "output_type": "execute_result"
    }
   ],
   "source": [
    "df.shape"
   ]
  },
  {
   "cell_type": "code",
   "execution_count": 129,
   "metadata": {
    "collapsed": true,
    "jupyter": {
     "outputs_hidden": true
    }
   },
   "outputs": [],
   "source": [
    "if FLAG == 'test/train':\n",
    "    df.to_pickle(get_path('pkl_store', 'total_dataset_unencoded.pkl'))\n",
    "elif FLAG == 'validate':\n",
    "    df.to_pickle(get_path('pkl_store', 'test_dataset_unencoded.pkl'))"
   ]
  },
  {
   "cell_type": "markdown",
   "metadata": {},
   "source": [
    "## Label encoding"
   ]
  },
  {
   "cell_type": "code",
   "execution_count": 136,
   "metadata": {
    "collapsed": true,
    "jupyter": {
     "outputs_hidden": true
    }
   },
   "outputs": [],
   "source": [
    "from label_encoder import SoftLabelEncoder"
   ]
  },
  {
   "cell_type": "code",
   "execution_count": 137,
   "metadata": {
    "collapsed": true,
    "jupyter": {
     "outputs_hidden": true
    }
   },
   "outputs": [],
   "source": [
    "label_encoders = {}\n",
    "for col in df.dtypes[df.dtypes == 'O'].index:\n",
    "    le = SoftLabelEncoder()\n",
    "    df[col] = le.fit_transform(df[col].fillna('NaN'))\n",
    "    label_encoders[col] = le"
   ]
  },
  {
   "cell_type": "code",
   "execution_count": 138,
   "metadata": {
    "collapsed": true,
    "jupyter": {
     "outputs_hidden": true
    }
   },
   "outputs": [],
   "source": [
    "df.to_pickle(get_path('pkl_store', 'total_dataset_encod.pkl'))"
   ]
  },
  {
   "cell_type": "code",
   "execution_count": 139,
   "metadata": {},
   "outputs": [
    {
     "data": {
      "text/plain": [
       "['pkl_store/label_encoders.pkl']"
      ]
     },
     "execution_count": 139,
     "metadata": {},
     "output_type": "execute_result"
    }
   ],
   "source": [
    "joblib.dump(label_encoders, get_path('pkl_store', 'label_encoders.pkl'))"
   ]
  },
  {
   "cell_type": "code",
   "execution_count": 143,
   "metadata": {
    "collapsed": true,
    "jupyter": {
     "outputs_hidden": true
    }
   },
   "outputs": [],
   "source": [
    "col_name='product_group'\n",
    "le = joblib.load(get_path('pkl_store', 'label_encoders.pkl'))[col_name]"
   ]
  },
  {
   "cell_type": "code",
   "execution_count": 145,
   "metadata": {},
   "outputs": [
    {
     "data": {
      "text/plain": [
       "(dict_keys(['ВНЕШНИЙ МАЛЫЙ СМАРТ', 'ИНФОРМАЦИОННЫЕ УСЛУГИ', 'ФАКТОРИНГ', 'ВЕКСЕЛЯ', 'CASH MANAGEMENT', 'ПАКЕТЫ УСЛУГ', 'ИНВЕСТИЦИОННЫЕ ПРОДУКТЫ', 'БИЗНЕС-КАРТА', 'КАРТА ДАЛЬНОБОЙЩИКА', 'КОНВЕРСИОННЫЕ ОПЕРАЦИИ', 'КРЕДИТОВАНИЕ', 'ВНЕШНИЙ МИКРО СМАРТ', 'ЗАРПЛАТНЫЕ ПРОЕКТЫ', 'АРЕНДА СЕЙФОВ', 'ЭКВАЙРИНГ', 'РОЗНИЧНЫЕ ПРОДУКТЫ', 'ИНКАССАЦИЯ', 'ДЕПОЗИТНЫЕ СЕРТИФИКАТЫ', 'ВАЛЮТНЫЙ КОНТРОЛЬ', 'СТРАХОВАНИЕ', 'ДОСТАВКА ДЕНЕЖНОЙ НАЛИЧНОСТИ И ЦЕННОСТЕЙ', 'ДЕЛОВАЯ СРЕДА', 'ЭВОТОР', 'РКО', 'ТЕХНИЧЕСКИЕ ПРОДУКТЫ', 'КРЕДИТНАЯ БИЗНЕС-КАРТА', 'ПРИЕМ ПЛАТЕЖЕЙ ФИЗ. ЛИЦ', 'БАНКОВСКАЯ ГАРАНТИЯ', 'ДИСТАНЦИОННОЕ ОБСЛУЖИВАНИЕ', 'ПРОДУКТЫ ПРИВЛЕЧЕНИЯ СРЕДСТВ', 'ПРЕМИАЛЬНАЯ БИЗНЕС-КАРТА', 'ДОКУМЕНТАРНЫЕ ОПЕРАЦИИ']),\n",
       " dict_values([6, 16, 29, 5, 0, 21, 14, 3, 17, 18, 20, 7, 13, 1, 31, 26, 15, 9, 4, 27, 12, 8, 30, 25, 28, 19, 23, 2, 10, 24, 22, 11]))"
      ]
     },
     "execution_count": 145,
     "metadata": {},
     "output_type": "execute_result"
    }
   ],
   "source": [
    "le.get_keys(), le.get_labels()"
   ]
  },
  {
   "cell_type": "code",
   "execution_count": null,
   "metadata": {
    "scrolled": true
   },
   "outputs": [],
   "source": [
    "product_group_lables = pd.DataFrame({'label': list(le.get_keys()), 'value': list(le.get_labels())})\n",
    "product_group_lables = product_group_lables.set_index('value')\n",
    "product_group_lables"
   ]
  },
  {
   "cell_type": "code",
   "execution_count": 159,
   "metadata": {},
   "outputs": [
    {
     "data": {
      "text/plain": [
       "('CASH MANAGEMENT', 'ВНЕШНИЙ МАЛЫЙ СМАРТ')"
      ]
     },
     "execution_count": 159,
     "metadata": {},
     "output_type": "execute_result"
    }
   ],
   "source": [
    "product_group_lables.loc[0]['label'],  product_group_lables.iloc[0]['label']"
   ]
  },
  {
   "cell_type": "code",
   "execution_count": 162,
   "metadata": {},
   "outputs": [
    {
     "data": {
      "text/plain": [
       "45.01372532639097"
      ]
     },
     "execution_count": 162,
     "metadata": {},
     "output_type": "execute_result"
    }
   ],
   "source": [
    "null_compare['train_null_ratio'].mean()"
   ]
  },
  {
   "cell_type": "code",
   "execution_count": null,
   "metadata": {
    "collapsed": true,
    "jupyter": {
     "outputs_hidden": true
    }
   },
   "outputs": [],
   "source": []
  }
 ],
 "metadata": {
  "kernelspec": {
   "display_name": "Python 3 (ipykernel)",
   "language": "python",
   "name": "python3"
  },
  "language_info": {
   "codemirror_mode": {
    "name": "ipython",
    "version": 3
   },
   "file_extension": ".py",
   "mimetype": "text/x-python",
   "name": "python",
   "nbconvert_exporter": "python",
   "pygments_lexer": "ipython3",
   "version": "3.9.12"
  }
 },
 "nbformat": 4,
 "nbformat_minor": 4
}
