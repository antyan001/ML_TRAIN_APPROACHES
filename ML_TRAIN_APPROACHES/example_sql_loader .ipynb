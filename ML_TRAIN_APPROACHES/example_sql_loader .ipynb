{
 "cells": [
  {
   "cell_type": "code",
   "execution_count": 1,
   "metadata": {
    "collapsed": true
   },
   "outputs": [],
   "source": [
    "import sys\n",
    "sys.path.insert(0, 'support_library/') \n",
    "import loader\n",
    "\n",
    "import pandas as pd"
   ]
  },
  {
   "cell_type": "code",
   "execution_count": 7,
   "metadata": {},
   "outputs": [
    {
     "name": "stdout",
     "output_type": "stream",
     "text": [
      "CPU times: user 4 µs, sys: 9 µs, total: 13 µs\n",
      "Wall time: 21.2 µs\n"
     ]
    }
   ],
   "source": [
    "%%time\n",
    "query = \\\n",
    "\"\"\"\n",
    "select * \n",
    "from inet_real_estate_commerce_reg\n",
    "where phone is not null\n",
    "and sellertype != 'Агентство'\n",
    "\"\"\""
   ]
  },
  {
   "cell_type": "code",
   "execution_count": 13,
   "metadata": {},
   "outputs": [
    {
     "name": "stdout",
     "output_type": "stream",
     "text": [
      "CPU times: user 9 µs, sys: 0 ns, total: 9 µs\n",
      "Wall time: 17.2 µs\n"
     ]
    }
   ],
   "source": [
    "%%time\n",
    "query=\\\n",
    "\"\"\"\n",
    "select sellername,city,title\n",
    "from inet_real_estate_commerce_reg\n",
    "order by sellername asc\n",
    "\"\"\""
   ]
  },
  {
   "cell_type": "code",
   "execution_count": 20,
   "metadata": {},
   "outputs": [
    {
     "name": "stdout",
     "output_type": "stream",
     "text": [
      "CPU times: user 4 µs, sys: 8 µs, total: 12 µs\n",
      "Wall time: 21.9 µs\n"
     ]
    }
   ],
   "source": [
    "%%time\n",
    "query=\\\n",
    "\"\"\"\n",
    "select *\n",
    "from inet_real_estate_parse_region\n",
    "\"\"\""
   ]
  },
  {
   "cell_type": "code",
   "execution_count": 3,
   "metadata": {
    "collapsed": true
   },
   "outputs": [],
   "source": [
    "load   = loader.Loader(init_dsn = True)"
   ]
  },
  {
   "cell_type": "code",
   "execution_count": 8,
   "metadata": {
    "collapsed": true,
    "scrolled": true
   },
   "outputs": [],
   "source": [
    "dfsql = load.get_dataframe(query)"
   ]
  },
  {
   "cell_type": "code",
   "execution_count": 9,
   "metadata": {},
   "outputs": [
    {
     "data": {
      "text/plain": [
       "(7871, 14)"
      ]
     },
     "execution_count": 9,
     "metadata": {},
     "output_type": "execute_result"
    }
   ],
   "source": [
    "dfsql.shape"
   ]
  },
  {
   "cell_type": "code",
   "execution_count": 10,
   "metadata": {
    "scrolled": true
   },
   "outputs": [
    {
     "data": {
      "text/html": [
       "<div>\n",
       "<style scoped>\n",
       "    .dataframe tbody tr th:only-of-type {\n",
       "        vertical-align: middle;\n",
       "    }\n",
       "\n",
       "    .dataframe tbody tr th {\n",
       "        vertical-align: top;\n",
       "    }\n",
       "\n",
       "    .dataframe thead th {\n",
       "        text-align: right;\n",
       "    }\n",
       "</style>\n",
       "<table border=\"1\" class=\"dataframe\">\n",
       "  <thead>\n",
       "    <tr style=\"text-align: right;\">\n",
       "      <th></th>\n",
       "      <th>href</th>\n",
       "      <th>title</th>\n",
       "      <th>full_text</th>\n",
       "      <th>phone</th>\n",
       "      <th>region</th>\n",
       "      <th>city</th>\n",
       "      <th>real_estate</th>\n",
       "      <th>type</th>\n",
       "      <th>marketplace</th>\n",
       "      <th>sellername</th>\n",
       "      <th>managername</th>\n",
       "      <th>sellertype</th>\n",
       "      <th>address</th>\n",
       "      <th>coords</th>\n",
       "    </tr>\n",
       "  </thead>\n",
       "  <tbody>\n",
       "    <tr>\n",
       "      <th>0</th>\n",
       "      <td>https://m.avito.ru/moskva/kommercheskaya_nedvi...</td>\n",
       "      <td>Сдам отдельно стоящее здание в Москве</td>\n",
       "      <td>Сдаётся ОCЗ 2100 м2, пoслe ремонта! B здании и...</td>\n",
       "      <td>+79653732651</td>\n",
       "      <td>moskva</td>\n",
       "      <td>moskva</td>\n",
       "      <td>kommercheskaya_nedvizhimost</td>\n",
       "      <td>agentstvo</td>\n",
       "      <td>www.avito.ru</td>\n",
       "      <td>Марина</td>\n",
       "      <td>None</td>\n",
       "      <td>Частное лицо</td>\n",
       "      <td>Москва, Сенежская улица</td>\n",
       "      <td>{'lat': 55.859909, 'lng': 37.515903}</td>\n",
       "    </tr>\n",
       "    <tr>\n",
       "      <th>1</th>\n",
       "      <td>https://m.avito.ru/moskva/kommercheskaya_nedvi...</td>\n",
       "      <td>Торговое помещение в Москве</td>\n",
       "      <td>Очень Проходной место второй дом от метро рядо...</td>\n",
       "      <td>+79266167220</td>\n",
       "      <td>moskva</td>\n",
       "      <td>moskva</td>\n",
       "      <td>kommercheskaya_nedvizhimost</td>\n",
       "      <td>sobstvennik</td>\n",
       "      <td>www.avito.ru</td>\n",
       "      <td>Руслан</td>\n",
       "      <td>None</td>\n",
       "      <td>Частное лицо</td>\n",
       "      <td>Москва, шоссе Энтузиастов</td>\n",
       "      <td>{'lat': 55.76284409, 'lng': 37.77490616}</td>\n",
       "    </tr>\n",
       "    <tr>\n",
       "      <th>2</th>\n",
       "      <td>https://m.avito.ru/moskva/kommercheskaya_nedvi...</td>\n",
       "      <td>Торговая площадь,215 м?,Кутузовский проспект в...</td>\n",
       "      <td>Сдаётся нeжилоe помeщение, площадью 215 м?, пo...</td>\n",
       "      <td>+79264740665</td>\n",
       "      <td>moskva</td>\n",
       "      <td>moskva</td>\n",
       "      <td>kommercheskaya_nedvizhimost</td>\n",
       "      <td>sobstvennik</td>\n",
       "      <td>www.avito.ru</td>\n",
       "      <td>Иван</td>\n",
       "      <td>None</td>\n",
       "      <td>Частное лицо</td>\n",
       "      <td>Москва, Можайское шоссе, 11</td>\n",
       "      <td>{'lat': 55.72081757, 'lng': 37.43595505}</td>\n",
       "    </tr>\n",
       "    <tr>\n",
       "      <th>3</th>\n",
       "      <td>https://m.avito.ru/moskva/kommercheskaya_nedvi...</td>\n",
       "      <td>Офисное помещение, 83.3 м? в Москве</td>\n",
       "      <td>Пpедлагaeм нa длительную аренду офиснoе пoмеще...</td>\n",
       "      <td>+79853938129</td>\n",
       "      <td>moskva</td>\n",
       "      <td>moskva</td>\n",
       "      <td>kommercheskaya_nedvizhimost</td>\n",
       "      <td>sobstvennik</td>\n",
       "      <td>www.avito.ru</td>\n",
       "      <td>Александр</td>\n",
       "      <td>None</td>\n",
       "      <td>Частное лицо</td>\n",
       "      <td>Москва, улица 8 Марта, 1с12</td>\n",
       "      <td>{'lat': 55.80073166, 'lng': 37.55493927}</td>\n",
       "    </tr>\n",
       "    <tr>\n",
       "      <th>4</th>\n",
       "      <td>https://m.avito.ru/moskva/kommercheskaya_nedvi...</td>\n",
       "      <td>Торговое помещение, 61 м? в Москве</td>\n",
       "      <td>Cдаeтся в apенду торговое пoмещeние в прoходнo...</td>\n",
       "      <td>+79251936335</td>\n",
       "      <td>moskva</td>\n",
       "      <td>moskva</td>\n",
       "      <td>kommercheskaya_nedvizhimost</td>\n",
       "      <td>sobstvennik</td>\n",
       "      <td>www.avito.ru</td>\n",
       "      <td>Алексей</td>\n",
       "      <td>None</td>\n",
       "      <td>Частное лицо</td>\n",
       "      <td>Москва, улица Удальцова, 71к3</td>\n",
       "      <td>{'lat': 55.6770832296, 'lng': 37.4992884923}</td>\n",
       "    </tr>\n",
       "  </tbody>\n",
       "</table>\n",
       "</div>"
      ],
      "text/plain": [
       "                                                href  \\\n",
       "0  https://m.avito.ru/moskva/kommercheskaya_nedvi...   \n",
       "1  https://m.avito.ru/moskva/kommercheskaya_nedvi...   \n",
       "2  https://m.avito.ru/moskva/kommercheskaya_nedvi...   \n",
       "3  https://m.avito.ru/moskva/kommercheskaya_nedvi...   \n",
       "4  https://m.avito.ru/moskva/kommercheskaya_nedvi...   \n",
       "\n",
       "                                               title  \\\n",
       "0              Сдам отдельно стоящее здание в Москве   \n",
       "1                        Торговое помещение в Москве   \n",
       "2  Торговая площадь,215 м?,Кутузовский проспект в...   \n",
       "3                Офисное помещение, 83.3 м? в Москве   \n",
       "4                 Торговое помещение, 61 м? в Москве   \n",
       "\n",
       "                                           full_text         phone  region  \\\n",
       "0  Сдаётся ОCЗ 2100 м2, пoслe ремонта! B здании и...  +79653732651  moskva   \n",
       "1  Очень Проходной место второй дом от метро рядо...  +79266167220  moskva   \n",
       "2  Сдаётся нeжилоe помeщение, площадью 215 м?, пo...  +79264740665  moskva   \n",
       "3  Пpедлагaeм нa длительную аренду офиснoе пoмеще...  +79853938129  moskva   \n",
       "4  Cдаeтся в apенду торговое пoмещeние в прoходнo...  +79251936335  moskva   \n",
       "\n",
       "     city                  real_estate         type   marketplace sellername  \\\n",
       "0  moskva  kommercheskaya_nedvizhimost    agentstvo  www.avito.ru     Марина   \n",
       "1  moskva  kommercheskaya_nedvizhimost  sobstvennik  www.avito.ru     Руслан   \n",
       "2  moskva  kommercheskaya_nedvizhimost  sobstvennik  www.avito.ru       Иван   \n",
       "3  moskva  kommercheskaya_nedvizhimost  sobstvennik  www.avito.ru  Александр   \n",
       "4  moskva  kommercheskaya_nedvizhimost  sobstvennik  www.avito.ru    Алексей   \n",
       "\n",
       "  managername    sellertype                        address  \\\n",
       "0        None  Частное лицо        Москва, Сенежская улица   \n",
       "1        None  Частное лицо      Москва, шоссе Энтузиастов   \n",
       "2        None  Частное лицо    Москва, Можайское шоссе, 11   \n",
       "3        None  Частное лицо    Москва, улица 8 Марта, 1с12   \n",
       "4        None  Частное лицо  Москва, улица Удальцова, 71к3   \n",
       "\n",
       "                                         coords  \n",
       "0          {'lat': 55.859909, 'lng': 37.515903}  \n",
       "1      {'lat': 55.76284409, 'lng': 37.77490616}  \n",
       "2      {'lat': 55.72081757, 'lng': 37.43595505}  \n",
       "3      {'lat': 55.80073166, 'lng': 37.55493927}  \n",
       "4  {'lat': 55.6770832296, 'lng': 37.4992884923}  "
      ]
     },
     "execution_count": 10,
     "metadata": {},
     "output_type": "execute_result"
    }
   ],
   "source": [
    "dfsql.head()"
   ]
  },
  {
   "cell_type": "code",
   "execution_count": 21,
   "metadata": {},
   "outputs": [],
   "source": [
    "dfsql_orderby = load.get_dataframe(query)"
   ]
  },
  {
   "cell_type": "code",
   "execution_count": 22,
   "metadata": {},
   "outputs": [
    {
     "data": {
      "text/html": [
       "<div>\n",
       "<style scoped>\n",
       "    .dataframe tbody tr th:only-of-type {\n",
       "        vertical-align: middle;\n",
       "    }\n",
       "\n",
       "    .dataframe tbody tr th {\n",
       "        vertical-align: top;\n",
       "    }\n",
       "\n",
       "    .dataframe thead th {\n",
       "        text-align: right;\n",
       "    }\n",
       "</style>\n",
       "<table border=\"1\" class=\"dataframe\">\n",
       "  <thead>\n",
       "    <tr style=\"text-align: right;\">\n",
       "      <th></th>\n",
       "      <th>href</th>\n",
       "      <th>title</th>\n",
       "      <th>full_text</th>\n",
       "      <th>phone</th>\n",
       "      <th>region</th>\n",
       "      <th>city</th>\n",
       "      <th>real_estate</th>\n",
       "      <th>type</th>\n",
       "      <th>marketplace</th>\n",
       "      <th>sellername</th>\n",
       "      <th>managername</th>\n",
       "      <th>address</th>\n",
       "      <th>coords</th>\n",
       "      <th>sellertype</th>\n",
       "    </tr>\n",
       "  </thead>\n",
       "  <tbody>\n",
       "    <tr>\n",
       "      <th>0</th>\n",
       "      <td>https://m.avito.ru/moskva/kvartiry/2-k_kvartir...</td>\n",
       "      <td>2-к квартира, 60 м?, 60/69 эт. в Москве</td>\n",
       "      <td>Cовpeмeнныe и мoдные апартамeнты с пaнорaмными...</td>\n",
       "      <td>+74991106057</td>\n",
       "      <td>moskva</td>\n",
       "      <td>moskva</td>\n",
       "      <td>kvartiry</td>\n",
       "      <td>agentstvo</td>\n",
       "      <td>www.avito.ru</td>\n",
       "      <td>MosAPTS</td>\n",
       "      <td>Михаил</td>\n",
       "      <td>None</td>\n",
       "      <td>None</td>\n",
       "      <td>None</td>\n",
       "    </tr>\n",
       "    <tr>\n",
       "      <th>1</th>\n",
       "      <td>https://m.avito.ru/moskva/kvartiry/3-k_kvartir...</td>\n",
       "      <td>3-к квартира, 120 м?, 7/7 эт. в Москве</td>\n",
       "      <td>двуxуровнeвые апaртаменты премиум-клaсcа 120 к...</td>\n",
       "      <td>+74991106057</td>\n",
       "      <td>moskva</td>\n",
       "      <td>moskva</td>\n",
       "      <td>kvartiry</td>\n",
       "      <td>agentstvo</td>\n",
       "      <td>www.avito.ru</td>\n",
       "      <td>Рант'е</td>\n",
       "      <td>None</td>\n",
       "      <td>None</td>\n",
       "      <td>None</td>\n",
       "      <td>None</td>\n",
       "    </tr>\n",
       "    <tr>\n",
       "      <th>2</th>\n",
       "      <td>https://m.avito.ru/moskva_zelenograd/kvartiry/...</td>\n",
       "      <td>Студия, 16 м?, 2/3 эт. в Зеленограде</td>\n",
       "      <td>Пoлнocтью гoтовая к пpоживанию квартирa-студия...</td>\n",
       "      <td>+79035017003</td>\n",
       "      <td>moskva</td>\n",
       "      <td>moskva_zelenograd</td>\n",
       "      <td>kvartiry</td>\n",
       "      <td>agentstvo</td>\n",
       "      <td>www.avito.ru</td>\n",
       "      <td>антон</td>\n",
       "      <td>Антон</td>\n",
       "      <td>None</td>\n",
       "      <td>None</td>\n",
       "      <td>None</td>\n",
       "    </tr>\n",
       "    <tr>\n",
       "      <th>3</th>\n",
       "      <td>https://m.avito.ru/moskva/kvartiry/studiya_25_...</td>\n",
       "      <td>Студия, 25 м?, 55/57 эт. в Москве</td>\n",
       "      <td>Поcутoчноe рaзмещение в уникальном cтоличнoм п...</td>\n",
       "      <td>+79266953268</td>\n",
       "      <td>moskva</td>\n",
       "      <td>moskva</td>\n",
       "      <td>kvartiry</td>\n",
       "      <td>agentstvo</td>\n",
       "      <td>www.avito.ru</td>\n",
       "      <td>Триумф Палас, Империя Сити</td>\n",
       "      <td>Менеджер Карина</td>\n",
       "      <td>None</td>\n",
       "      <td>None</td>\n",
       "      <td>None</td>\n",
       "    </tr>\n",
       "    <tr>\n",
       "      <th>4</th>\n",
       "      <td>https://m.avito.ru/moskva/kvartiry/studiya_25_...</td>\n",
       "      <td>Студия, 25 м?, 55/57 эт. в Москве</td>\n",
       "      <td>Поcуточнoe зaceление в одной из cамыx высотных...</td>\n",
       "      <td>+79854702278</td>\n",
       "      <td>moskva</td>\n",
       "      <td>moskva</td>\n",
       "      <td>kvartiry</td>\n",
       "      <td>agentstvo</td>\n",
       "      <td>www.avito.ru</td>\n",
       "      <td>Триумф Палас, Империя Сити</td>\n",
       "      <td>Менеджер Карина</td>\n",
       "      <td>None</td>\n",
       "      <td>None</td>\n",
       "      <td>None</td>\n",
       "    </tr>\n",
       "  </tbody>\n",
       "</table>\n",
       "</div>"
      ],
      "text/plain": [
       "                                                href  \\\n",
       "0  https://m.avito.ru/moskva/kvartiry/2-k_kvartir...   \n",
       "1  https://m.avito.ru/moskva/kvartiry/3-k_kvartir...   \n",
       "2  https://m.avito.ru/moskva_zelenograd/kvartiry/...   \n",
       "3  https://m.avito.ru/moskva/kvartiry/studiya_25_...   \n",
       "4  https://m.avito.ru/moskva/kvartiry/studiya_25_...   \n",
       "\n",
       "                                     title  \\\n",
       "0  2-к квартира, 60 м?, 60/69 эт. в Москве   \n",
       "1   3-к квартира, 120 м?, 7/7 эт. в Москве   \n",
       "2     Студия, 16 м?, 2/3 эт. в Зеленограде   \n",
       "3        Студия, 25 м?, 55/57 эт. в Москве   \n",
       "4        Студия, 25 м?, 55/57 эт. в Москве   \n",
       "\n",
       "                                           full_text         phone  region  \\\n",
       "0  Cовpeмeнныe и мoдные апартамeнты с пaнорaмными...  +74991106057  moskva   \n",
       "1  двуxуровнeвые апaртаменты премиум-клaсcа 120 к...  +74991106057  moskva   \n",
       "2  Пoлнocтью гoтовая к пpоживанию квартирa-студия...  +79035017003  moskva   \n",
       "3  Поcутoчноe рaзмещение в уникальном cтоличнoм п...  +79266953268  moskva   \n",
       "4  Поcуточнoe зaceление в одной из cамыx высотных...  +79854702278  moskva   \n",
       "\n",
       "                city real_estate       type   marketplace  \\\n",
       "0             moskva    kvartiry  agentstvo  www.avito.ru   \n",
       "1             moskva    kvartiry  agentstvo  www.avito.ru   \n",
       "2  moskva_zelenograd    kvartiry  agentstvo  www.avito.ru   \n",
       "3             moskva    kvartiry  agentstvo  www.avito.ru   \n",
       "4             moskva    kvartiry  agentstvo  www.avito.ru   \n",
       "\n",
       "                   sellername      managername address coords sellertype  \n",
       "0                     MosAPTS           Михаил    None   None       None  \n",
       "1                      Рант'е             None    None   None       None  \n",
       "2                       антон            Антон    None   None       None  \n",
       "3  Триумф Палас, Империя Сити  Менеджер Карина    None   None       None  \n",
       "4  Триумф Палас, Империя Сити  Менеджер Карина    None   None       None  "
      ]
     },
     "execution_count": 22,
     "metadata": {},
     "output_type": "execute_result"
    }
   ],
   "source": [
    "dfsql_orderby.head()"
   ]
  },
  {
   "cell_type": "markdown",
   "metadata": {},
   "source": []
  },
  {
   "cell_type": "raw",
   "metadata": {},
   "source": []
  },
  {
   "cell_type": "code",
   "execution_count": null,
   "metadata": {
    "collapsed": true
   },
   "outputs": [],
   "source": []
  },
  {
   "cell_type": "code",
   "execution_count": 111,
   "metadata": {},
   "outputs": [
    {
     "name": "stdout",
     "output_type": "stream",
     "text": [
      "CPU times: user 5 µs, sys: 4 µs, total: 9 µs\n",
      "Wall time: 17.6 µs\n"
     ]
    }
   ],
   "source": [
    "%%time\n",
    "query=\\\n",
    "\"\"\"\n",
    "select sellername,phone,count(phone),full_text\n",
    "from inet_real_estate_parse_region\n",
    "group by sellername,phone,full_text\n",
    "having count(phone) > 2\n",
    "order by sellername asc\n",
    "\"\"\""
   ]
  },
  {
   "cell_type": "code",
   "execution_count": 112,
   "metadata": {},
   "outputs": [],
   "source": [
    "dfsql_task = load.get_dataframe(query)"
   ]
  },
  {
   "cell_type": "code",
   "execution_count": 113,
   "metadata": {},
   "outputs": [
    {
     "data": {
      "text/plain": [
       "2118"
      ]
     },
     "execution_count": 113,
     "metadata": {},
     "output_type": "execute_result"
    }
   ],
   "source": [
    "len(dfsql_task)"
   ]
  },
  {
   "cell_type": "code",
   "execution_count": 114,
   "metadata": {},
   "outputs": [
    {
     "data": {
      "text/html": [
       "<div>\n",
       "<style scoped>\n",
       "    .dataframe tbody tr th:only-of-type {\n",
       "        vertical-align: middle;\n",
       "    }\n",
       "\n",
       "    .dataframe tbody tr th {\n",
       "        vertical-align: top;\n",
       "    }\n",
       "\n",
       "    .dataframe thead th {\n",
       "        text-align: right;\n",
       "    }\n",
       "</style>\n",
       "<table border=\"1\" class=\"dataframe\">\n",
       "  <thead>\n",
       "    <tr style=\"text-align: right;\">\n",
       "      <th></th>\n",
       "      <th>sellername</th>\n",
       "      <th>phone</th>\n",
       "      <th>count(phone)</th>\n",
       "      <th>full_text</th>\n",
       "    </tr>\n",
       "  </thead>\n",
       "  <tbody>\n",
       "    <tr>\n",
       "      <th>0</th>\n",
       "      <td>***</td>\n",
       "      <td>+79108512089</td>\n",
       "      <td>32</td>\n",
       "      <td>Сдам однокомнатную квартиру в спальном районе ...</td>\n",
       "    </tr>\n",
       "    <tr>\n",
       "      <th>1</th>\n",
       "      <td>-</td>\n",
       "      <td>+79258228395</td>\n",
       "      <td>82</td>\n",
       "      <td>Сдается уютная однокомнатная квартира. Залог р...</td>\n",
       "    </tr>\n",
       "    <tr>\n",
       "      <th>2</th>\n",
       "      <td>---------------------------</td>\n",
       "      <td>+79150714256</td>\n",
       "      <td>44</td>\n",
       "      <td>СДАМ КВАРТИРУ НА ДЛИТЕЛЬНЫЙ СРОК.</td>\n",
       "    </tr>\n",
       "    <tr>\n",
       "      <th>3</th>\n",
       "      <td>.</td>\n",
       "      <td>+79213510307</td>\n",
       "      <td>8</td>\n",
       "      <td>Гостиница квартирного типа, 1-2-3 х комнатные ...</td>\n",
       "    </tr>\n",
       "    <tr>\n",
       "      <th>4</th>\n",
       "      <td>.</td>\n",
       "      <td>+79153306593</td>\n",
       "      <td>5</td>\n",
       "      <td>Сдаётся новая 3-х комнатная квартира с еврорем...</td>\n",
       "    </tr>\n",
       "  </tbody>\n",
       "</table>\n",
       "</div>"
      ],
      "text/plain": [
       "                    sellername         phone  count(phone)  \\\n",
       "0                          ***  +79108512089            32   \n",
       "1                            -  +79258228395            82   \n",
       "2  ---------------------------  +79150714256            44   \n",
       "3                            .  +79213510307             8   \n",
       "4                            .  +79153306593             5   \n",
       "\n",
       "                                           full_text  \n",
       "0  Сдам однокомнатную квартиру в спальном районе ...  \n",
       "1  Сдается уютная однокомнатная квартира. Залог р...  \n",
       "2                  СДАМ КВАРТИРУ НА ДЛИТЕЛЬНЫЙ СРОК.  \n",
       "3  Гостиница квартирного типа, 1-2-3 х комнатные ...  \n",
       "4  Сдаётся новая 3-х комнатная квартира с еврорем...  "
      ]
     },
     "execution_count": 114,
     "metadata": {},
     "output_type": "execute_result"
    }
   ],
   "source": [
    "dfsql_task.head()"
   ]
  },
  {
   "cell_type": "code",
   "execution_count": null,
   "metadata": {
    "collapsed": true
   },
   "outputs": [],
   "source": []
  },
  {
   "cell_type": "code",
   "execution_count": null,
   "metadata": {
    "collapsed": true
   },
   "outputs": [],
   "source": []
  },
  {
   "cell_type": "code",
   "execution_count": 123,
   "metadata": {},
   "outputs": [
    {
     "name": "stdout",
     "output_type": "stream",
     "text": [
      "CPU times: user 0 ns, sys: 10 µs, total: 10 µs\n",
      "Wall time: 31.2 µs\n"
     ]
    }
   ],
   "source": [
    "%%time\n",
    "query_inet=\\\n",
    "\"\"\"\n",
    "select *\n",
    "from inet_real_estate_parse_all\n",
    "\"\"\""
   ]
  },
  {
   "cell_type": "code",
   "execution_count": 124,
   "metadata": {},
   "outputs": [],
   "source": [
    "df_inet = load.get_dataframe(query_inet)"
   ]
  },
  {
   "cell_type": "code",
   "execution_count": 133,
   "metadata": {},
   "outputs": [
    {
     "data": {
      "text/plain": [
       "838910"
      ]
     },
     "execution_count": 133,
     "metadata": {},
     "output_type": "execute_result"
    }
   ],
   "source": [
    "len(df_inet)"
   ]
  },
  {
   "cell_type": "code",
   "execution_count": 125,
   "metadata": {},
   "outputs": [
    {
     "data": {
      "text/html": [
       "<div>\n",
       "<style scoped>\n",
       "    .dataframe tbody tr th:only-of-type {\n",
       "        vertical-align: middle;\n",
       "    }\n",
       "\n",
       "    .dataframe tbody tr th {\n",
       "        vertical-align: top;\n",
       "    }\n",
       "\n",
       "    .dataframe thead th {\n",
       "        text-align: right;\n",
       "    }\n",
       "</style>\n",
       "<table border=\"1\" class=\"dataframe\">\n",
       "  <thead>\n",
       "    <tr style=\"text-align: right;\">\n",
       "      <th></th>\n",
       "      <th>uri_mweb</th>\n",
       "      <th>location</th>\n",
       "      <th>address</th>\n",
       "      <th>usertype</th>\n",
       "      <th>datetime</th>\n",
       "      <th>fulldescription</th>\n",
       "      <th>phone</th>\n",
       "      <th>sellername</th>\n",
       "    </tr>\n",
       "  </thead>\n",
       "  <tbody>\n",
       "    <tr>\n",
       "      <th>0</th>\n",
       "      <td>https://m.avito.ru/sochi/kvartiry/3-k_kvartira...</td>\n",
       "      <td>Сочи</td>\n",
       "      <td>Краснодарский край, Сочи, Шкиперская улица, 9</td>\n",
       "      <td>private</td>\n",
       "      <td>2019-05-02 22:08:52</td>\n",
       "      <td>Собcтвeнник. 3-х комн. aпартаменты Имеpетинcко...</td>\n",
       "      <td>+79180062949</td>\n",
       "      <td>Ксения</td>\n",
       "    </tr>\n",
       "    <tr>\n",
       "      <th>1</th>\n",
       "      <td>https://m.avito.ru/noginsk/kvartiry/1-k_kvarti...</td>\n",
       "      <td>Ногинск</td>\n",
       "      <td>Московская область, Богородский городской окру...</td>\n",
       "      <td>company</td>\n",
       "      <td>2019-05-02 22:07:01</td>\n",
       "      <td>ФОTОГРAФИИ ОРИГИНАЛЬНЫЕ именнo этой квaртиpы ....</td>\n",
       "      <td>+79060868838</td>\n",
       "      <td>Мария</td>\n",
       "    </tr>\n",
       "    <tr>\n",
       "      <th>2</th>\n",
       "      <td>https://m.avito.ru/cherkessk/kvartiry/2-k_kvar...</td>\n",
       "      <td>Черкесск</td>\n",
       "      <td>Черкесск, Карачаево-Черкесская Республика, Кра...</td>\n",
       "      <td>private</td>\n",
       "      <td>2019-05-02 21:56:52</td>\n",
       "      <td>Сдaм большую 70 кв.м. ( или пpодам ) 2-х комн ...</td>\n",
       "      <td>+79859306140</td>\n",
       "      <td>Обычный Человек</td>\n",
       "    </tr>\n",
       "    <tr>\n",
       "      <th>3</th>\n",
       "      <td>https://m.avito.ru/krasnodar/kvartiry/2-k_kvar...</td>\n",
       "      <td>Краснодар</td>\n",
       "      <td>Краснодар, Кубанская улица, 58</td>\n",
       "      <td>company</td>\n",
       "      <td>2019-05-02 22:04:01</td>\n",
       "      <td>Квартира новая, мебель новая, имеется 2 лоджии...</td>\n",
       "      <td>+79189573369</td>\n",
       "      <td>ИП</td>\n",
       "    </tr>\n",
       "    <tr>\n",
       "      <th>4</th>\n",
       "      <td>https://m.avito.ru/vladimir/kvartiry/1-k_kvart...</td>\n",
       "      <td>Владимир</td>\n",
       "      <td>Владимир, улица Белоконской, 6</td>\n",
       "      <td>private</td>\n",
       "      <td>2019-05-02 22:02:02</td>\n",
       "      <td>Oбъявлениe актуально, пока размещенo, фотo рea...</td>\n",
       "      <td>+79307463366</td>\n",
       "      <td>User</td>\n",
       "    </tr>\n",
       "  </tbody>\n",
       "</table>\n",
       "</div>"
      ],
      "text/plain": [
       "                                            uri_mweb   location  \\\n",
       "0  https://m.avito.ru/sochi/kvartiry/3-k_kvartira...       Сочи   \n",
       "1  https://m.avito.ru/noginsk/kvartiry/1-k_kvarti...    Ногинск   \n",
       "2  https://m.avito.ru/cherkessk/kvartiry/2-k_kvar...   Черкесск   \n",
       "3  https://m.avito.ru/krasnodar/kvartiry/2-k_kvar...  Краснодар   \n",
       "4  https://m.avito.ru/vladimir/kvartiry/1-k_kvart...   Владимир   \n",
       "\n",
       "                                             address usertype  \\\n",
       "0      Краснодарский край, Сочи, Шкиперская улица, 9  private   \n",
       "1  Московская область, Богородский городской окру...  company   \n",
       "2  Черкесск, Карачаево-Черкесская Республика, Кра...  private   \n",
       "3                     Краснодар, Кубанская улица, 58  company   \n",
       "4                     Владимир, улица Белоконской, 6  private   \n",
       "\n",
       "              datetime                                    fulldescription  \\\n",
       "0  2019-05-02 22:08:52  Собcтвeнник. 3-х комн. aпартаменты Имеpетинcко...   \n",
       "1  2019-05-02 22:07:01  ФОTОГРAФИИ ОРИГИНАЛЬНЫЕ именнo этой квaртиpы ....   \n",
       "2  2019-05-02 21:56:52  Сдaм большую 70 кв.м. ( или пpодам ) 2-х комн ...   \n",
       "3  2019-05-02 22:04:01  Квартира новая, мебель новая, имеется 2 лоджии...   \n",
       "4  2019-05-02 22:02:02  Oбъявлениe актуально, пока размещенo, фотo рea...   \n",
       "\n",
       "          phone       sellername  \n",
       "0  +79180062949           Ксения  \n",
       "1  +79060868838            Мария  \n",
       "2  +79859306140  Обычный Человек  \n",
       "3  +79189573369               ИП  \n",
       "4  +79307463366             User  "
      ]
     },
     "execution_count": 125,
     "metadata": {},
     "output_type": "execute_result"
    }
   ],
   "source": [
    "df_inet.head()"
   ]
  },
  {
   "cell_type": "code",
   "execution_count": 119,
   "metadata": {},
   "outputs": [
    {
     "name": "stdout",
     "output_type": "stream",
     "text": [
      "CPU times: user 5 µs, sys: 4 µs, total: 9 µs\n",
      "Wall time: 24.8 µs\n"
     ]
    }
   ],
   "source": [
    "%%time\n",
    "query_vk=\\\n",
    "\"\"\"\n",
    "select *\n",
    "from vk_real_estate_parse\n",
    "\"\"\""
   ]
  },
  {
   "cell_type": "code",
   "execution_count": 121,
   "metadata": {
    "collapsed": true
   },
   "outputs": [],
   "source": [
    "df_vk = load.get_dataframe(query_vk)"
   ]
  },
  {
   "cell_type": "code",
   "execution_count": 132,
   "metadata": {},
   "outputs": [
    {
     "data": {
      "text/plain": [
       "451942"
      ]
     },
     "execution_count": 132,
     "metadata": {},
     "output_type": "execute_result"
    }
   ],
   "source": [
    "len(df_vk)"
   ]
  },
  {
   "cell_type": "code",
   "execution_count": 122,
   "metadata": {},
   "outputs": [
    {
     "data": {
      "text/html": [
       "<div>\n",
       "<style scoped>\n",
       "    .dataframe tbody tr th:only-of-type {\n",
       "        vertical-align: middle;\n",
       "    }\n",
       "\n",
       "    .dataframe tbody tr th {\n",
       "        vertical-align: top;\n",
       "    }\n",
       "\n",
       "    .dataframe thead th {\n",
       "        text-align: right;\n",
       "    }\n",
       "</style>\n",
       "<table border=\"1\" class=\"dataframe\">\n",
       "  <thead>\n",
       "    <tr style=\"text-align: right;\">\n",
       "      <th></th>\n",
       "      <th>post_id</th>\n",
       "      <th>owner_id</th>\n",
       "      <th>from_id</th>\n",
       "      <th>text</th>\n",
       "      <th>userinfo</th>\n",
       "      <th>userid</th>\n",
       "      <th>city</th>\n",
       "      <th>phones</th>\n",
       "    </tr>\n",
       "  </thead>\n",
       "  <tbody>\n",
       "    <tr>\n",
       "      <th>0</th>\n",
       "      <td>962</td>\n",
       "      <td>-179708576</td>\n",
       "      <td>-179708576</td>\n",
       "      <td>Нужны СРОЧНО деньги?! ?http://zaimar.ru/zajmy-...</td>\n",
       "      <td>None</td>\n",
       "      <td>None</td>\n",
       "      <td>None</td>\n",
       "      <td>None</td>\n",
       "    </tr>\n",
       "    <tr>\n",
       "      <th>1</th>\n",
       "      <td>14877</td>\n",
       "      <td>-164843864</td>\n",
       "      <td>-164843864</td>\n",
       "      <td>Квартира - студия  \\nАдрес: Казань, Приволжски...</td>\n",
       "      <td>gorarendaru</td>\n",
       "      <td>215539684</td>\n",
       "      <td>Novosibirsk</td>\n",
       "      <td>None</td>\n",
       "    </tr>\n",
       "    <tr>\n",
       "      <th>2</th>\n",
       "      <td>14955</td>\n",
       "      <td>-64314430</td>\n",
       "      <td>-64314430</td>\n",
       "      <td>У НАС, КАК В СКАЗКЕ - \\nПришла весна, пригрела...</td>\n",
       "      <td>238340268</td>\n",
       "      <td>238340268</td>\n",
       "      <td>Barnaul</td>\n",
       "      <td>None</td>\n",
       "    </tr>\n",
       "    <tr>\n",
       "      <th>3</th>\n",
       "      <td>14955</td>\n",
       "      <td>-64314430</td>\n",
       "      <td>-64314430</td>\n",
       "      <td>У НАС, КАК В СКАЗКЕ - \\nПришла весна, пригрела...</td>\n",
       "      <td>r.antonov</td>\n",
       "      <td>24183954</td>\n",
       "      <td>41 years  Novosibirsk</td>\n",
       "      <td>None</td>\n",
       "    </tr>\n",
       "    <tr>\n",
       "      <th>4</th>\n",
       "      <td>14955</td>\n",
       "      <td>-64314430</td>\n",
       "      <td>-64314430</td>\n",
       "      <td>У НАС, КАК В СКАЗКЕ - \\nПришла весна, пригрела...</td>\n",
       "      <td>bergtrans</td>\n",
       "      <td>256725807</td>\n",
       "      <td>Barnaul</td>\n",
       "      <td>None</td>\n",
       "    </tr>\n",
       "  </tbody>\n",
       "</table>\n",
       "</div>"
      ],
      "text/plain": [
       "   post_id   owner_id    from_id  \\\n",
       "0      962 -179708576 -179708576   \n",
       "1    14877 -164843864 -164843864   \n",
       "2    14955  -64314430  -64314430   \n",
       "3    14955  -64314430  -64314430   \n",
       "4    14955  -64314430  -64314430   \n",
       "\n",
       "                                                text     userinfo     userid  \\\n",
       "0  Нужны СРОЧНО деньги?! ?http://zaimar.ru/zajmy-...         None       None   \n",
       "1  Квартира - студия  \\nАдрес: Казань, Приволжски...  gorarendaru  215539684   \n",
       "2  У НАС, КАК В СКАЗКЕ - \\nПришла весна, пригрела...    238340268  238340268   \n",
       "3  У НАС, КАК В СКАЗКЕ - \\nПришла весна, пригрела...    r.antonov   24183954   \n",
       "4  У НАС, КАК В СКАЗКЕ - \\nПришла весна, пригрела...    bergtrans  256725807   \n",
       "\n",
       "                    city phones  \n",
       "0                   None   None  \n",
       "1            Novosibirsk   None  \n",
       "2                Barnaul   None  \n",
       "3  41 years  Novosibirsk   None  \n",
       "4                Barnaul   None  "
      ]
     },
     "execution_count": 122,
     "metadata": {},
     "output_type": "execute_result"
    }
   ],
   "source": [
    "df_vk.head()"
   ]
  },
  {
   "cell_type": "code",
   "execution_count": 209,
   "metadata": {},
   "outputs": [
    {
     "name": "stdout",
     "output_type": "stream",
     "text": [
      "CPU times: user 8 µs, sys: 4 µs, total: 12 µs\n",
      "Wall time: 21.9 µs\n"
     ]
    }
   ],
   "source": [
    "%%time\n",
    "query_join=\\\n",
    "\"\"\"\n",
    "select sellername,phone,fulldescription\n",
    "from inet_real_estate_parse_all i\n",
    "inner join vk_real_estate_parse v on\n",
    "substr(v.phones, -10)=substr(i.phone, -10)\n",
    "\"\"\""
   ]
  },
  {
   "cell_type": "code",
   "execution_count": 210,
   "metadata": {
    "scrolled": true
   },
   "outputs": [],
   "source": [
    "df_join = load.get_dataframe(query_join)"
   ]
  },
  {
   "cell_type": "code",
   "execution_count": 211,
   "metadata": {},
   "outputs": [
    {
     "data": {
      "text/plain": [
       "(292017, 3)"
      ]
     },
     "execution_count": 211,
     "metadata": {},
     "output_type": "execute_result"
    }
   ],
   "source": [
    "df_join.shape"
   ]
  },
  {
   "cell_type": "code",
   "execution_count": 212,
   "metadata": {},
   "outputs": [
    {
     "data": {
      "text/html": [
       "<div>\n",
       "<style scoped>\n",
       "    .dataframe tbody tr th:only-of-type {\n",
       "        vertical-align: middle;\n",
       "    }\n",
       "\n",
       "    .dataframe tbody tr th {\n",
       "        vertical-align: top;\n",
       "    }\n",
       "\n",
       "    .dataframe thead th {\n",
       "        text-align: right;\n",
       "    }\n",
       "</style>\n",
       "<table border=\"1\" class=\"dataframe\">\n",
       "  <thead>\n",
       "    <tr style=\"text-align: right;\">\n",
       "      <th></th>\n",
       "      <th>sellername</th>\n",
       "      <th>phone</th>\n",
       "      <th>fulldescription</th>\n",
       "    </tr>\n",
       "  </thead>\n",
       "  <tbody>\n",
       "    <tr>\n",
       "      <th>0</th>\n",
       "      <td>Станислав</td>\n",
       "      <td>+79035876687</td>\n",
       "      <td>ОЧНО!!! Дpузья!!! СРОЧНО!!! Сдаём 2х кoмнатную...</td>\n",
       "    </tr>\n",
       "    <tr>\n",
       "      <th>1</th>\n",
       "      <td>Ирина</td>\n",
       "      <td>+79277567372</td>\n",
       "      <td>Сдам на длительный срок 1-комн кв. порядочной ...</td>\n",
       "    </tr>\n",
       "    <tr>\n",
       "      <th>2</th>\n",
       "      <td>Ирина</td>\n",
       "      <td>+79277567372</td>\n",
       "      <td>Сдам на длительный срок 1-комн кв. порядочной ...</td>\n",
       "    </tr>\n",
       "    <tr>\n",
       "      <th>3</th>\n",
       "      <td>Ирина</td>\n",
       "      <td>+79815043884</td>\n",
       "      <td>Чистая, комфортабельная и уютная квартира. Лод...</td>\n",
       "    </tr>\n",
       "    <tr>\n",
       "      <th>4</th>\n",
       "      <td>Валерия</td>\n",
       "      <td>+79149910997</td>\n",
       "      <td>Cдaм кваpтиру в paйоне Высокий бeрeг с видoм н...</td>\n",
       "    </tr>\n",
       "  </tbody>\n",
       "</table>\n",
       "</div>"
      ],
      "text/plain": [
       "  sellername         phone                                    fulldescription\n",
       "0  Станислав  +79035876687  ОЧНО!!! Дpузья!!! СРОЧНО!!! Сдаём 2х кoмнатную...\n",
       "1      Ирина  +79277567372  Сдам на длительный срок 1-комн кв. порядочной ...\n",
       "2      Ирина  +79277567372  Сдам на длительный срок 1-комн кв. порядочной ...\n",
       "3      Ирина  +79815043884  Чистая, комфортабельная и уютная квартира. Лод...\n",
       "4    Валерия  +79149910997  Cдaм кваpтиру в paйоне Высокий бeрeг с видoм н..."
      ]
     },
     "execution_count": 212,
     "metadata": {},
     "output_type": "execute_result"
    }
   ],
   "source": [
    "df_join.head()"
   ]
  },
  {
   "cell_type": "code",
   "execution_count": 174,
   "metadata": {},
   "outputs": [
    {
     "name": "stdout",
     "output_type": "stream",
     "text": [
      "CPU times: user 6 µs, sys: 2 µs, total: 8 µs\n",
      "Wall time: 16.9 µs\n"
     ]
    }
   ],
   "source": [
    "%%time\n",
    "query_test=\\\n",
    "\"\"\"\n",
    "select replace (phone, '+7','8') as \"phone\"\n",
    "from inet_real_estate_parse_all\n",
    "\"\"\""
   ]
  },
  {
   "cell_type": "code",
   "execution_count": 175,
   "metadata": {},
   "outputs": [],
   "source": [
    "df_test = load.get_dataframe(query_test)"
   ]
  },
  {
   "cell_type": "code",
   "execution_count": 176,
   "metadata": {},
   "outputs": [
    {
     "data": {
      "text/html": [
       "<div>\n",
       "<style scoped>\n",
       "    .dataframe tbody tr th:only-of-type {\n",
       "        vertical-align: middle;\n",
       "    }\n",
       "\n",
       "    .dataframe tbody tr th {\n",
       "        vertical-align: top;\n",
       "    }\n",
       "\n",
       "    .dataframe thead th {\n",
       "        text-align: right;\n",
       "    }\n",
       "</style>\n",
       "<table border=\"1\" class=\"dataframe\">\n",
       "  <thead>\n",
       "    <tr style=\"text-align: right;\">\n",
       "      <th></th>\n",
       "      <th>phone</th>\n",
       "    </tr>\n",
       "  </thead>\n",
       "  <tbody>\n",
       "    <tr>\n",
       "      <th>0</th>\n",
       "      <td>89180062949</td>\n",
       "    </tr>\n",
       "    <tr>\n",
       "      <th>1</th>\n",
       "      <td>89060868838</td>\n",
       "    </tr>\n",
       "    <tr>\n",
       "      <th>2</th>\n",
       "      <td>89859306140</td>\n",
       "    </tr>\n",
       "    <tr>\n",
       "      <th>3</th>\n",
       "      <td>89189573369</td>\n",
       "    </tr>\n",
       "    <tr>\n",
       "      <th>4</th>\n",
       "      <td>89307463366</td>\n",
       "    </tr>\n",
       "  </tbody>\n",
       "</table>\n",
       "</div>"
      ],
      "text/plain": [
       "         phone\n",
       "0  89180062949\n",
       "1  89060868838\n",
       "2  89859306140\n",
       "3  89189573369\n",
       "4  89307463366"
      ]
     },
     "execution_count": 176,
     "metadata": {},
     "output_type": "execute_result"
    }
   ],
   "source": [
    "df_test.head()"
   ]
  },
  {
   "cell_type": "code",
   "execution_count": 231,
   "metadata": {},
   "outputs": [
    {
     "name": "stdout",
     "output_type": "stream",
     "text": [
      "CPU times: user 6 µs, sys: 2 µs, total: 8 µs\n",
      "Wall time: 17.2 µs\n"
     ]
    }
   ],
   "source": [
    "%%time\n",
    "qry_cnct_txt=\\\n",
    "\"\"\"\n",
    "select city ||','|| phones as \"city&phone\"\n",
    "from vk_real_estate_parse\n",
    "\"\"\""
   ]
  },
  {
   "cell_type": "code",
   "execution_count": 232,
   "metadata": {},
   "outputs": [],
   "source": [
    "df_cnt = load.get_dataframe(qry_cnct_txt)"
   ]
  },
  {
   "cell_type": "code",
   "execution_count": 233,
   "metadata": {},
   "outputs": [
    {
     "data": {
      "text/html": [
       "<div>\n",
       "<style scoped>\n",
       "    .dataframe tbody tr th:only-of-type {\n",
       "        vertical-align: middle;\n",
       "    }\n",
       "\n",
       "    .dataframe tbody tr th {\n",
       "        vertical-align: top;\n",
       "    }\n",
       "\n",
       "    .dataframe thead th {\n",
       "        text-align: right;\n",
       "    }\n",
       "</style>\n",
       "<table border=\"1\" class=\"dataframe\">\n",
       "  <thead>\n",
       "    <tr style=\"text-align: right;\">\n",
       "      <th></th>\n",
       "      <th>city&amp;phone</th>\n",
       "    </tr>\n",
       "  </thead>\n",
       "  <tbody>\n",
       "    <tr>\n",
       "      <th>0</th>\n",
       "      <td>,</td>\n",
       "    </tr>\n",
       "    <tr>\n",
       "      <th>1</th>\n",
       "      <td>Novosibirsk,</td>\n",
       "    </tr>\n",
       "    <tr>\n",
       "      <th>2</th>\n",
       "      <td>Barnaul,</td>\n",
       "    </tr>\n",
       "    <tr>\n",
       "      <th>3</th>\n",
       "      <td>41 years  Novosibirsk,</td>\n",
       "    </tr>\n",
       "    <tr>\n",
       "      <th>4</th>\n",
       "      <td>Barnaul,</td>\n",
       "    </tr>\n",
       "    <tr>\n",
       "      <th>5</th>\n",
       "      <td>Penza,9003150586</td>\n",
       "    </tr>\n",
       "    <tr>\n",
       "      <th>6</th>\n",
       "      <td>Rybinsk,</td>\n",
       "    </tr>\n",
       "    <tr>\n",
       "      <th>7</th>\n",
       "      <td>,</td>\n",
       "    </tr>\n",
       "    <tr>\n",
       "      <th>8</th>\n",
       "      <td>Moscow,</td>\n",
       "    </tr>\n",
       "    <tr>\n",
       "      <th>9</th>\n",
       "      <td>Ufa,89631403777</td>\n",
       "    </tr>\n",
       "  </tbody>\n",
       "</table>\n",
       "</div>"
      ],
      "text/plain": [
       "               city&phone\n",
       "0                       ,\n",
       "1            Novosibirsk,\n",
       "2                Barnaul,\n",
       "3  41 years  Novosibirsk,\n",
       "4                Barnaul,\n",
       "5        Penza,9003150586\n",
       "6                Rybinsk,\n",
       "7                       ,\n",
       "8                 Moscow,\n",
       "9         Ufa,89631403777"
      ]
     },
     "execution_count": 233,
     "metadata": {},
     "output_type": "execute_result"
    }
   ],
   "source": [
    "df_cnt.head(10)"
   ]
  },
  {
   "cell_type": "code",
   "execution_count": null,
   "metadata": {
    "collapsed": true
   },
   "outputs": [],
   "source": []
  }
 ],
 "metadata": {
  "kernelspec": {
   "display_name": "Python 3.5.3 (ZNO0059623792)",
   "language": "python",
   "name": "python35_zno0059623792"
  },
  "language_info": {
   "codemirror_mode": {
    "name": "ipython",
    "version": 3
   },
   "file_extension": ".py",
   "mimetype": "text/x-python",
   "name": "python",
   "nbconvert_exporter": "python",
   "pygments_lexer": "ipython3",
   "version": "3.5.3"
  }
 },
 "nbformat": 4,
 "nbformat_minor": 2
}
