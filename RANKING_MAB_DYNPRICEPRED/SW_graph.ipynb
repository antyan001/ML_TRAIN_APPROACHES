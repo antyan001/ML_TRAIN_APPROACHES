{
 "cells": [
  {
   "cell_type": "code",
   "execution_count": 157,
   "id": "94a03adf",
   "metadata": {},
   "outputs": [],
   "source": [
    "from collections import OrderedDict, defaultdict\n",
    "from typing import Callable, Tuple, Dict, List, OrderedDict\n",
    "\n",
    "import numpy as np\n",
    "from numpy.linalg import norm\n",
    "from tqdm.auto import tqdm"
   ]
  },
  {
   "cell_type": "code",
   "execution_count": 168,
   "id": "a31ad804",
   "metadata": {},
   "outputs": [],
   "source": [
    "def distance(pointA: np.ndarray, documents: np.ndarray) -> np.ndarray:\n",
    "    dist = np.linalg.norm(pointA-documents, axis = 1, keepdims = True)\n",
    "    return dist\n",
    "\n",
    "def create_sw_graph(\n",
    "        data: np.ndarray,\n",
    "        num_candidates_for_choice_long: int = 10,\n",
    "        num_edges_long: int = 5,\n",
    "        num_candidates_for_choice_short: int = 10,\n",
    "        num_edges_short: int = 5,\n",
    "        use_sampling: bool = False,\n",
    "        sampling_share: float = 0.05,\n",
    "        dist_f: Callable = distance\n",
    "    ) -> Dict[int, List[int]]:\n",
    " \n",
    "    sw_graph = dict()\n",
    "    for in_i, i in enumerate(data):\n",
    "        distanses = dist_f(i, data).squeeze()\n",
    "        distanses = distanses.argsort(axis=0)[1:]\n",
    "        top_long_dist = distanses[-num_candidates_for_choice_long:][::-1]\n",
    "        top_l_dist = np.random.choice(top_long_dist, num_edges_long, replace=False)\n",
    "        top_short_dist = distanses[:num_candidates_for_choice_short]\n",
    "        top_sh_dist = np.random.choice(top_short_dist, num_edges_short, replace=False)\n",
    "        sw_graph[in_i] = np.concatenate([top_l_dist, top_sh_dist])\n",
    "    return sw_graph\n",
    "\n",
    "#     graph_dct: OrderedDict[str, int] = OrderedDict()\n",
    "#     if use_sampling:\n",
    "#         N = len(data)\n",
    "#         sampled_size = int(sampling_share*N)\n",
    "#         sampled_indx = np.random.choice(range(N), sampled_size)\n",
    "#         data = np.take(data, sampled_indx, axis=0)\n",
    "        \n",
    "#     N, _ = data.shape\n",
    "#     data_indxs = list(range(N))\n",
    "\n",
    "#     for indx, point in tqdm(enumerate(data), total=N):\n",
    "#         pntA = data[indx]\n",
    "#         others_indx = np.array(list(set(data_indxs) - set({indx})), dtype=np.int32)\n",
    "# #         print(others_indx)\n",
    "#         dists_arr = dist_f(pntA, np.take(data, others_indx, axis=0))\n",
    "#         dist2indx = np.concatenate((dists_arr, others_indx.reshape(-1,1)),axis=1)\n",
    "#         sorted_indx = np.argsort(dist2indx, axis=0)\n",
    "#         pos = dist2indx[sorted_indx, 1].reshape(-1).astype(int)\n",
    "#         long_indx = np.random.choice(pos[-num_candidates_for_choice_long:], \n",
    "#                                      size=num_edges_long, \n",
    "#                                      replace=False\n",
    "#                                     )\n",
    "#         short_indx = np.random.choice(pos[:num_candidates_for_choice_short], \n",
    "#                                       size=num_edges_short,\n",
    "#                                       replace=False\n",
    "#                                      )        \n",
    "#         graph_dct[indx] = list(long_indx)+list(short_indx)\n",
    "    \n",
    "#     return graph_dct\n",
    "\n",
    "def nsw_(query_point: np.ndarray, all_documents: np.ndarray,\n",
    "        graph_edges: Dict[int, List[int]],\n",
    "        search_k: int = 10, num_start_points: int = 5,\n",
    "        dist_f: Callable = distance) -> np.ndarray:\n",
    "    # допишите ваш код здесь\n",
    "    query = np.random.choice(range(all_documents.shape[0]), num_start_points)\n",
    "    visited_vertex = dict()\n",
    "    for i in query:\n",
    "        distances = dist_f(query_point, all_documents[graph_edges[i]]).squeeze()\n",
    "        #print(graph_edges[i])\n",
    "        #print(distances)\n",
    "        visited_vertex.update(list(zip(graph_edges[i], distances)))\n",
    "#         print(f\"{i} #{list(visited_vertex.keys())}\")\n",
    "    sorted_vertex = np.array(sorted(list(visited_vertex.items()), key = lambda x: x[1]))[:, 0][:search_k]\n",
    "    \n",
    "    return sorted_vertex.astype(int)\n",
    "\n",
    "def nsw(query_point: np.ndarray, \n",
    "        all_documents: np.ndarray, \n",
    "        graph_edges: Dict[int, List[int]],\n",
    "        search_k: int = 10, \n",
    "        num_start_points: int = 5,\n",
    "        dist_f: Callable = distance) -> np.ndarray:\n",
    "    \n",
    "    N = list(graph_edges.keys())\n",
    "    numOfPassedPnt = 10\n",
    "    \n",
    "#     np.random.seed(0)\n",
    "    \n",
    "    rnd_start = np.random.choice(N, num_start_points, replace=False) \n",
    "    visited_vertex = dict()\n",
    "    for pnt in rnd_start:\n",
    "        ref_pnt = pnt\n",
    "        cnt = 0\n",
    "        while True:\n",
    "            out_dist = dist_f(query_point, all_documents[graph_edges[ref_pnt]]).squeeze()\n",
    "            visited_vertex.update(list(zip(graph_edges[ref_pnt], out_dist)))\n",
    "            if (cnt >= numOfPassedPnt):\n",
    "                break\n",
    "            sorted_indx = np.array(sorted(list(visited_vertex.items()), \n",
    "                                                    key = lambda x: x[1])\n",
    "                                            )[0, 0]           \n",
    "            ref_pnt = int(sorted_indx)\n",
    "            cnt+=1\n",
    "        sorted_vertex = np.array(sorted(list(visited_vertex.items()), \n",
    "                                        key = lambda x: x[1])\n",
    "                                )[:, 0][:search_k]\n",
    "    return sorted_vertex.astype(int)\n",
    "\n",
    "# def nsw(query_point: np.ndarray, \n",
    "#         all_documents: np.ndarray, \n",
    "#         graph_edges: Dict[int, List[int]],\n",
    "#         search_k: int = 10, \n",
    "#         num_start_points: int = 5,\n",
    "#         dist_f: Callable = distance) -> np.ndarray:\n",
    "    \n",
    "#     all_nearest_pnts = OrderedDict()\n",
    "#     nearest_pnts = OrderedDict()\n",
    "#     N = list(graph_edges.keys())\n",
    "#     numOfPassedPnt = 5\n",
    "#     numOfMaxRandomization = 5\n",
    "#     allfound = False\n",
    "    \n",
    "# #     np.random.seed(0)\n",
    "#     rnd_ini_cnt = 0\n",
    "    \n",
    "#     while True:\n",
    "#         rnd_start = np.random.choice(N, num_start_points, replace=False) \n",
    "#         rnd_ini_cnt += 1\n",
    "#         for pnt in rnd_start:\n",
    "#             nearest_pnts = OrderedDict()\n",
    "#             ref_pnt = pnt\n",
    "#             cnt = 0\n",
    "#             while True:\n",
    "#                 cnt+=1\n",
    "#                 out_dist = distance(query_point, all_documents[graph_edges[ref_pnt]]).squeeze()\n",
    "#                 sorted_indx = np.argsort(out_dist)\n",
    "#                 dist_n, ind_n = out_dist[sorted_indx[0]], graph_edges[ref_pnt][sorted_indx[0]]\n",
    "# #                 print(pnt, dist_n, ind_n, \"##\", \", \".join([str(k) for k, _ in all_nearest_pnts.items()]))\n",
    "#                 if (len(nearest_pnts) == search_k) | (cnt >= numOfPassedPnt):\n",
    "#                     tup = [(k,v) for k,v in nearest_pnts.items()]\n",
    "#                     local_nearest = sorted(tup, key=lambda x: x[1])[0]\n",
    "#                     all_nearest_pnts.update({local_nearest[0]:local_nearest[1]})\n",
    "#                     break\n",
    "#                 elif len(nearest_pnts)==0:\n",
    "#                     nearest_pnts[ind_n] = dist_n\n",
    "#                 elif (dist_n < np.array([v for _,v in nearest_pnts.items()]).min()):\n",
    "#                     nearest_pnts[ind_n] = dist_n\n",
    "#                 elif rnd_ini_cnt >= numOfMaxRandomization:\n",
    "#                     res = list(zip(graph_edges[ref_pnt], out_dist))\n",
    "#                     _dct = dict(res)\n",
    "#                     all_nearest_pnts.update(_dct)\n",
    "#                     break\n",
    "                    \n",
    "#                 ref_pnt = ind_n\n",
    "#             if len(all_nearest_pnts) >= search_k:\n",
    "#                 allfound = True\n",
    "#                 break\n",
    "#         if allfound: break\n",
    "            \n",
    "#         if rnd_ini_cnt >= numOfMaxRandomization:\n",
    "#             pass\n",
    "# #             pntfromlastoop = sorted([(k,v) for k, _ in all_nearest_pnts.items()], lambda x: x[1])[-1][0]\n",
    "           \n",
    "#     return np.array([k for k, _ in all_nearest_pnts.items()])[:search_k]\n"
   ]
  },
  {
   "cell_type": "code",
   "execution_count": 159,
   "id": "f226e41a",
   "metadata": {
    "scrolled": true
   },
   "outputs": [],
   "source": [
    "N = 200\n",
    "dim = 100\n",
    "documents = np.random.randn(N,dim)\n",
    "query = np.random.randn(1,dim)"
   ]
  },
  {
   "cell_type": "code",
   "execution_count": 153,
   "id": "9340f10b",
   "metadata": {},
   "outputs": [
    {
     "data": {
      "text/plain": [
       "(100, 200)"
      ]
     },
     "execution_count": 153,
     "metadata": {},
     "output_type": "execute_result"
    }
   ],
   "source": [
    "diff = query.reshape(-1,1) - np.transpose(documents, (1,0))\n",
    "diff.shape"
   ]
  },
  {
   "cell_type": "code",
   "execution_count": 154,
   "id": "7676ac31",
   "metadata": {
    "scrolled": true
   },
   "outputs": [
    {
     "data": {
      "text/plain": [
       "array([12.94096826, 12.34656274, 13.3176857 , 12.78798224, 12.84057816,\n",
       "       13.76788397, 13.51852287, 12.37913119, 13.56270957, 13.35401403,\n",
       "       14.47644703, 12.67214219, 12.78114363, 14.75969695, 12.92913957,\n",
       "       13.78725913, 14.26709887, 13.25608621, 12.58773002, 13.38394433,\n",
       "       15.52113904, 12.78835231, 13.88408675, 13.13441247, 13.70124271,\n",
       "       13.35543822, 14.53143574, 14.54222885, 14.80041709, 14.70106368,\n",
       "       13.18178027, 12.10342057, 13.60313734, 14.57790904, 13.18813521,\n",
       "       13.81732067, 14.00934993, 13.30250725, 13.79863683, 14.68264012,\n",
       "       12.76603164, 14.17642106, 14.68177373, 13.79574296, 13.95019656,\n",
       "       12.9124668 , 12.95719454, 14.00435476, 15.61099068, 14.17653652,\n",
       "       14.42813739, 12.77702516, 14.63529312, 13.84560216, 15.51758456,\n",
       "       13.31238796, 13.71093988, 14.25359205, 14.02524398, 13.7125792 ,\n",
       "       14.61573458, 14.36371592, 14.94988882, 15.1389256 , 12.82714306,\n",
       "       13.50456823, 13.63751708, 14.08275188, 13.22887738, 14.41363537,\n",
       "       11.82033075, 14.64407213, 13.4526448 , 15.59667706, 13.1307906 ,\n",
       "       13.27729016, 13.89410998, 15.12665128, 12.63740004, 13.3682886 ,\n",
       "       14.89363475, 15.57435838, 13.42057178, 15.36596734, 13.65143476,\n",
       "       14.26000735, 12.5670762 , 14.45744827, 13.22440429, 14.0563952 ,\n",
       "       13.75991422, 14.58686739, 14.49888287, 13.56504974, 12.99594885,\n",
       "       12.96098909, 13.86551782, 13.06489395, 14.77348748, 14.65788381,\n",
       "       14.29697555, 11.52936637, 13.04468188, 11.45134448, 12.14135847,\n",
       "       12.85405188, 13.7567263 , 13.22595566, 13.41868582, 13.98206347,\n",
       "       15.47060499, 12.457522  , 13.44163525, 13.36534337, 13.32748741,\n",
       "       13.17849922, 12.51546814, 14.3503819 , 12.53435221, 12.99340993,\n",
       "       14.84943273, 13.78795113, 13.24191586, 13.84301011, 14.03454968,\n",
       "       14.18334768, 13.59298566, 12.38165526, 14.48210397, 13.93803676,\n",
       "       14.41762531, 14.5704905 , 13.55704034, 14.24964769, 14.72572896,\n",
       "       14.02365423, 13.43637437, 15.33418724, 12.09354723, 13.88540371,\n",
       "       13.75163681, 14.01194318, 15.75082196, 12.20901399, 13.37623334,\n",
       "       12.43822201, 13.71347842, 13.10493696, 12.21218322, 13.36730189,\n",
       "       13.03439681, 14.17961821, 13.7387919 , 13.75098324, 13.89606048,\n",
       "       15.03895424, 13.55241261, 13.48904547, 12.91322072, 13.71927052,\n",
       "       15.1915157 , 13.69177682, 13.52518905, 13.75399631, 13.60986174,\n",
       "       14.14728606, 13.00210519, 14.15647944, 13.68636041, 14.85888028,\n",
       "       13.71620654, 14.23584966, 12.78299226, 15.20158736, 14.98890533,\n",
       "       14.48114304, 14.13933522, 12.93922267, 15.39557787, 13.21804156,\n",
       "       13.53172691, 12.61732821, 13.2757457 , 13.61899079, 13.32456089,\n",
       "       13.81133536, 14.53399906, 14.32229591, 13.92887017, 13.46545269,\n",
       "       12.85437178, 14.67768733, 15.61524002, 11.74944385, 13.89216902,\n",
       "       14.243219  , 12.94763771, 13.3937166 , 13.0750519 , 14.47541372])"
      ]
     },
     "execution_count": 154,
     "metadata": {},
     "output_type": "execute_result"
    }
   ],
   "source": [
    "distances = distance(query, documents)\n",
    "# distances_alt = distance_alt(query, documents)\n",
    "# np.allclose(distances, distances)\n",
    "distances.squeeze()"
   ]
  },
  {
   "cell_type": "code",
   "execution_count": 160,
   "id": "47c8e372",
   "metadata": {
    "scrolled": false
   },
   "outputs": [],
   "source": [
    "sw_graph = create_sw_graph(documents, \n",
    "                           dist_f=distance, \n",
    "                           use_sampling=False)"
   ]
  },
  {
   "cell_type": "code",
   "execution_count": 33,
   "id": "65c30d32",
   "metadata": {
    "scrolled": true
   },
   "outputs": [
    {
     "data": {
      "application/vnd.jupyter.widget-view+json": {
       "model_id": "c007baf6d286458b9e3265e3debdb7db",
       "version_major": 2,
       "version_minor": 0
      },
      "text/plain": [
       "  0%|          | 0/500 [00:00<?, ?it/s]"
      ]
     },
     "metadata": {},
     "output_type": "display_data"
    }
   ],
   "source": [
    "for i in tqdm(range(500)):\n",
    "    out = nsw(query, documents, sw_graph, num_start_points=5, search_k=50)\n",
    "#     print(len(out))"
   ]
  },
  {
   "cell_type": "code",
   "execution_count": 171,
   "id": "d7d55af5",
   "metadata": {
    "scrolled": true
   },
   "outputs": [
    {
     "data": {
      "text/plain": [
       "array([162, 125,   9, 120,   2, 169, 152,  44, 135,  56, 164, 176, 190])"
      ]
     },
     "execution_count": 171,
     "metadata": {},
     "output_type": "execute_result"
    }
   ],
   "source": [
    "nsw(query, \n",
    "    documents, \n",
    "    sw_graph, \n",
    "    num_start_points=5, \n",
    "    search_k=13)"
   ]
  },
  {
   "cell_type": "code",
   "execution_count": 172,
   "id": "59a962eb",
   "metadata": {},
   "outputs": [
    {
     "data": {
      "text/plain": [
       "array([ 30,  86, 125,   2, 169, 164, 176, 131, 186,  59,  77, 114,  62])"
      ]
     },
     "execution_count": 172,
     "metadata": {},
     "output_type": "execute_result"
    }
   ],
   "source": [
    "nsw_(query, \n",
    "    documents, \n",
    "    sw_graph, \n",
    "    num_start_points=5, \n",
    "    search_k=13)"
   ]
  },
  {
   "cell_type": "code",
   "execution_count": null,
   "id": "2293d149",
   "metadata": {},
   "outputs": [],
   "source": []
  }
 ],
 "metadata": {
  "kernelspec": {
   "display_name": "py_37_env",
   "language": "python",
   "name": "py_37_env"
  },
  "language_info": {
   "codemirror_mode": {
    "name": "ipython",
    "version": 3
   },
   "file_extension": ".py",
   "mimetype": "text/x-python",
   "name": "python",
   "nbconvert_exporter": "python",
   "pygments_lexer": "ipython3",
   "version": "3.7.9"
  }
 },
 "nbformat": 4,
 "nbformat_minor": 5
}
