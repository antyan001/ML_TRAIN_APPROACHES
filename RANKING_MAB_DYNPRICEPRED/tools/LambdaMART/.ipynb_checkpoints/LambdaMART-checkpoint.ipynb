{
 "cells": [
  {
   "cell_type": "code",
   "execution_count": 2,
   "metadata": {},
   "outputs": [],
   "source": [
    "import os\n",
    "import shutil\n",
    "import math\n",
    "import pickle\n",
    "import random\n",
    "from typing import List, Tuple, Dict\n",
    "\n",
    "import pandas as pd\n",
    "import numpy as np\n",
    "import torch\n",
    "import sklearn\n",
    "from catboost.datasets import msrank_10k\n",
    "from sklearn.preprocessing import StandardScaler, MaxAbsScaler\n",
    "from sklearn.impute import SimpleImputer\n",
    "from sklearn.tree import DecisionTreeRegressor"
   ]
  },
  {
   "cell_type": "code",
   "execution_count": 23,
   "metadata": {},
   "outputs": [],
   "source": [
    "class Solution:\n",
    "    def __init__(self, \n",
    "                 n_estimators: int = 100, \n",
    "                 lr: float = 0.5, \n",
    "                 ndcg_top_k: int = 10,\n",
    "                 subsample: float = 1.0, \n",
    "                 colsample_bytree: float = 1.0,\n",
    "                 loadfromlocal: bool = True,\n",
    "                 train_name = \"msrank_train.csv\",\n",
    "                 test_name  = \"msrank_test.csv\",\n",
    "                 **kwarg):\n",
    "        \n",
    "        self.eps = 1.e-11       \n",
    "        self.std_sc = StandardScaler()\n",
    "        self.max_sc = MaxAbsScaler() \n",
    "        self.trees = []\n",
    "        self.ndcg_lst = []\n",
    "        self.tree_cols_indx = []\n",
    "        self.best_ndcg = None\n",
    "        \n",
    "        self.gain_scheme = 'exp2'\n",
    "        self.ndcg_top_k = ndcg_top_k\n",
    "        self.n_estimators = n_estimators\n",
    "        self.lr = lr\n",
    "        self.subsample = subsample\n",
    "        self.colsample_bytree = colsample_bytree\n",
    "        self.loadfromlocal = loadfromlocal\n",
    "        self.train_dataset_name = train_name\n",
    "        self.test_dataset_name = test_name\n",
    "\n",
    "        self._prepare_data()\n",
    "        self.num_samples,  self.num_input_features = self.X_train.shape\n",
    "        \n",
    "#         self.max_depth = max_depth\n",
    "#         self.min_samples_leaf = min_samples_leaf\n",
    "\n",
    "        self.tree_params = kwarg  \n",
    "        \n",
    "    def _groups_count_vectorizer(self, inp_query_ids: np.ndarray) -> Dict:\n",
    "        uniq_indx={}\n",
    "        for ind in inp_query_ids:\n",
    "            if ind not in uniq_indx:\n",
    "                uniq_indx[ind]=1\n",
    "            else:\n",
    "                uniq_indx[ind]+=1\n",
    "                \n",
    "        return uniq_indx\n",
    "        \n",
    "    def _get_data(self) -> List[np.ndarray]:\n",
    "                \n",
    "        if not self.loadfromlocal:\n",
    "            train_df, test_df = msrank_10k()\n",
    "        else:\n",
    "            train_df = pd.read_csv(os.path.join(\"./csv\", self.train_dataset_name), header=None)\n",
    "            test_df  = pd.read_csv(os.path.join(\"./csv\", self.test_dataset_name), header=None)\n",
    "\n",
    "        X_train = train_df.drop([0, 1], axis=1).values\n",
    "        y_train = train_df[0].values\n",
    "        query_ids_train = train_df[1].values.astype(int)\n",
    "\n",
    "        X_test = test_df.drop([0, 1], axis=1).values\n",
    "        y_test = test_df[0].values\n",
    "        query_ids_test = test_df[1].values.astype(int)\n",
    "\n",
    "        return [X_train, y_train, query_ids_train, X_test, y_test, query_ids_test]\n",
    "\n",
    "    def _prepare_data(self) -> None:\n",
    "        (X_train, y_train, self.query_ids_train,\n",
    "            X_test, y_test, self.query_ids_test) = self._get_data()\n",
    "        \n",
    "        self.X_train = torch.FloatTensor(self._scale_features_in_query_groups(X_train, \n",
    "                                                            self.query_ids_train))\n",
    "        self.X_test  = torch.FloatTensor(self._scale_features_in_query_groups(X_test, \n",
    "                                                            self.query_ids_test))\n",
    "        \n",
    "        self.ys_train = torch.FloatTensor(y_train).view(-1,1)\n",
    "        self.ys_test  = torch.FloatTensor(y_test).view(-1,1)\n",
    "        \n",
    "        \n",
    "    def _scale_features_in_query_groups(self, inp_feat_array: np.ndarray,\n",
    "                                        inp_query_ids: np.ndarray) -> np.ndarray:\n",
    "      \n",
    "        uniq_indx =self._groups_count_vectorizer(inp_query_ids)\n",
    "\n",
    "        shift = 0\n",
    "        for ind, cnt in uniq_indx.items():\n",
    "\n",
    "            sample = inp_feat_array[shift: shift+cnt]\n",
    "            std_lst = sample.std(axis=0)\n",
    "            const_cols = np.where(abs(std_lst) <= self.eps)[0]\n",
    "\n",
    "            mask = np.zeros(sample.shape[-1], dtype=bool)\n",
    "            mask[const_cols] = True   \n",
    "            sample[:, mask] = self.max_sc.fit_transform(sample[:,mask])\n",
    "\n",
    "            if len(const_cols) < sample.shape[-1]:\n",
    "                mask = np.ones(sample.shape[-1], dtype=bool)\n",
    "                mask[const_cols] = False  \n",
    "                sample[:, mask] = self.std_sc.fit_transform(sample[:,mask])\n",
    "\n",
    "            inp_feat_array[shift: shift+cnt] = sample\n",
    "\n",
    "            shift+=cnt\n",
    "                                                            \n",
    "        return inp_feat_array \n",
    "\n",
    "\n",
    "    def compute_gain(self, y_value: float, gain_scheme: str) -> float:\n",
    "        if gain_scheme == 'const':\n",
    "            return y_value\n",
    "        elif gain_scheme == 'exp2':\n",
    "            return 2.**y_value - 1.\n",
    "        else:\n",
    "            return y_value\n",
    "    \n",
    "    def dcg_k(self, ys_true: torch.Tensor, ys_pred: torch.Tensor, k: int) -> float:\n",
    "        _, indices = torch.sort(ys_pred, descending=True)\n",
    "        sorted_true = ys_true[indices][:k].numpy()\n",
    "        gain = self.compute_gain(sorted_true, self.gain_scheme)\n",
    "        discount = [math.log2(float(x)) for x in range(2, len(sorted_true) + 2)]\n",
    "        discounted_gain = float((gain / discount).sum())\n",
    "        return discounted_gain\n",
    "    \n",
    "    def _ndcg_k(self, ys_true: torch.Tensor, ys_pred: torch.Tensor, ndcg_top_k: int = 10) -> float:\n",
    "        # допишите ваш код здесь  (обратите внимание, что используются вектора numpy)\n",
    "      \n",
    "        discounted_dsg = self.dcg_k(ys_true, ys_pred, ndcg_top_k)\n",
    "        ideal_dcg      = self.dcg_k(ys_true, ys_true, ndcg_top_k)\n",
    "        \n",
    "        if ideal_dcg != 0:\n",
    "            ndcg = discounted_dsg / ideal_dcg\n",
    "        else:\n",
    "            ndcg = 0\n",
    "        return ndcg\n",
    "        \n",
    "        return current_dcg / ideal_dcg\n",
    "    \n",
    "    def idcg(self, ys_true: torch.FloatTensor, gain_scheme: str, is2Darr: bool = True) -> float:\n",
    "\n",
    "        if not is2Darr:\n",
    "            assert ys_true.dim() == 1\n",
    "            assert ys_pred.dim() == 1    \n",
    "\n",
    "            ys_true = ys_true.reshape((-1,1)).type(torch.float64)\n",
    "\n",
    "        input_shape = ys_true.shape[0]\n",
    "\n",
    "        t_sorted = ys_true.sort(descending=True, axis=0)[0]\n",
    "\n",
    "        input_tensor = t_sorted.numpy()\n",
    "\n",
    "        factors = torch.Tensor([\n",
    "                                self.compute_gain(y_value = input_tensor[i], \n",
    "                                                  gain_scheme = gain_scheme\n",
    "                                                 )/math.log2(i+2)\n",
    "                                for i in range(input_tensor.shape[0])\n",
    "                               ]\n",
    "                              ).type(torch.float64)    \n",
    "\n",
    "#         idcg = torch.cusum(factors,dim=0)[-1]\n",
    "        idcg = torch.sum(factors,dim=0)\n",
    "        \n",
    "        res = float(idcg.squeeze(0).numpy())\n",
    "        \n",
    "        return res\n",
    "    \n",
    "    def compute_labels_in_batch(self, y_true):\n",
    "\n",
    "        rel_diff = y_true - y_true.t()\n",
    "        pos_pairs = (rel_diff > 0).type(torch.float32)\n",
    "        neg_pairs = (rel_diff < 0).type(torch.float32)\n",
    "        Sij = pos_pairs - neg_pairs\n",
    "        \n",
    "        return Sij\n",
    "\n",
    "    \n",
    "    def compute_gain_diff(self, y_true, gain_scheme):\n",
    "        if gain_scheme == \"exp2\":\n",
    "            gain_diff = torch.pow(2.0, y_true) - torch.pow(2.0, y_true.t())\n",
    "        elif gain_scheme == \"diff\":\n",
    "            gain_diff = y_true - y_true.t()\n",
    "        else:\n",
    "            raise ValueError(f\"{gain_scheme} method not supported\")\n",
    "        return gain_diff    \n",
    "    \n",
    "    \n",
    "    def _compute_lambdas(self, y_true: torch.FloatTensor, y_pred: torch.FloatTensor) -> torch.FloatTensor:\n",
    "        \n",
    "        ideal_dcg = self.idcg(y_true, gain_scheme=self.gain_scheme)\n",
    "        \n",
    "        try:\n",
    "            N = 1 / ideal_dcg\n",
    "        except:\n",
    "            N = 1.\n",
    "            \n",
    "        _, rank_order = torch.sort(y_true, descending=True, axis=0)\n",
    "        rank_order += 1\n",
    "\n",
    "        with torch.no_grad():\n",
    "            pos_pairs_score_diff = 1.0 + torch.exp((y_pred - y_pred.t()))\n",
    "\n",
    "            Sij = self.compute_labels_in_batch(y_true)\n",
    "            gain_diff = self.compute_gain_diff(y_true, self.gain_scheme)\n",
    "            decay_diff = (1.0 / torch.log2(rank_order + 1.0)) - (1.0 / torch.log2(rank_order.t() + 1.0))\n",
    "            delta_ndcg = torch.abs(N * gain_diff * decay_diff)\n",
    "            lambda_update =  (0.5 * (1 - Sij) - 1 / pos_pairs_score_diff) * delta_ndcg\n",
    "            lambda_update = torch.sum(lambda_update, dim=1, keepdim=True)\n",
    "\n",
    "            return lambda_update\n",
    "\n",
    "\n",
    "    def _calc_data_ndcg(self, queries_list: np.ndarray,\n",
    "                        true_labels: torch.FloatTensor, preds: torch.FloatTensor) -> float:\n",
    "        \n",
    "        uniq_indx = self._groups_count_vectorizer(queries_list)\n",
    "        with torch.no_grad(): \n",
    "            \n",
    "            shift = 0\n",
    "            ndcgs = []\n",
    "            for ind, cnt in uniq_indx.items():\n",
    "\n",
    "                batch_preds = preds[shift: shift+cnt]\n",
    "                batch_true = true_labels[shift: shift+cnt]\n",
    "                ndcg_score = self._ndcg_k(batch_true.reshape(-1), batch_preds.reshape(-1), self.ndcg_top_k)            \n",
    "                ndcgs.append(ndcg_score)\n",
    "\n",
    "                shift+=cnt\n",
    "            \n",
    "            res = np.mean(ndcgs) \n",
    "        \n",
    "        return res\n",
    " \n",
    "\n",
    "    def _train_one_tree(self, cur_tree_idx: int,\n",
    "                        train_preds: torch.FloatTensor\n",
    "                        ) -> Tuple[DecisionTreeRegressor, np.ndarray]:\n",
    "        \n",
    "        if cur_tree_idx == 1:\n",
    "            self.seed = cur_tree_idx\n",
    "  \n",
    "        uniq_indx = self._groups_count_vectorizer(self.query_ids_train)\n",
    "    \n",
    "        with torch.no_grad(): \n",
    "            \n",
    "            shift = 0\n",
    "            lambda_update = torch.Tensor().view(-1,1)\n",
    "            for ind, cnt in uniq_indx.items(): \n",
    "                \n",
    "                batch_x = self.X_train[shift: shift+cnt]\n",
    "                batch_y = self.ys_train[shift: shift+cnt]\n",
    "                tr_preds = train_preds[shift: shift+cnt]\n",
    "                lambda_batch = self._compute_lambdas(batch_y, tr_preds)\n",
    "                lambda_update = torch.vstack((lambda_update,lambda_batch)) \n",
    "                \n",
    "                shift+=cnt\n",
    "            \n",
    "#             print(f\"one tree --> lambdas min {lambda_update.min()} | max {lambda_update.max()}\")\n",
    "            \n",
    "            rand_samples =  torch.randperm(self.num_samples)[:int(self.subsample*self.num_samples)]\n",
    "    \n",
    "            rand_colsample = torch.randperm(self.num_input_features)[:int(self.colsample_bytree*self.num_input_features)]\n",
    "        \n",
    "            tr_subset = self.X_train[rand_samples,:][:,rand_colsample].numpy().astype(np.float64)\n",
    "            lambdas_subset = lambda_update[rand_samples].numpy().astype(np.float64)\n",
    "            \n",
    "            imp_mean = SimpleImputer(missing_values=np.nan, strategy='mean')\n",
    "            \n",
    "            X = imp_mean.fit_transform(tr_subset)\n",
    "            y = lambdas_subset #imp_mean.fit_transform(lambdas_subset) \n",
    "                        \n",
    "            dtree = DecisionTreeRegressor( \n",
    "                                            random_state = self.seed,\n",
    "                                            **self.tree_params\n",
    "                                         )\n",
    "\n",
    "            dtree.fit(X, y)\n",
    "\n",
    "            return dtree, rand_colsample.numpy() \n",
    "\n",
    "        \n",
    "    def _update_terminal_regions(self, tree, X, y, lambdas, y_pred,\n",
    "                                 sample_mask = None):\n",
    "        \n",
    "        terminal_regions = tree.apply(X)\n",
    "        masked_terminal_regions = terminal_regions.copy()\n",
    "    #     masked_terminal_regions[~sample_mask] = -1\n",
    "\n",
    "        for leaf in np.where(tree.tree_.children_left ==\n",
    "                             sklearn.tree._tree.TREE_LEAF)[0]:\n",
    "            terminal_region = np.where(masked_terminal_regions == leaf)\n",
    "            suml = np.sum(lambdas[terminal_region])\n",
    "    #         sumd = np.sum(deltas[terminal_region])\n",
    "    #         tree.value[leaf, 0, 0] = 0.0 if sumd == 0.0 else (suml / sumd)\n",
    "            tree.tree_.value[leaf, 0, 0] = 0.0 if suml == 0.0 else suml\n",
    "\n",
    "        y_pred += tree.tree_.value[terminal_regions, 0, 0] * self.lr\n",
    "        \n",
    "        return y_pred, tree\n",
    "\n",
    "\n",
    "    def fit(self):\n",
    "        \n",
    "        np.random.seed(0)\n",
    "        \n",
    "        ##train cum preds\n",
    "        lamb_preds_tr = torch.zeros_like(self.ys_train) + self.eps\n",
    "        ## val cum preds\n",
    "        results = torch.zeros_like(self.ys_test) + self.eps\n",
    "        \n",
    "        for i in range(1, self.n_estimators+1):\n",
    "            \n",
    "            dtree, cols_indx = self._train_one_tree( cur_tree_idx = i,\n",
    "                                                     train_preds = lamb_preds_tr\n",
    "                                                   )  \n",
    "            \n",
    "            X = self.X_train[:,cols_indx].numpy()\n",
    "#             y = self.ys_train[cols_indx].numpy()\n",
    "            lamb_update_tr = dtree.predict(X)\n",
    "            lamb_preds_tr -= torch.Tensor(lamb_update_tr[:,np.newaxis])*self.lr\n",
    "            \n",
    "            self.trees.append(dtree)\n",
    "            self.tree_cols_indx.append(cols_indx)\n",
    "            \n",
    "#             lamb_preds_tr, dtree = self._update_terminal_regions(tree = dtree, \n",
    "#                                                                  X = X, \n",
    "#                                                                  y = y, \n",
    "#                                                                  lambdas = lamb_update_tr, \n",
    "#                                                                  y_pred = lamb_preds_tr.view(-1).numpy())                   \n",
    "#             lamb_preds_tr = torch.Tensor(lamb_preds_tr).view(-1,1)\n",
    "\n",
    "\n",
    "            X_ts = self.X_test[:,cols_indx]\n",
    "            lamb_update_ts = dtree.predict(X_ts)  \n",
    "            results -= self.lr * torch.Tensor(lamb_update_ts[:,np.newaxis])\n",
    "            mean_ndcgs    = self._calc_data_ndcg( queries_list=self.query_ids_test,\n",
    "                                                  true_labels=self.ys_test, \n",
    "                                                  preds=results\n",
    "                                                )            \n",
    "\n",
    "            self.ndcg_lst.append(mean_ndcgs)\n",
    "            print(\"##estimator: {} ## TEST --> mean_ndcg: {}\".format(i, mean_ndcgs))\n",
    "        \n",
    "        self.best_tree_indx = np.argmax(self.ndcg_lst)\n",
    "                \n",
    "        if self.best_tree_indx > 0:\n",
    "            self.trees = self.trees[:self.best_tree_indx]\n",
    "            self.tree_cols_indx = self.tree_cols_indx[:self.best_tree_indx]\n",
    "        else:\n",
    "            pass\n",
    "                \n",
    "        self.best_ndcg = self.ndcg_lst[self.best_tree_indx] \n",
    "         \n",
    "    \n",
    "\n",
    "    def predict(self, data: torch.FloatTensor) -> torch.FloatTensor:\n",
    "        \n",
    "        results = torch.zeros_like(self.ys_test) + self.eps\n",
    "        \n",
    "        for i, tree in enumerate(self.trees):\n",
    "            X_ts = data[:,self.tree_cols_indx[i]]\n",
    "            lamb_update_ts = tree.predict(X_ts)  \n",
    "            results -= self.lr * torch.Tensor(lamb_update_ts[:,np.newaxis])\n",
    "       \n",
    "        return results.type(torch.float64) \n",
    "\n",
    "\n",
    "    def save_model(self, fname: str):\n",
    "        \"\"\"\n",
    "        Saves the model into a \".lmart\" file with the name given as a parameter.\n",
    "        Parameters\n",
    "        ----------\n",
    "        fname : string\n",
    "            Filename of the file you want to save\n",
    "\n",
    "        \"\"\"\n",
    "        directory = \"./pkl\"\n",
    "\n",
    "        if not os.path.exists(directory):\n",
    "            os.makedirs(directory)\n",
    "\n",
    "        for filename in os.listdir(directory):\n",
    "            file_path = os.path.join(directory, filename)\n",
    "            try:\n",
    "                if os.path.isfile(filename) or os.path.islink(filename):\n",
    "                    os.unlink(filename)\n",
    "                elif os.path.isdir(filename):\n",
    "                    shutil.rmtree(filename)\n",
    "            except Exception as e:\n",
    "                print('Failed to delete %s. Reason: %s' % (filename, e))\n",
    "        \n",
    "        pickle.dump(self, open('%s.lmart' % (fname), \"wb\"), protocol=2)\n",
    "\n",
    "        \n",
    "    def load_model(self, fname: str):\n",
    "        \"\"\"\n",
    "        Loads the model from the \".lmart\" file given as a parameter.\n",
    "        Parameters\n",
    "        ----------\n",
    "        fname : string\n",
    "            Filename of the file you want to load\n",
    "        \"\"\"\n",
    "        \n",
    "        model = pickle.load(open(fname , \"rb\"))\n",
    "        self.lr = model.lr\n",
    "        self.tree_cols_indx = model.tree_cols_indx\n",
    "        self.trees = model.trees   \n",
    "        self.best_tree_indx = model.best_tree_indx\n",
    "        self.best_ndcg = model.best_ndcg\n",
    "    "
   ]
  },
  {
   "cell_type": "code",
   "execution_count": 24,
   "metadata": {
    "scrolled": true
   },
   "outputs": [],
   "source": [
    "splitter = 'best'\n",
    "max_depth = None\n",
    "min_samples_split = 2\n",
    "min_samples_leaf = 4\n",
    "min_weight_fraction_leaf = 1.e-4\n",
    "max_features = 'auto' #'sqrt', 'log2'\n",
    "max_leaf_nodes = 30\n",
    "min_impurity_decrease = 1.e-7\n",
    "ccp_alpha = 1.e-6\n",
    "\n",
    "dct_params = {\n",
    "                'splitter': splitter,\n",
    "                'max_depth': max_depth,\n",
    "                'min_samples_split': min_samples_split,\n",
    "                'min_samples_leaf': min_samples_leaf,\n",
    "                'min_weight_fraction_leaf': min_weight_fraction_leaf, \n",
    "                'max_features': max_features,\n",
    "                'max_leaf_nodes': max_leaf_nodes,\n",
    "                'min_impurity_decrease': min_impurity_decrease, \n",
    "                'ccp_alpha': ccp_alpha\n",
    "             }  \n",
    "\n",
    "sol = Solution(**dct_params)"
   ]
  },
  {
   "cell_type": "code",
   "execution_count": 25,
   "metadata": {
    "scrolled": true
   },
   "outputs": [
    {
     "name": "stdout",
     "output_type": "stream",
     "text": [
      "##estimator: 1 ## TEST --> mean_ndcg: 0.3513761311304149\n",
      "##estimator: 2 ## TEST --> mean_ndcg: 0.3631664593440026\n",
      "##estimator: 3 ## TEST --> mean_ndcg: 0.36743561694739957\n",
      "##estimator: 4 ## TEST --> mean_ndcg: 0.36723523710685074\n",
      "##estimator: 5 ## TEST --> mean_ndcg: 0.3632107944268816\n",
      "##estimator: 6 ## TEST --> mean_ndcg: 0.3627307882931569\n",
      "##estimator: 7 ## TEST --> mean_ndcg: 0.35638068224707103\n",
      "##estimator: 8 ## TEST --> mean_ndcg: 0.35899792298370925\n",
      "##estimator: 9 ## TEST --> mean_ndcg: 0.3607759374632389\n",
      "##estimator: 10 ## TEST --> mean_ndcg: 0.36164134136609066\n",
      "##estimator: 11 ## TEST --> mean_ndcg: 0.3646090069401149\n",
      "##estimator: 12 ## TEST --> mean_ndcg: 0.36843657802853114\n",
      "##estimator: 13 ## TEST --> mean_ndcg: 0.3683054050537527\n",
      "##estimator: 14 ## TEST --> mean_ndcg: 0.367210039797067\n",
      "##estimator: 15 ## TEST --> mean_ndcg: 0.36653485827966054\n",
      "##estimator: 16 ## TEST --> mean_ndcg: 0.37125515801163933\n",
      "##estimator: 17 ## TEST --> mean_ndcg: 0.37310441848256237\n",
      "##estimator: 18 ## TEST --> mean_ndcg: 0.3767645834235341\n",
      "##estimator: 19 ## TEST --> mean_ndcg: 0.3796503191587454\n",
      "##estimator: 20 ## TEST --> mean_ndcg: 0.38342153146464236\n",
      "##estimator: 21 ## TEST --> mean_ndcg: 0.38471187316056243\n",
      "##estimator: 22 ## TEST --> mean_ndcg: 0.387195956071516\n",
      "##estimator: 23 ## TEST --> mean_ndcg: 0.3839483025958214\n",
      "##estimator: 24 ## TEST --> mean_ndcg: 0.3850640424764414\n",
      "##estimator: 25 ## TEST --> mean_ndcg: 0.3867000815152274\n",
      "##estimator: 26 ## TEST --> mean_ndcg: 0.38525379016585964\n",
      "##estimator: 27 ## TEST --> mean_ndcg: 0.3879290497662501\n",
      "##estimator: 28 ## TEST --> mean_ndcg: 0.38862622443953776\n",
      "##estimator: 29 ## TEST --> mean_ndcg: 0.3885602987394051\n",
      "##estimator: 30 ## TEST --> mean_ndcg: 0.3903123728343065\n",
      "##estimator: 31 ## TEST --> mean_ndcg: 0.39162418949666705\n",
      "##estimator: 32 ## TEST --> mean_ndcg: 0.39267662999835357\n",
      "##estimator: 33 ## TEST --> mean_ndcg: 0.39338112081012794\n",
      "##estimator: 34 ## TEST --> mean_ndcg: 0.3910618630817094\n",
      "##estimator: 35 ## TEST --> mean_ndcg: 0.3903101064257519\n",
      "##estimator: 36 ## TEST --> mean_ndcg: 0.38987003338098564\n",
      "##estimator: 37 ## TEST --> mean_ndcg: 0.3881048873544906\n",
      "##estimator: 38 ## TEST --> mean_ndcg: 0.3885842786518586\n",
      "##estimator: 39 ## TEST --> mean_ndcg: 0.38794587592447305\n",
      "##estimator: 40 ## TEST --> mean_ndcg: 0.3881119918996207\n",
      "##estimator: 41 ## TEST --> mean_ndcg: 0.3876618563971748\n",
      "##estimator: 42 ## TEST --> mean_ndcg: 0.3866735712113648\n",
      "##estimator: 43 ## TEST --> mean_ndcg: 0.3858477745784747\n",
      "##estimator: 44 ## TEST --> mean_ndcg: 0.3852271408539203\n",
      "##estimator: 45 ## TEST --> mean_ndcg: 0.38428090596689657\n",
      "##estimator: 46 ## TEST --> mean_ndcg: 0.384367534367956\n",
      "##estimator: 47 ## TEST --> mean_ndcg: 0.3860692118392423\n",
      "##estimator: 48 ## TEST --> mean_ndcg: 0.38653444991299407\n",
      "##estimator: 49 ## TEST --> mean_ndcg: 0.3901686709794401\n",
      "##estimator: 50 ## TEST --> mean_ndcg: 0.392088226461842\n",
      "##estimator: 51 ## TEST --> mean_ndcg: 0.3903003326286921\n",
      "##estimator: 52 ## TEST --> mean_ndcg: 0.39282194801766823\n",
      "##estimator: 53 ## TEST --> mean_ndcg: 0.39108499865541546\n",
      "##estimator: 54 ## TEST --> mean_ndcg: 0.39061996954008166\n",
      "##estimator: 55 ## TEST --> mean_ndcg: 0.3904098401291025\n",
      "##estimator: 56 ## TEST --> mean_ndcg: 0.39218556149274275\n",
      "##estimator: 57 ## TEST --> mean_ndcg: 0.3902172750351548\n",
      "##estimator: 58 ## TEST --> mean_ndcg: 0.38913999891598794\n",
      "##estimator: 59 ## TEST --> mean_ndcg: 0.3904494529381648\n",
      "##estimator: 60 ## TEST --> mean_ndcg: 0.3887770778543329\n",
      "##estimator: 61 ## TEST --> mean_ndcg: 0.3899684004442101\n",
      "##estimator: 62 ## TEST --> mean_ndcg: 0.39160888249271897\n",
      "##estimator: 63 ## TEST --> mean_ndcg: 0.3911430182786693\n",
      "##estimator: 64 ## TEST --> mean_ndcg: 0.3906568538971898\n",
      "##estimator: 65 ## TEST --> mean_ndcg: 0.39237489790556523\n",
      "##estimator: 66 ## TEST --> mean_ndcg: 0.39010463519350086\n",
      "##estimator: 67 ## TEST --> mean_ndcg: 0.39086697855329805\n",
      "##estimator: 68 ## TEST --> mean_ndcg: 0.39091457003414526\n",
      "##estimator: 69 ## TEST --> mean_ndcg: 0.39218630617953815\n",
      "##estimator: 70 ## TEST --> mean_ndcg: 0.3919680170057252\n",
      "##estimator: 71 ## TEST --> mean_ndcg: 0.3919872617929178\n",
      "##estimator: 72 ## TEST --> mean_ndcg: 0.39222934823450706\n",
      "##estimator: 73 ## TEST --> mean_ndcg: 0.39311394414044076\n",
      "##estimator: 74 ## TEST --> mean_ndcg: 0.3933530708012375\n",
      "##estimator: 75 ## TEST --> mean_ndcg: 0.3928925602260749\n",
      "##estimator: 76 ## TEST --> mean_ndcg: 0.39305434886662066\n",
      "##estimator: 77 ## TEST --> mean_ndcg: 0.3932461166941943\n",
      "##estimator: 78 ## TEST --> mean_ndcg: 0.3927312630270548\n",
      "##estimator: 79 ## TEST --> mean_ndcg: 0.39199657455227804\n",
      "##estimator: 80 ## TEST --> mean_ndcg: 0.39676139618254336\n",
      "##estimator: 81 ## TEST --> mean_ndcg: 0.3960291942487346\n",
      "##estimator: 82 ## TEST --> mean_ndcg: 0.3925944908369264\n",
      "##estimator: 83 ## TEST --> mean_ndcg: 0.39282720594107834\n",
      "##estimator: 84 ## TEST --> mean_ndcg: 0.3914350733034493\n",
      "##estimator: 85 ## TEST --> mean_ndcg: 0.38921014359424827\n",
      "##estimator: 86 ## TEST --> mean_ndcg: 0.3889381113043646\n",
      "##estimator: 87 ## TEST --> mean_ndcg: 0.3893488496779706\n",
      "##estimator: 88 ## TEST --> mean_ndcg: 0.3921313172489074\n",
      "##estimator: 89 ## TEST --> mean_ndcg: 0.3941492210847129\n",
      "##estimator: 90 ## TEST --> mean_ndcg: 0.3930334380565771\n",
      "##estimator: 91 ## TEST --> mean_ndcg: 0.39489949879259795\n",
      "##estimator: 92 ## TEST --> mean_ndcg: 0.3930663661770261\n",
      "##estimator: 93 ## TEST --> mean_ndcg: 0.3940950287991629\n",
      "##estimator: 94 ## TEST --> mean_ndcg: 0.39486971207481497\n",
      "##estimator: 95 ## TEST --> mean_ndcg: 0.3950306284963077\n",
      "##estimator: 96 ## TEST --> mean_ndcg: 0.3961267671840946\n",
      "##estimator: 97 ## TEST --> mean_ndcg: 0.3974045806358827\n",
      "##estimator: 98 ## TEST --> mean_ndcg: 0.3969739204157106\n",
      "##estimator: 99 ## TEST --> mean_ndcg: 0.40049383758826296\n",
      "##estimator: 100 ## TEST --> mean_ndcg: 0.4004638336132648\n"
     ]
    }
   ],
   "source": [
    "sol.fit()"
   ]
  },
  {
   "cell_type": "code",
   "execution_count": null,
   "metadata": {},
   "outputs": [],
   "source": [
    "sol.best_ndcg"
   ]
  },
  {
   "cell_type": "code",
   "execution_count": 116,
   "metadata": {},
   "outputs": [],
   "source": [
    "sol.save_model('./pkl/model')"
   ]
  },
  {
   "cell_type": "code",
   "execution_count": 117,
   "metadata": {},
   "outputs": [],
   "source": [
    "sol = Solution()\n",
    "tr = sol.load_model('./pkl/model.lmart')"
   ]
  },
  {
   "cell_type": "code",
   "execution_count": 135,
   "metadata": {},
   "outputs": [
    {
     "data": {
      "text/plain": [
       "torch.Size([10000, 1])"
      ]
     },
     "execution_count": 135,
     "metadata": {},
     "output_type": "execute_result"
    }
   ],
   "source": [
    "pred = sol.predict(sol.X_test)\n",
    "pred.shape"
   ]
  },
  {
   "cell_type": "code",
   "execution_count": 136,
   "metadata": {},
   "outputs": [
    {
     "data": {
      "text/plain": [
       "0.3615295043131431"
      ]
     },
     "execution_count": 136,
     "metadata": {},
     "output_type": "execute_result"
    }
   ],
   "source": [
    "sol._ndcg_k(sol.ys_test, pred, 10)"
   ]
  },
  {
   "cell_type": "code",
   "execution_count": 120,
   "metadata": {},
   "outputs": [
    {
     "data": {
      "text/plain": [
       "0.42913476812249224"
      ]
     },
     "execution_count": 120,
     "metadata": {},
     "output_type": "execute_result"
    }
   ],
   "source": [
    "sol.best_ndcg"
   ]
  },
  {
   "cell_type": "markdown",
   "metadata": {},
   "source": [
    "## Fine-Tuning"
   ]
  },
  {
   "cell_type": "code",
   "execution_count": 4,
   "metadata": {},
   "outputs": [],
   "source": [
    "from multiprocessing import Process, JoinableQueue\n",
    "from queue import Queue\n",
    "from threading import Thread\n",
    "from joblib import Parallel, delayed\n",
    "from multiprocessing import Pool\n",
    "from pathlib import Path\n",
    "from tqdm.notebook import tqdm\n",
    "import itertools\n",
    "import json\n",
    "import time\n",
    "import csv"
   ]
  },
  {
   "cell_type": "code",
   "execution_count": 5,
   "metadata": {},
   "outputs": [],
   "source": [
    "splitter = ['best', 'random']\n",
    "max_depth = [None, 5, 8, 15]\n",
    "min_samples_split = [2, 3, 7, 10]\n",
    "min_samples_leaf = [1, 2, 4]\n",
    "min_weight_fraction_leaf = [0.0, 1.e-7, 1.e-4]\n",
    "max_features = ['auto', 'sqrt', 'log2']\n",
    "max_leaf_nodes = [None, 10, 30, 40]\n",
    "min_impurity_decrease = [0.0, 1.e-7, 1.e-4]\n",
    "ccp_alpha = [0.0, 1.e-6, 1.e-4]\n",
    "\n",
    "dct_params = {\n",
    "                'splitter': splitter,\n",
    "                'max_depth': max_depth,\n",
    "                'min_samples_split': min_samples_split,\n",
    "                'min_samples_leaf': min_samples_leaf,\n",
    "                'min_weight_fraction_leaf': min_weight_fraction_leaf, \n",
    "                'max_features': max_features,\n",
    "                'max_leaf_nodes': max_leaf_nodes,\n",
    "                'min_impurity_decrease': min_impurity_decrease, \n",
    "                'ccp_alpha': ccp_alpha\n",
    "             }"
   ]
  },
  {
   "cell_type": "code",
   "execution_count": 6,
   "metadata": {},
   "outputs": [
    {
     "data": {
      "text/plain": [
       "['splitter',\n",
       " 'max_depth',\n",
       " 'min_samples_split',\n",
       " 'min_samples_leaf',\n",
       " 'min_weight_fraction_leaf',\n",
       " 'max_features',\n",
       " 'max_leaf_nodes',\n",
       " 'min_impurity_decrease',\n",
       " 'ccp_alpha']"
      ]
     },
     "execution_count": 6,
     "metadata": {},
     "output_type": "execute_result"
    }
   ],
   "source": [
    "tree_keys = [key for key in dct_params.keys()]\n",
    "tree_keys"
   ]
  },
  {
   "cell_type": "code",
   "execution_count": 7,
   "metadata": {
    "scrolled": true
   },
   "outputs": [],
   "source": [
    "total_lst_of_params = np.array([])\n",
    "\n",
    "arr = [v for _, v in dct_params.items()]\n",
    "all_comb = list( itertools.product( *arr ) )\n",
    "\n",
    "total_lst_of_params = [dict(zip(tree_keys, comb))  for comb in all_comb]"
   ]
  },
  {
   "cell_type": "code",
   "execution_count": 12,
   "metadata": {},
   "outputs": [
    {
     "data": {
      "text/plain": [
       "445"
      ]
     },
     "execution_count": 12,
     "metadata": {},
     "output_type": "execute_result"
    }
   ],
   "source": [
    "splitter = np.array_split(total_lst_of_params, 70)\n",
    "len(splitter[1])"
   ]
  },
  {
   "cell_type": "code",
   "execution_count": 13,
   "metadata": {},
   "outputs": [],
   "source": [
    "def saver(q):\n",
    "    file_path      = Path.joinpath(Path(os.getcwd()), 'csv','bestparams.csv')\n",
    "    headers = ['lr', 'ndcg', 'dtree_params']\n",
    "    #if not os.path.isfile(str(file_path)):\n",
    "    with open(file_path, 'a', encoding='utf8') as outcsv:\n",
    "        \n",
    "        writer = csv.writer(outcsv, delimiter=',', quotechar='\"', \n",
    "                            quoting=csv.QUOTE_MINIMAL, lineterminator='\\n')\n",
    "\n",
    "        file_is_empty = os.stat(str(file_path)).st_size == 0\n",
    "        if file_is_empty:\n",
    "            writer.writerow(headers)     \n",
    "        while True:\n",
    "            strfrom_q = q.get()\n",
    "            if strfrom_q is None: break\n",
    "            lr, ndcg, json_params = strfrom_q.split('#')\n",
    "            item = [lr, ndcg, json_params]                \n",
    "            writer.writerow(item)                                    \n",
    "            q.task_done()\n",
    "        # Finish up\n",
    "        q.task_done()   "
   ]
  },
  {
   "cell_type": "code",
   "execution_count": 14,
   "metadata": {},
   "outputs": [],
   "source": [
    "def parse_pool(q, query_item, total_comb):\n",
    "    \n",
    "    pbar = tqdm(total=total_comb)\n",
    "\n",
    "    while True: \n",
    "        for params in query_item:\n",
    "            for _lr in np.array([0.05, 0.1, 0.5, 0.8])\n",
    "                sol = Solution(lr = _lr, **params)\n",
    "                sol.fit()\n",
    "\n",
    "                restr = json.dumps(sol.trees[0].get_params())\n",
    "                ndcg = \"{:10.6f}\".format(sol.best_ndcg)\n",
    "                q.put(str(_lr) '#' + ndcg + '#' + restr)\n",
    "\n",
    "            pbar.update(1)\n",
    "\n",
    "            del sol\n",
    "            \n",
    "        break\n",
    "    pbar.close()  "
   ]
  },
  {
   "cell_type": "code",
   "execution_count": 15,
   "metadata": {},
   "outputs": [],
   "source": [
    "!cd /tmp/ && rm -r -f *"
   ]
  },
  {
   "cell_type": "code",
   "execution_count": null,
   "metadata": {
    "scrolled": true
   },
   "outputs": [
    {
     "name": "stdout",
     "output_type": "stream",
     "text": [
      "Start: Fri Jul 16 16:55:47 2021\n"
     ]
    },
    {
     "data": {
      "application/vnd.jupyter.widget-view+json": {
       "model_id": "976cfd912d624966b3a8b5c023011ce5",
       "version_major": 2,
       "version_minor": 0
      },
      "text/plain": [
       "  0%|          | 0/445 [00:00<?, ?it/s]"
      ]
     },
     "metadata": {},
     "output_type": "display_data"
    },
    {
     "data": {
      "application/vnd.jupyter.widget-view+json": {
       "model_id": "45dae739ff734d2a9c23156accd8a540",
       "version_major": 2,
       "version_minor": 0
      },
      "text/plain": [
       "  0%|          | 0/445 [00:00<?, ?it/s]"
      ]
     },
     "metadata": {},
     "output_type": "display_data"
    },
    {
     "data": {
      "application/vnd.jupyter.widget-view+json": {
       "model_id": "33f149f74daf4fb6b95f96c7410388ff",
       "version_major": 2,
       "version_minor": 0
      },
      "text/plain": [
       "  0%|          | 0/445 [00:00<?, ?it/s]"
      ]
     },
     "metadata": {},
     "output_type": "display_data"
    },
    {
     "data": {
      "application/vnd.jupyter.widget-view+json": {
       "model_id": "5fdc07bda50244d78677abaa5b9ff7d8",
       "version_major": 2,
       "version_minor": 0
      },
      "text/plain": [
       "  0%|          | 0/445 [00:00<?, ?it/s]"
      ]
     },
     "metadata": {},
     "output_type": "display_data"
    },
    {
     "data": {
      "application/vnd.jupyter.widget-view+json": {
       "model_id": "fa53b391b061438696349f60a4579161",
       "version_major": 2,
       "version_minor": 0
      },
      "text/plain": [
       "  0%|          | 0/445 [00:00<?, ?it/s]"
      ]
     },
     "metadata": {},
     "output_type": "display_data"
    },
    {
     "data": {
      "application/vnd.jupyter.widget-view+json": {
       "model_id": "f837ca75c7ce4873a619e80ca007b61b",
       "version_major": 2,
       "version_minor": 0
      },
      "text/plain": [
       "  0%|          | 0/445 [00:00<?, ?it/s]"
      ]
     },
     "metadata": {},
     "output_type": "display_data"
    },
    {
     "data": {
      "application/vnd.jupyter.widget-view+json": {
       "model_id": "3097decd219f4ea695fe7ca4cf69af73",
       "version_major": 2,
       "version_minor": 0
      },
      "text/plain": [
       "  0%|          | 0/445 [00:00<?, ?it/s]"
      ]
     },
     "metadata": {},
     "output_type": "display_data"
    },
    {
     "data": {
      "application/vnd.jupyter.widget-view+json": {
       "model_id": "21eab872f9d148e898539b1aeb14797c",
       "version_major": 2,
       "version_minor": 0
      },
      "text/plain": [
       "  0%|          | 0/445 [00:00<?, ?it/s]"
      ]
     },
     "metadata": {},
     "output_type": "display_data"
    },
    {
     "data": {
      "application/vnd.jupyter.widget-view+json": {
       "model_id": "8f271fb0c1034373b6b75b4c3a42210d",
       "version_major": 2,
       "version_minor": 0
      },
      "text/plain": [
       "  0%|          | 0/445 [00:00<?, ?it/s]"
      ]
     },
     "metadata": {},
     "output_type": "display_data"
    },
    {
     "data": {
      "application/vnd.jupyter.widget-view+json": {
       "model_id": "c7af087a4aad448d8ecd5c6ee7de5f2d",
       "version_major": 2,
       "version_minor": 0
      },
      "text/plain": [
       "  0%|          | 0/445 [00:00<?, ?it/s]"
      ]
     },
     "metadata": {},
     "output_type": "display_data"
    },
    {
     "data": {
      "application/vnd.jupyter.widget-view+json": {
       "model_id": "d41af89b73184098b7233b737ed530fa",
       "version_major": 2,
       "version_minor": 0
      },
      "text/plain": [
       "  0%|          | 0/445 [00:00<?, ?it/s]"
      ]
     },
     "metadata": {},
     "output_type": "display_data"
    },
    {
     "data": {
      "application/vnd.jupyter.widget-view+json": {
       "model_id": "a61dac6d72ef4526acb23108b64029ab",
       "version_major": 2,
       "version_minor": 0
      },
      "text/plain": [
       "  0%|          | 0/445 [00:00<?, ?it/s]"
      ]
     },
     "metadata": {},
     "output_type": "display_data"
    },
    {
     "data": {
      "application/vnd.jupyter.widget-view+json": {
       "model_id": "a02d56d97c7c4945a98adff43647b6dc",
       "version_major": 2,
       "version_minor": 0
      },
      "text/plain": [
       "  0%|          | 0/445 [00:00<?, ?it/s]"
      ]
     },
     "metadata": {},
     "output_type": "display_data"
    },
    {
     "data": {
      "application/vnd.jupyter.widget-view+json": {
       "model_id": "b4a9371ba9414c5aaf56fad10f657926",
       "version_major": 2,
       "version_minor": 0
      },
      "text/plain": [
       "  0%|          | 0/445 [00:00<?, ?it/s]"
      ]
     },
     "metadata": {},
     "output_type": "display_data"
    },
    {
     "data": {
      "application/vnd.jupyter.widget-view+json": {
       "model_id": "7b25bc0567124359a1bb3e5f244a0fc9",
       "version_major": 2,
       "version_minor": 0
      },
      "text/plain": [
       "  0%|          | 0/445 [00:00<?, ?it/s]"
      ]
     },
     "metadata": {},
     "output_type": "display_data"
    },
    {
     "data": {
      "application/vnd.jupyter.widget-view+json": {
       "model_id": "db9eb0cc78364ac0b962b61a604a60de",
       "version_major": 2,
       "version_minor": 0
      },
      "text/plain": [
       "  0%|          | 0/445 [00:00<?, ?it/s]"
      ]
     },
     "metadata": {},
     "output_type": "display_data"
    },
    {
     "data": {
      "application/vnd.jupyter.widget-view+json": {
       "model_id": "9437d5d4720146cab1dfda6dd5d8c8d6",
       "version_major": 2,
       "version_minor": 0
      },
      "text/plain": [
       "  0%|          | 0/445 [00:00<?, ?it/s]"
      ]
     },
     "metadata": {},
     "output_type": "display_data"
    },
    {
     "data": {
      "application/vnd.jupyter.widget-view+json": {
       "model_id": "64d5f71dcc8f46a3809341078e9e7761",
       "version_major": 2,
       "version_minor": 0
      },
      "text/plain": [
       "  0%|          | 0/445 [00:00<?, ?it/s]"
      ]
     },
     "metadata": {},
     "output_type": "display_data"
    },
    {
     "data": {
      "application/vnd.jupyter.widget-view+json": {
       "model_id": "2f5af3b704f84204a4be0f0c4f8c4941",
       "version_major": 2,
       "version_minor": 0
      },
      "text/plain": [
       "  0%|          | 0/445 [00:00<?, ?it/s]"
      ]
     },
     "metadata": {},
     "output_type": "display_data"
    },
    {
     "data": {
      "application/vnd.jupyter.widget-view+json": {
       "model_id": "eb6bd83aff1b4b049c961822698beab3",
       "version_major": 2,
       "version_minor": 0
      },
      "text/plain": [
       "  0%|          | 0/445 [00:00<?, ?it/s]"
      ]
     },
     "metadata": {},
     "output_type": "display_data"
    },
    {
     "data": {
      "application/vnd.jupyter.widget-view+json": {
       "model_id": "90228e1d361642e19f451ae48f2dd596",
       "version_major": 2,
       "version_minor": 0
      },
      "text/plain": [
       "  0%|          | 0/444 [00:00<?, ?it/s]"
      ]
     },
     "metadata": {},
     "output_type": "display_data"
    },
    {
     "data": {
      "application/vnd.jupyter.widget-view+json": {
       "model_id": "275c41cbe236460ca4450fe53984a610",
       "version_major": 2,
       "version_minor": 0
      },
      "text/plain": [
       "  0%|          | 0/445 [00:00<?, ?it/s]"
      ]
     },
     "metadata": {},
     "output_type": "display_data"
    },
    {
     "data": {
      "application/vnd.jupyter.widget-view+json": {
       "model_id": "d0b1f469df4c47edb9b2fa19efe9b5bc",
       "version_major": 2,
       "version_minor": 0
      },
      "text/plain": [
       "  0%|          | 0/444 [00:00<?, ?it/s]"
      ]
     },
     "metadata": {},
     "output_type": "display_data"
    },
    {
     "data": {
      "application/vnd.jupyter.widget-view+json": {
       "model_id": "3f737c64579546ae8ade91213c55736c",
       "version_major": 2,
       "version_minor": 0
      },
      "text/plain": [
       "  0%|          | 0/444 [00:00<?, ?it/s]"
      ]
     },
     "metadata": {},
     "output_type": "display_data"
    },
    {
     "data": {
      "application/vnd.jupyter.widget-view+json": {
       "model_id": "9a74090b2783430c948de5f83cc9ac68",
       "version_major": 2,
       "version_minor": 0
      },
      "text/plain": [
       "  0%|          | 0/445 [00:00<?, ?it/s]"
      ]
     },
     "metadata": {},
     "output_type": "display_data"
    },
    {
     "data": {
      "application/vnd.jupyter.widget-view+json": {
       "model_id": "2bbc69e44dcb4dd39d4ddf9f6c0b14ed",
       "version_major": 2,
       "version_minor": 0
      },
      "text/plain": [
       "  0%|          | 0/445 [00:00<?, ?it/s]"
      ]
     },
     "metadata": {},
     "output_type": "display_data"
    },
    {
     "data": {
      "application/vnd.jupyter.widget-view+json": {
       "model_id": "9872e5256d8d447297d9e21f995b0828",
       "version_major": 2,
       "version_minor": 0
      },
      "text/plain": [
       "  0%|          | 0/445 [00:00<?, ?it/s]"
      ]
     },
     "metadata": {},
     "output_type": "display_data"
    },
    {
     "data": {
      "application/vnd.jupyter.widget-view+json": {
       "model_id": "1581b08f04384a8583394eb46131232c",
       "version_major": 2,
       "version_minor": 0
      },
      "text/plain": [
       "  0%|          | 0/444 [00:00<?, ?it/s]"
      ]
     },
     "metadata": {},
     "output_type": "display_data"
    },
    {
     "data": {
      "application/vnd.jupyter.widget-view+json": {
       "model_id": "76792f2ec2b64f8793f4b5dcaa23c4dd",
       "version_major": 2,
       "version_minor": 0
      },
      "text/plain": [
       "  0%|          | 0/444 [00:00<?, ?it/s]"
      ]
     },
     "metadata": {},
     "output_type": "display_data"
    },
    {
     "data": {
      "application/vnd.jupyter.widget-view+json": {
       "model_id": "c0b962656fad475ea395a6899081cad0",
       "version_major": 2,
       "version_minor": 0
      },
      "text/plain": [
       "  0%|          | 0/444 [00:00<?, ?it/s]"
      ]
     },
     "metadata": {},
     "output_type": "display_data"
    },
    {
     "data": {
      "application/vnd.jupyter.widget-view+json": {
       "model_id": "3153e7586cab4460b249e54908795788",
       "version_major": 2,
       "version_minor": 0
      },
      "text/plain": [
       "  0%|          | 0/444 [00:00<?, ?it/s]"
      ]
     },
     "metadata": {},
     "output_type": "display_data"
    },
    {
     "data": {
      "application/vnd.jupyter.widget-view+json": {
       "model_id": "a4fb75aab1dd499b929592f30ad9faf7",
       "version_major": 2,
       "version_minor": 0
      },
      "text/plain": [
       "  0%|          | 0/444 [00:00<?, ?it/s]"
      ]
     },
     "metadata": {},
     "output_type": "display_data"
    },
    {
     "data": {
      "application/vnd.jupyter.widget-view+json": {
       "model_id": "37854299cde14d96bba814e0257a9a07",
       "version_major": 2,
       "version_minor": 0
      },
      "text/plain": [
       "  0%|          | 0/444 [00:00<?, ?it/s]"
      ]
     },
     "metadata": {},
     "output_type": "display_data"
    },
    {
     "data": {
      "application/vnd.jupyter.widget-view+json": {
       "model_id": "6aac4a1576a64c1ba87c82d41b9f1977",
       "version_major": 2,
       "version_minor": 0
      },
      "text/plain": [
       "  0%|          | 0/444 [00:00<?, ?it/s]"
      ]
     },
     "metadata": {},
     "output_type": "display_data"
    },
    {
     "data": {
      "application/vnd.jupyter.widget-view+json": {
       "model_id": "2680b685f31746b88a4caa82988c9c6d",
       "version_major": 2,
       "version_minor": 0
      },
      "text/plain": [
       "  0%|          | 0/444 [00:00<?, ?it/s]"
      ]
     },
     "metadata": {},
     "output_type": "display_data"
    },
    {
     "data": {
      "application/vnd.jupyter.widget-view+json": {
       "model_id": "58b7606b893a454099de0beb84a8f309",
       "version_major": 2,
       "version_minor": 0
      },
      "text/plain": [
       "  0%|          | 0/444 [00:00<?, ?it/s]"
      ]
     },
     "metadata": {},
     "output_type": "display_data"
    },
    {
     "data": {
      "application/vnd.jupyter.widget-view+json": {
       "model_id": "ce6c1654a9c749e1bc66d7999324978a",
       "version_major": 2,
       "version_minor": 0
      },
      "text/plain": [
       "  0%|          | 0/444 [00:00<?, ?it/s]"
      ]
     },
     "metadata": {},
     "output_type": "display_data"
    },
    {
     "data": {
      "application/vnd.jupyter.widget-view+json": {
       "model_id": "31000f82eb224f1ba967a931a22248ea",
       "version_major": 2,
       "version_minor": 0
      },
      "text/plain": [
       "  0%|          | 0/444 [00:00<?, ?it/s]"
      ]
     },
     "metadata": {},
     "output_type": "display_data"
    },
    {
     "data": {
      "application/vnd.jupyter.widget-view+json": {
       "model_id": "58e0abe0355648fe81a3c07ab2d7a164",
       "version_major": 2,
       "version_minor": 0
      },
      "text/plain": [
       "  0%|          | 0/444 [00:00<?, ?it/s]"
      ]
     },
     "metadata": {},
     "output_type": "display_data"
    },
    {
     "data": {
      "application/vnd.jupyter.widget-view+json": {
       "model_id": "ddf6742b928c491582bf49e19443bd0b",
       "version_major": 2,
       "version_minor": 0
      },
      "text/plain": [
       "  0%|          | 0/444 [00:00<?, ?it/s]"
      ]
     },
     "metadata": {},
     "output_type": "display_data"
    },
    {
     "data": {
      "application/vnd.jupyter.widget-view+json": {
       "model_id": "76349adce7e84f8bad709cd20fa587cc",
       "version_major": 2,
       "version_minor": 0
      },
      "text/plain": [
       "  0%|          | 0/444 [00:00<?, ?it/s]"
      ]
     },
     "metadata": {},
     "output_type": "display_data"
    },
    {
     "data": {
      "application/vnd.jupyter.widget-view+json": {
       "model_id": "c6a6bcde08024692b5535d1a29555e44",
       "version_major": 2,
       "version_minor": 0
      },
      "text/plain": [
       "  0%|          | 0/444 [00:00<?, ?it/s]"
      ]
     },
     "metadata": {},
     "output_type": "display_data"
    },
    {
     "data": {
      "application/vnd.jupyter.widget-view+json": {
       "model_id": "bcf00a58fab74e5a9053f9c0aab9af7e",
       "version_major": 2,
       "version_minor": 0
      },
      "text/plain": [
       "  0%|          | 0/444 [00:00<?, ?it/s]"
      ]
     },
     "metadata": {},
     "output_type": "display_data"
    },
    {
     "data": {
      "application/vnd.jupyter.widget-view+json": {
       "model_id": "8ebc511dd5614f669dc24c6aa06a98c3",
       "version_major": 2,
       "version_minor": 0
      },
      "text/plain": [
       "  0%|          | 0/444 [00:00<?, ?it/s]"
      ]
     },
     "metadata": {},
     "output_type": "display_data"
    },
    {
     "data": {
      "application/vnd.jupyter.widget-view+json": {
       "model_id": "b511712cec164a08b53b63a21f94842d",
       "version_major": 2,
       "version_minor": 0
      },
      "text/plain": [
       "  0%|          | 0/444 [00:00<?, ?it/s]"
      ]
     },
     "metadata": {},
     "output_type": "display_data"
    },
    {
     "data": {
      "application/vnd.jupyter.widget-view+json": {
       "model_id": "c4ae30c3e9264070852fe0e61e3f2612",
       "version_major": 2,
       "version_minor": 0
      },
      "text/plain": [
       "  0%|          | 0/444 [00:00<?, ?it/s]"
      ]
     },
     "metadata": {},
     "output_type": "display_data"
    },
    {
     "data": {
      "application/vnd.jupyter.widget-view+json": {
       "model_id": "8b15823272b84211a370a5a09c625d45",
       "version_major": 2,
       "version_minor": 0
      },
      "text/plain": [
       "  0%|          | 0/444 [00:00<?, ?it/s]"
      ]
     },
     "metadata": {},
     "output_type": "display_data"
    },
    {
     "data": {
      "application/vnd.jupyter.widget-view+json": {
       "model_id": "dafac14c3f2f4d7286c80ea86d8eee71",
       "version_major": 2,
       "version_minor": 0
      },
      "text/plain": [
       "  0%|          | 0/444 [00:00<?, ?it/s]"
      ]
     },
     "metadata": {},
     "output_type": "display_data"
    },
    {
     "data": {
      "application/vnd.jupyter.widget-view+json": {
       "model_id": "e0385ed93928434a96b1bf696aa7029d",
       "version_major": 2,
       "version_minor": 0
      },
      "text/plain": [
       "  0%|          | 0/444 [00:00<?, ?it/s]"
      ]
     },
     "metadata": {},
     "output_type": "display_data"
    },
    {
     "data": {
      "application/vnd.jupyter.widget-view+json": {
       "model_id": "c7a4012548f2461bb3f9103eed00e758",
       "version_major": 2,
       "version_minor": 0
      },
      "text/plain": [
       "  0%|          | 0/444 [00:00<?, ?it/s]"
      ]
     },
     "metadata": {},
     "output_type": "display_data"
    },
    {
     "data": {
      "application/vnd.jupyter.widget-view+json": {
       "model_id": "5da27205424343b3be259ae1f7cbab06",
       "version_major": 2,
       "version_minor": 0
      },
      "text/plain": [
       "  0%|          | 0/444 [00:00<?, ?it/s]"
      ]
     },
     "metadata": {},
     "output_type": "display_data"
    },
    {
     "data": {
      "application/vnd.jupyter.widget-view+json": {
       "model_id": "a390aef3a9ec4e058d92c62139f6ca1f",
       "version_major": 2,
       "version_minor": 0
      },
      "text/plain": [
       "  0%|          | 0/444 [00:00<?, ?it/s]"
      ]
     },
     "metadata": {},
     "output_type": "display_data"
    },
    {
     "data": {
      "application/vnd.jupyter.widget-view+json": {
       "model_id": "710a252a0dae4f2b86f459745f948e98",
       "version_major": 2,
       "version_minor": 0
      },
      "text/plain": [
       "  0%|          | 0/444 [00:00<?, ?it/s]"
      ]
     },
     "metadata": {},
     "output_type": "display_data"
    },
    {
     "data": {
      "application/vnd.jupyter.widget-view+json": {
       "model_id": "8667066e2f214533af5353446cb0cd36",
       "version_major": 2,
       "version_minor": 0
      },
      "text/plain": [
       "  0%|          | 0/444 [00:00<?, ?it/s]"
      ]
     },
     "metadata": {},
     "output_type": "display_data"
    },
    {
     "data": {
      "application/vnd.jupyter.widget-view+json": {
       "model_id": "9383bea255184de2863be707680cf5d9",
       "version_major": 2,
       "version_minor": 0
      },
      "text/plain": [
       "  0%|          | 0/444 [00:00<?, ?it/s]"
      ]
     },
     "metadata": {},
     "output_type": "display_data"
    },
    {
     "data": {
      "application/vnd.jupyter.widget-view+json": {
       "model_id": "7fd4a3b1ece947dd891dcf4c26915834",
       "version_major": 2,
       "version_minor": 0
      },
      "text/plain": [
       "  0%|          | 0/444 [00:00<?, ?it/s]"
      ]
     },
     "metadata": {},
     "output_type": "display_data"
    },
    {
     "data": {
      "application/vnd.jupyter.widget-view+json": {
       "model_id": "d86e129f607b426b9e10601df1087abb",
       "version_major": 2,
       "version_minor": 0
      },
      "text/plain": [
       "  0%|          | 0/444 [00:00<?, ?it/s]"
      ]
     },
     "metadata": {},
     "output_type": "display_data"
    },
    {
     "data": {
      "application/vnd.jupyter.widget-view+json": {
       "model_id": "663d3afe62ee4850aa6f3d950e4e88f2",
       "version_major": 2,
       "version_minor": 0
      },
      "text/plain": [
       "  0%|          | 0/444 [00:00<?, ?it/s]"
      ]
     },
     "metadata": {},
     "output_type": "display_data"
    },
    {
     "data": {
      "application/vnd.jupyter.widget-view+json": {
       "model_id": "827e1ceb747743fca07ff299e7260b67",
       "version_major": 2,
       "version_minor": 0
      },
      "text/plain": [
       "  0%|          | 0/444 [00:00<?, ?it/s]"
      ]
     },
     "metadata": {},
     "output_type": "display_data"
    },
    {
     "data": {
      "application/vnd.jupyter.widget-view+json": {
       "model_id": "112dae31b2e0448c9605565ae56d81ee",
       "version_major": 2,
       "version_minor": 0
      },
      "text/plain": [
       "  0%|          | 0/444 [00:00<?, ?it/s]"
      ]
     },
     "metadata": {},
     "output_type": "display_data"
    },
    {
     "data": {
      "application/vnd.jupyter.widget-view+json": {
       "model_id": "5fe1676543af4a4c92a0b0a2eea2e983",
       "version_major": 2,
       "version_minor": 0
      },
      "text/plain": [
       "  0%|          | 0/444 [00:00<?, ?it/s]"
      ]
     },
     "metadata": {},
     "output_type": "display_data"
    },
    {
     "data": {
      "application/vnd.jupyter.widget-view+json": {
       "model_id": "c9b01a9a7c7242b69d363f3ae51bcd59",
       "version_major": 2,
       "version_minor": 0
      },
      "text/plain": [
       "  0%|          | 0/444 [00:00<?, ?it/s]"
      ]
     },
     "metadata": {},
     "output_type": "display_data"
    },
    {
     "data": {
      "application/vnd.jupyter.widget-view+json": {
       "model_id": "af60704e621f40daa8c53c90eecd58aa",
       "version_major": 2,
       "version_minor": 0
      },
      "text/plain": [
       "  0%|          | 0/444 [00:00<?, ?it/s]"
      ]
     },
     "metadata": {},
     "output_type": "display_data"
    },
    {
     "data": {
      "application/vnd.jupyter.widget-view+json": {
       "model_id": "21f700c11bcd434fbedd0501703c7936",
       "version_major": 2,
       "version_minor": 0
      },
      "text/plain": [
       "  0%|          | 0/444 [00:00<?, ?it/s]"
      ]
     },
     "metadata": {},
     "output_type": "display_data"
    },
    {
     "data": {
      "application/vnd.jupyter.widget-view+json": {
       "model_id": "6d08a2fe7945411c988cd8c913efb8e4",
       "version_major": 2,
       "version_minor": 0
      },
      "text/plain": [
       "  0%|          | 0/444 [00:00<?, ?it/s]"
      ]
     },
     "metadata": {},
     "output_type": "display_data"
    },
    {
     "data": {
      "application/vnd.jupyter.widget-view+json": {
       "model_id": "552a480d2b0c4dc394fd8773d465cdf8",
       "version_major": 2,
       "version_minor": 0
      },
      "text/plain": [
       "  0%|          | 0/444 [00:00<?, ?it/s]"
      ]
     },
     "metadata": {},
     "output_type": "display_data"
    },
    {
     "data": {
      "application/vnd.jupyter.widget-view+json": {
       "model_id": "554e610d233f4374a0a293f5604ee9df",
       "version_major": 2,
       "version_minor": 0
      },
      "text/plain": [
       "  0%|          | 0/444 [00:00<?, ?it/s]"
      ]
     },
     "metadata": {},
     "output_type": "display_data"
    },
    {
     "data": {
      "application/vnd.jupyter.widget-view+json": {
       "model_id": "ce7233fecac74ecc86ba2517d44b26b1",
       "version_major": 2,
       "version_minor": 0
      },
      "text/plain": [
       "  0%|          | 0/444 [00:00<?, ?it/s]"
      ]
     },
     "metadata": {},
     "output_type": "display_data"
    },
    {
     "data": {
      "application/vnd.jupyter.widget-view+json": {
       "model_id": "ffe4d5250a0b4c0c811ed384edf75870",
       "version_major": 2,
       "version_minor": 0
      },
      "text/plain": [
       "  0%|          | 0/444 [00:00<?, ?it/s]"
      ]
     },
     "metadata": {},
     "output_type": "display_data"
    },
    {
     "data": {
      "application/vnd.jupyter.widget-view+json": {
       "model_id": "d62ecfa9fd3b4962838364260d8b38df",
       "version_major": 2,
       "version_minor": 0
      },
      "text/plain": [
       "  0%|          | 0/444 [00:00<?, ?it/s]"
      ]
     },
     "metadata": {},
     "output_type": "display_data"
    },
    {
     "name": "stderr",
     "output_type": "stream",
     "text": [
      "/home/sbc_dev/.local/lib/python3.7/site-packages/sklearn/utils/extmath.py:861: RuntimeWarning: invalid value encountered in true_divide\n",
      "  (last_sum / last_over_new_count - new_sum) ** 2)\n",
      "/home/sbc_dev/.local/lib/python3.7/site-packages/sklearn/utils/extmath.py:861: RuntimeWarning: invalid value encountered in true_divide\n",
      "  (last_sum / last_over_new_count - new_sum) ** 2)\n",
      "/home/sbc_dev/.local/lib/python3.7/site-packages/sklearn/utils/extmath.py:861: RuntimeWarning: invalid value encountered in true_divide\n",
      "  (last_sum / last_over_new_count - new_sum) ** 2)\n",
      "/home/sbc_dev/.local/lib/python3.7/site-packages/sklearn/utils/extmath.py:861: RuntimeWarning: invalid value encountered in true_divide\n",
      "  (last_sum / last_over_new_count - new_sum) ** 2)\n",
      "/home/sbc_dev/.local/lib/python3.7/site-packages/sklearn/utils/extmath.py:861: RuntimeWarning: invalid value encountered in true_divide\n",
      "  (last_sum / last_over_new_count - new_sum) ** 2)\n",
      "/home/sbc_dev/.local/lib/python3.7/site-packages/sklearn/utils/extmath.py:861: RuntimeWarning: invalid value encountered in true_divide\n",
      "  (last_sum / last_over_new_count - new_sum) ** 2)\n",
      "/home/sbc_dev/.local/lib/python3.7/site-packages/sklearn/utils/extmath.py:861: RuntimeWarning: invalid value encountered in true_divide\n",
      "  (last_sum / last_over_new_count - new_sum) ** 2)\n",
      "/home/sbc_dev/.local/lib/python3.7/site-packages/sklearn/utils/extmath.py:861: RuntimeWarning: invalid value encountered in true_divide\n",
      "  (last_sum / last_over_new_count - new_sum) ** 2)\n",
      "/home/sbc_dev/.local/lib/python3.7/site-packages/sklearn/utils/extmath.py:861: RuntimeWarning: invalid value encountered in true_divide\n",
      "  (last_sum / last_over_new_count - new_sum) ** 2)\n",
      "/home/sbc_dev/.local/lib/python3.7/site-packages/sklearn/utils/extmath.py:861: RuntimeWarning: invalid value encountered in true_divide\n",
      "  (last_sum / last_over_new_count - new_sum) ** 2)\n",
      "/home/sbc_dev/.local/lib/python3.7/site-packages/sklearn/utils/extmath.py:861: RuntimeWarning: invalid value encountered in true_divide\n",
      "  (last_sum / last_over_new_count - new_sum) ** 2)\n",
      "/home/sbc_dev/.local/lib/python3.7/site-packages/sklearn/utils/extmath.py:861: RuntimeWarning: invalid value encountered in true_divide\n",
      "  (last_sum / last_over_new_count - new_sum) ** 2)\n",
      "/home/sbc_dev/.local/lib/python3.7/site-packages/sklearn/utils/extmath.py:861: RuntimeWarning: invalid value encountered in true_divide\n",
      "  (last_sum / last_over_new_count - new_sum) ** 2)\n",
      "/home/sbc_dev/.local/lib/python3.7/site-packages/sklearn/utils/extmath.py:861: RuntimeWarning: invalid value encountered in true_divide\n",
      "  (last_sum / last_over_new_count - new_sum) ** 2)\n",
      "/home/sbc_dev/.local/lib/python3.7/site-packages/sklearn/utils/extmath.py:861: RuntimeWarning: invalid value encountered in true_divide\n",
      "  (last_sum / last_over_new_count - new_sum) ** 2)\n",
      "/home/sbc_dev/.local/lib/python3.7/site-packages/sklearn/utils/extmath.py:861: RuntimeWarning: invalid value encountered in true_divide\n",
      "  (last_sum / last_over_new_count - new_sum) ** 2)\n",
      "/home/sbc_dev/.local/lib/python3.7/site-packages/sklearn/utils/extmath.py:861: RuntimeWarning: invalid value encountered in true_divide\n",
      "  (last_sum / last_over_new_count - new_sum) ** 2)\n",
      "/home/sbc_dev/.local/lib/python3.7/site-packages/sklearn/utils/extmath.py:861: RuntimeWarning: invalid value encountered in true_divide\n",
      "  (last_sum / last_over_new_count - new_sum) ** 2)\n",
      "/home/sbc_dev/.local/lib/python3.7/site-packages/sklearn/utils/extmath.py:861: RuntimeWarning: invalid value encountered in true_divide\n",
      "  (last_sum / last_over_new_count - new_sum) ** 2)\n",
      "/home/sbc_dev/.local/lib/python3.7/site-packages/sklearn/utils/extmath.py:861: RuntimeWarning: invalid value encountered in true_divide\n",
      "  (last_sum / last_over_new_count - new_sum) ** 2)\n",
      "/home/sbc_dev/.local/lib/python3.7/site-packages/sklearn/utils/extmath.py:861: RuntimeWarning: invalid value encountered in true_divide\n",
      "  (last_sum / last_over_new_count - new_sum) ** 2)\n",
      "/home/sbc_dev/.local/lib/python3.7/site-packages/sklearn/utils/extmath.py:861: RuntimeWarning: invalid value encountered in true_divide\n",
      "  (last_sum / last_over_new_count - new_sum) ** 2)\n",
      "/home/sbc_dev/.local/lib/python3.7/site-packages/sklearn/utils/extmath.py:861: RuntimeWarning: invalid value encountered in true_divide\n",
      "  (last_sum / last_over_new_count - new_sum) ** 2)\n",
      "/home/sbc_dev/.local/lib/python3.7/site-packages/sklearn/utils/extmath.py:861: RuntimeWarning: invalid value encountered in true_divide\n",
      "  (last_sum / last_over_new_count - new_sum) ** 2)\n"
     ]
    }
   ],
   "source": [
    "result_queue = JoinableQueue() #Queue()\n",
    "p = Thread(target=saver, args=(result_queue,))    \n",
    "threadlst=[]\n",
    "p.start()\n",
    "# argparser = args\n",
    "# We create list of thread}s and pass shared queue to all of them.\n",
    "threadlst=[Thread(target=parse_pool, \n",
    "                  args=(result_queue, params_lst, len(params_lst))) for i, params_lst in enumerate(splitter)]\n",
    "# Starting threads...\n",
    "print(\"Start: %s\" % time.ctime())\n",
    "for th in threadlst:\n",
    "    th.start()\n",
    "# Waiting for threads to finish execution... \n",
    "for th in threadlst:\n",
    "    th.join() \n",
    "print(\"End:   %s\" % time.ctime())\n",
    "\n",
    "result_queue.put(None) # Poison pill\n",
    "p.join() "
   ]
  },
  {
   "cell_type": "code",
   "execution_count": null,
   "metadata": {},
   "outputs": [],
   "source": []
  },
  {
   "cell_type": "markdown",
   "metadata": {},
   "source": [
    "## Test Cases"
   ]
  },
  {
   "cell_type": "code",
   "execution_count": 6,
   "metadata": {},
   "outputs": [
    {
     "data": {
      "text/plain": [
       "5.823465818787765"
      ]
     },
     "execution_count": 6,
     "metadata": {},
     "output_type": "execute_result"
    }
   ],
   "source": [
    "np.sum(\n",
    "[\n",
    "(2**2-1)/1,\n",
    "(2**2-1)/math.log2(3),\n",
    "(2**1-1)/math.log2(4),\n",
    "(2**1-1)/math.log2(5),\n",
    "(2**0-1)/math.log2(6),\n",
    "(2**0-1)/math.log2(7)\n",
    "]\n",
    ")"
   ]
  },
  {
   "cell_type": "code",
   "execution_count": 9,
   "metadata": {},
   "outputs": [
    {
     "data": {
      "text/plain": [
       "(5.823465794324875, 5.823465794324875)"
      ]
     },
     "execution_count": 9,
     "metadata": {},
     "output_type": "execute_result"
    }
   ],
   "source": [
    "y_true = torch.LongTensor([[2, 2, 1, 1, 0, 0]]).reshape(-1, 1)\n",
    "\n",
    "sol.idcg_k(y_true,sol.gain_scheme, 6), sol.idcg(y_true,sol.gain_scheme)"
   ]
  },
  {
   "cell_type": "code",
   "execution_count": 90,
   "metadata": {},
   "outputs": [
    {
     "name": "stdout",
     "output_type": "stream",
     "text": [
      "torch.Size([10000, 1])\n"
     ]
    }
   ],
   "source": [
    "preds = torch.zeros_like(sol.ys_train) + sol.eps\n",
    "print(preds.shape)\n",
    "tr, cols_indx = sol._train_one_tree(1, preds)"
   ]
  },
  {
   "cell_type": "code",
   "execution_count": 153,
   "metadata": {},
   "outputs": [],
   "source": [
    "y_true = torch.LongTensor([[5, 3, 2, 5, 1, 1]]).reshape(-1, 1)\n",
    "y_pred = torch.FloatTensor([3.2, 0.4, -0.1, -2.1, 0.5, 0.01]).reshape(-1, 1)"
   ]
  },
  {
   "cell_type": "code",
   "execution_count": 5,
   "metadata": {
    "scrolled": true
   },
   "outputs": [
    {
     "name": "stderr",
     "output_type": "stream",
     "text": [
      "\r",
      "  0%|          | 0/100 [00:00<?, ?it/s]"
     ]
    },
    {
     "name": "stdout",
     "output_type": "stream",
     "text": [
      "tensor([[-0.0974],\n",
      "        [-0.0967],\n",
      "        [ 0.0421],\n",
      "        ...,\n",
      "        [-0.0921],\n",
      "        [-0.0921],\n",
      "        [-0.0079]])\n"
     ]
    },
    {
     "name": "stderr",
     "output_type": "stream",
     "text": [
      "100%|██████████| 100/100 [01:37<00:00,  1.02it/s]\n"
     ]
    },
    {
     "data": {
      "text/plain": [
       "0.9192586374646947"
      ]
     },
     "execution_count": 5,
     "metadata": {},
     "output_type": "execute_result"
    }
   ],
   "source": [
    "preds = torch.zeros_like(sol.ys_train) + sol.eps\n",
    "lambds = sol._compute_lambdas(sol.ys_train, preds)\n",
    "print(lambds)\n",
    "\n",
    "for i in tqdm(range(100)):\n",
    "    lambda_update = sol._compute_lambdas(sol.ys_train, preds)\n",
    "    preds -= lambda_update*0.5\n",
    "    \n",
    "sol._ndcg_k(sol.ys_train, preds, 20)"
   ]
  },
  {
   "cell_type": "code",
   "execution_count": null,
   "metadata": {},
   "outputs": [],
   "source": []
  }
 ],
 "metadata": {
  "kernelspec": {
   "display_name": "py_37_env",
   "language": "python",
   "name": "py_37_env"
  },
  "language_info": {
   "codemirror_mode": {
    "name": "ipython",
    "version": 3
   },
   "file_extension": ".py",
   "mimetype": "text/x-python",
   "name": "python",
   "nbconvert_exporter": "python",
   "pygments_lexer": "ipython3",
   "version": "3.7.9"
  }
 },
 "nbformat": 4,
 "nbformat_minor": 4
}
