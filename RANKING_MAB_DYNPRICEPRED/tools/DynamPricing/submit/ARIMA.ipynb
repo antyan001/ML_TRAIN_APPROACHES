{
 "cells": [
  {
   "cell_type": "code",
   "execution_count": 1,
   "metadata": {},
   "outputs": [],
   "source": [
    "import warnings\n",
    "# warnings.filterwarnings(\"ignore\", category=FutureWarning) \n",
    "\n",
    "def warn(*args, **kwargs):\n",
    "    pass\n",
    "\n",
    "warnings.warn = warn"
   ]
  },
  {
   "cell_type": "code",
   "execution_count": 2,
   "metadata": {},
   "outputs": [],
   "source": [
    "import os\n",
    "import pandas as pd\n",
    "import numpy as np\n",
    "\n",
    "#import visualization libraries\n",
    "import matplotlib.pyplot as plt\n",
    "import seaborn as sns\n",
    "from tqdm import tqdm\n",
    "color = sns.color_palette()\n",
    "\n",
    "%matplotlib inline"
   ]
  },
  {
   "cell_type": "code",
   "execution_count": null,
   "metadata": {
    "scrolled": true
   },
   "outputs": [],
   "source": [
    "# Autoregressive Integrated Moving Average with boundaries\n",
    "import statsmodels.api as sm\n",
    "from statsmodels.tsa.arima.model import ARIMA\n",
    "from statsmodels.tsa.stattools import adfuller, arma_order_select_ic"
   ]
  },
  {
   "cell_type": "code",
   "execution_count": 4,
   "metadata": {},
   "outputs": [],
   "source": [
    "test = pd.read_csv('./csv/test.csv')\n",
    "test['dates'] = pd.to_datetime(test.dates)"
   ]
  },
  {
   "cell_type": "code",
   "execution_count": 5,
   "metadata": {},
   "outputs": [],
   "source": [
    "fin_sku_df = pd.DataFrame()\n",
    "\n",
    "for file_name in os.listdir('./csv'):\n",
    "    \n",
    "    if file_name.endswith('_group_sku.csv'):\n",
    "        \n",
    "        gr_sku = pd.read_csv(\"./csv/\"+file_name)\n",
    "        gr_sku['dates'] = pd.to_datetime(gr_sku.dates)\n",
    "\n",
    "        gr_sku['price_per_sku'] = gr_sku.groupby('SKU').price_per_sku.ffill()\n",
    "        \n",
    "        fin_sku_df = pd.concat((fin_sku_df, gr_sku), axis=0)"
   ]
  },
  {
   "cell_type": "code",
   "execution_count": 6,
   "metadata": {},
   "outputs": [],
   "source": [
    "sku_arr = fin_sku_df.SKU.unique()"
   ]
  },
  {
   "cell_type": "code",
   "execution_count": 7,
   "metadata": {
    "scrolled": true
   },
   "outputs": [
    {
     "name": "stderr",
     "output_type": "stream",
     "text": [
      "100%|██████████| 25/25 [07:12<00:00, 17.28s/it]\n"
     ]
    }
   ],
   "source": [
    "fin_sku_pred_df = pd.DataFrame() \n",
    "\n",
    "for _sku in tqdm(sku_arr, total=len(sku_arr)): \n",
    "    \n",
    "    train_df = fin_sku_df[fin_sku_df.SKU == _sku].sort_values('dates')\n",
    "    test_df = test[test.SKU == _sku].sort_values('dates')\n",
    "\n",
    "    ARIMA_ = ARIMA(train_df.price_per_sku.values, order=(30,1,20))\n",
    "    # ARIMA_ = ARIMA(log_returns, order=(20,1,20))\n",
    "    ARIMA_model = ARIMA_.fit() #start_ar_lags = 1\n",
    "#     print(ARIMA_model.summary())\n",
    "    test_df['price_per_sku'] = ARIMA_model.predict(start = len(train_df), \n",
    "                                                   end = len(train_df) + len(test_df)-1)\n",
    "    fin_sku_pred_df = pd.concat((fin_sku_pred_df, test_df), axis=0)\n",
    "    "
   ]
  },
  {
   "cell_type": "code",
   "execution_count": 8,
   "metadata": {},
   "outputs": [
    {
     "data": {
      "text/html": [
       "<div>\n",
       "<style scoped>\n",
       "    .dataframe tbody tr th:only-of-type {\n",
       "        vertical-align: middle;\n",
       "    }\n",
       "\n",
       "    .dataframe tbody tr th {\n",
       "        vertical-align: top;\n",
       "    }\n",
       "\n",
       "    .dataframe thead th {\n",
       "        text-align: right;\n",
       "    }\n",
       "</style>\n",
       "<table border=\"1\" class=\"dataframe\">\n",
       "  <thead>\n",
       "    <tr style=\"text-align: right;\">\n",
       "      <th></th>\n",
       "      <th>dates</th>\n",
       "      <th>SKU</th>\n",
       "      <th>price_per_sku</th>\n",
       "    </tr>\n",
       "  </thead>\n",
       "  <tbody>\n",
       "    <tr>\n",
       "      <th>21</th>\n",
       "      <td>2019-04-10</td>\n",
       "      <td>32950</td>\n",
       "      <td>449.356154</td>\n",
       "    </tr>\n",
       "    <tr>\n",
       "      <th>22</th>\n",
       "      <td>2019-04-11</td>\n",
       "      <td>32950</td>\n",
       "      <td>448.148569</td>\n",
       "    </tr>\n",
       "    <tr>\n",
       "      <th>23</th>\n",
       "      <td>2019-04-12</td>\n",
       "      <td>32950</td>\n",
       "      <td>446.069129</td>\n",
       "    </tr>\n",
       "    <tr>\n",
       "      <th>24</th>\n",
       "      <td>2019-04-13</td>\n",
       "      <td>32950</td>\n",
       "      <td>447.369724</td>\n",
       "    </tr>\n",
       "    <tr>\n",
       "      <th>25</th>\n",
       "      <td>2019-04-16</td>\n",
       "      <td>32950</td>\n",
       "      <td>452.685453</td>\n",
       "    </tr>\n",
       "    <tr>\n",
       "      <th>...</th>\n",
       "      <td>...</td>\n",
       "      <td>...</td>\n",
       "      <td>...</td>\n",
       "    </tr>\n",
       "    <tr>\n",
       "      <th>101</th>\n",
       "      <td>2019-12-26</td>\n",
       "      <td>89272</td>\n",
       "      <td>125.664045</td>\n",
       "    </tr>\n",
       "    <tr>\n",
       "      <th>112</th>\n",
       "      <td>2019-12-27</td>\n",
       "      <td>89272</td>\n",
       "      <td>125.644273</td>\n",
       "    </tr>\n",
       "    <tr>\n",
       "      <th>134</th>\n",
       "      <td>2019-12-28</td>\n",
       "      <td>89272</td>\n",
       "      <td>126.678554</td>\n",
       "    </tr>\n",
       "    <tr>\n",
       "      <th>157</th>\n",
       "      <td>2019-12-30</td>\n",
       "      <td>89272</td>\n",
       "      <td>126.333769</td>\n",
       "    </tr>\n",
       "    <tr>\n",
       "      <th>162</th>\n",
       "      <td>2019-12-31</td>\n",
       "      <td>89272</td>\n",
       "      <td>126.200406</td>\n",
       "    </tr>\n",
       "  </tbody>\n",
       "</table>\n",
       "<p>175 rows × 3 columns</p>\n",
       "</div>"
      ],
      "text/plain": [
       "         dates    SKU  price_per_sku\n",
       "21  2019-04-10  32950     449.356154\n",
       "22  2019-04-11  32950     448.148569\n",
       "23  2019-04-12  32950     446.069129\n",
       "24  2019-04-13  32950     447.369724\n",
       "25  2019-04-16  32950     452.685453\n",
       "..         ...    ...            ...\n",
       "101 2019-12-26  89272     125.664045\n",
       "112 2019-12-27  89272     125.644273\n",
       "134 2019-12-28  89272     126.678554\n",
       "157 2019-12-30  89272     126.333769\n",
       "162 2019-12-31  89272     126.200406\n",
       "\n",
       "[175 rows x 3 columns]"
      ]
     },
     "execution_count": 8,
     "metadata": {},
     "output_type": "execute_result"
    }
   ],
   "source": [
    "fin_sku_pred_df"
   ]
  },
  {
   "cell_type": "code",
   "execution_count": 9,
   "metadata": {},
   "outputs": [],
   "source": [
    "fin_sku_pred_df.to_csv('./results/predictions.csv', index=False)"
   ]
  },
  {
   "cell_type": "code",
   "execution_count": null,
   "metadata": {},
   "outputs": [],
   "source": []
  }
 ],
 "metadata": {
  "kernelspec": {
   "display_name": "Python 3",
   "language": "python",
   "name": "python3"
  },
  "language_info": {
   "codemirror_mode": {
    "name": "ipython",
    "version": 3
   },
   "file_extension": ".py",
   "mimetype": "text/x-python",
   "name": "python",
   "nbconvert_exporter": "python",
   "pygments_lexer": "ipython3",
   "version": "3.7.4"
  }
 },
 "nbformat": 4,
 "nbformat_minor": 5
}
