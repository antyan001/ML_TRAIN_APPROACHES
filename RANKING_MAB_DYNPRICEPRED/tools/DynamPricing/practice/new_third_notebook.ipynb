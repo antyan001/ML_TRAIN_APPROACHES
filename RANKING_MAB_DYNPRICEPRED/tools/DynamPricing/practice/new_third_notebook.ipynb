{
 "cells": [
  {
   "cell_type": "code",
   "execution_count": 42,
   "metadata": {},
   "outputs": [],
   "source": [
    "import warnings\n",
    "# warnings.filterwarnings(\"ignore\", category=FutureWarning) \n",
    "\n",
    "def warn(*args, **kwargs):\n",
    "    pass\n",
    "\n",
    "warnings.warn = warn"
   ]
  },
  {
   "cell_type": "code",
   "execution_count": 32,
   "metadata": {
    "scrolled": true
   },
   "outputs": [
    {
     "name": "stdout",
     "output_type": "stream",
     "text": [
      "Collecting pystan==2.19.1.1\n",
      "  Using cached pystan-2.19.1.1-cp37-cp37m-manylinux1_x86_64.whl (67.3 MB)\n",
      "Collecting numpy>=1.7\n",
      "  Using cached numpy-1.21.2-cp37-cp37m-manylinux_2_12_x86_64.manylinux2010_x86_64.whl (15.7 MB)\n",
      "Collecting Cython!=0.25.1,>=0.22\n",
      "  Using cached Cython-0.29.24-cp37-cp37m-manylinux1_x86_64.whl (2.0 MB)\n",
      "\u001b[31mERROR: numba 0.54.0 has requirement numpy<1.21,>=1.17, but you'll have numpy 1.21.2 which is incompatible.\u001b[0m\n",
      "\u001b[31mERROR: deeppavlov 0.8.0 has requirement Cython==0.29.14, but you'll have cython 0.29.24 which is incompatible.\u001b[0m\n",
      "\u001b[31mERROR: deeppavlov 0.8.0 has requirement numpy==1.18.0, but you'll have numpy 1.21.2 which is incompatible.\u001b[0m\n",
      "\u001b[31mERROR: deeppavlov 0.8.0 has requirement pandas==0.25.3, but you'll have pandas 1.3.2 which is incompatible.\u001b[0m\n",
      "\u001b[31mERROR: deeppavlov 0.8.0 has requirement requests==2.22.0, but you'll have requests 2.24.0 which is incompatible.\u001b[0m\n",
      "\u001b[31mERROR: deeppavlov 0.8.0 has requirement scikit-learn==0.21.2, but you'll have scikit-learn 0.24.2 which is incompatible.\u001b[0m\n",
      "\u001b[31mERROR: deeppavlov 0.8.0 has requirement scipy==1.4.1, but you'll have scipy 1.7.1 which is incompatible.\u001b[0m\n",
      "\u001b[31mERROR: deeppavlov 0.8.0 has requirement tqdm==4.41.1, but you'll have tqdm 4.62.2 which is incompatible.\u001b[0m\n",
      "Installing collected packages: numpy, Cython, pystan\n",
      "Successfully installed Cython-0.29.24 numpy-1.21.2 pystan-2.19.1.1\n",
      "\u001b[33mWARNING: Target directory /home/sbc_dev/.local/lib/python3.7/site-packages/pyximport already exists. Specify --upgrade to force replacement.\u001b[0m\n",
      "\u001b[33mWARNING: Target directory /home/sbc_dev/.local/lib/python3.7/site-packages/Cython-0.29.24.dist-info already exists. Specify --upgrade to force replacement.\u001b[0m\n",
      "\u001b[33mWARNING: Target directory /home/sbc_dev/.local/lib/python3.7/site-packages/__pycache__ already exists. Specify --upgrade to force replacement.\u001b[0m\n",
      "\u001b[33mWARNING: Target directory /home/sbc_dev/.local/lib/python3.7/site-packages/pystan already exists. Specify --upgrade to force replacement.\u001b[0m\n",
      "\u001b[33mWARNING: Target directory /home/sbc_dev/.local/lib/python3.7/site-packages/Cython already exists. Specify --upgrade to force replacement.\u001b[0m\n",
      "\u001b[33mWARNING: Target directory /home/sbc_dev/.local/lib/python3.7/site-packages/numpy-1.21.2.dist-info already exists. Specify --upgrade to force replacement.\u001b[0m\n",
      "\u001b[33mWARNING: Target directory /home/sbc_dev/.local/lib/python3.7/site-packages/cython.py already exists. Specify --upgrade to force replacement.\u001b[0m\n",
      "\u001b[33mWARNING: Target directory /home/sbc_dev/.local/lib/python3.7/site-packages/pystan-2.19.1.1.dist-info already exists. Specify --upgrade to force replacement.\u001b[0m\n",
      "\u001b[33mWARNING: Target directory /home/sbc_dev/.local/lib/python3.7/site-packages/numpy already exists. Specify --upgrade to force replacement.\u001b[0m\n",
      "\u001b[33mWARNING: Target directory /home/sbc_dev/.local/lib/python3.7/site-packages/numpy.libs already exists. Specify --upgrade to force replacement.\u001b[0m\n",
      "\u001b[33mWARNING: Target directory /home/sbc_dev/.local/lib/python3.7/site-packages/bin already exists. Specify --upgrade to force replacement.\u001b[0m\n",
      "\u001b[33mWARNING: You are using pip version 20.1.1; however, version 21.2.4 is available.\n",
      "You should consider upgrading via the '/usr/local/bin/python3.7 -m pip install --upgrade pip' command.\u001b[0m\n"
     ]
    }
   ],
   "source": [
    "!pip3.7 install pystan==2.19.1.1 -t /home/sbc_dev/.local/lib/python3.7/site-packages --force-reinstall"
   ]
  },
  {
   "cell_type": "code",
   "execution_count": 49,
   "metadata": {
    "scrolled": true
   },
   "outputs": [
    {
     "name": "stdout",
     "output_type": "stream",
     "text": [
      "Collecting fbprophet==0.6\n",
      "  Using cached fbprophet-0.6.tar.gz (54 kB)\n",
      "Collecting Cython>=0.22\n",
      "  Using cached Cython-0.29.24-cp37-cp37m-manylinux1_x86_64.whl (2.0 MB)\n",
      "Collecting cmdstanpy==0.4\n",
      "  Using cached cmdstanpy-0.4.0-py3-none-any.whl (22 kB)\n",
      "Collecting pystan>=2.14\n",
      "  Using cached pystan-3.2.0-py3-none-any.whl (13 kB)\n",
      "Collecting numpy>=1.10.0\n",
      "  Using cached numpy-1.21.2-cp37-cp37m-manylinux_2_12_x86_64.manylinux2010_x86_64.whl (15.7 MB)\n",
      "Collecting pandas>=0.23.4\n",
      "  Using cached pandas-1.3.2-cp37-cp37m-manylinux_2_17_x86_64.manylinux2014_x86_64.whl (11.3 MB)\n",
      "Collecting matplotlib>=2.0.0\n",
      "  Using cached matplotlib-3.4.3-cp37-cp37m-manylinux1_x86_64.whl (10.3 MB)\n",
      "Collecting LunarCalendar>=0.0.9\n",
      "  Using cached LunarCalendar-0.0.9-py2.py3-none-any.whl (18 kB)\n",
      "Collecting convertdate>=2.1.2\n",
      "  Using cached convertdate-2.3.2-py3-none-any.whl (47 kB)\n",
      "Collecting holidays>=0.9.5\n",
      "  Using cached holidays-0.11.2-py3-none-any.whl (142 kB)\n",
      "Collecting setuptools-git>=1.2\n",
      "  Using cached setuptools_git-1.2-py2.py3-none-any.whl (10 kB)\n",
      "Collecting python-dateutil>=2.8.0\n",
      "  Using cached python_dateutil-2.8.2-py2.py3-none-any.whl (247 kB)\n",
      "Collecting pymeeus<=1,>=0.3.13\n",
      "  Using cached PyMeeus-0.5.11-py3-none-any.whl\n",
      "Collecting pytz>=2014.10\n",
      "  Using cached pytz-2021.1-py2.py3-none-any.whl (510 kB)\n",
      "Collecting korean-lunar-calendar\n",
      "  Using cached korean_lunar_calendar-0.2.1-py3-none-any.whl (8.0 kB)\n",
      "Collecting six\n",
      "  Using cached six-1.16.0-py2.py3-none-any.whl (11 kB)\n",
      "Collecting hijri-converter\n",
      "  Using cached hijri_converter-2.2.0-py3-none-any.whl (14 kB)\n",
      "Collecting ephem>=3.7.5.3\n",
      "  Using cached ephem-4.0.0.2-cp37-cp37m-manylinux2010_x86_64.whl (1.2 MB)\n",
      "Collecting kiwisolver>=1.0.1\n",
      "  Using cached kiwisolver-1.3.2-cp37-cp37m-manylinux_2_5_x86_64.manylinux1_x86_64.whl (1.1 MB)\n",
      "Collecting pyparsing>=2.2.1\n",
      "  Using cached pyparsing-2.4.7-py2.py3-none-any.whl (67 kB)\n",
      "Collecting pillow>=6.2.0\n",
      "  Using cached Pillow-8.3.1-cp37-cp37m-manylinux_2_5_x86_64.manylinux1_x86_64.whl (3.0 MB)\n",
      "Collecting cycler>=0.10\n",
      "  Using cached cycler-0.10.0-py2.py3-none-any.whl (6.5 kB)\n",
      "Collecting aiohttp<4.0,>=3.6\n",
      "  Using cached aiohttp-3.7.4.post0-cp37-cp37m-manylinux2014_x86_64.whl (1.3 MB)\n",
      "Collecting clikit<0.7,>=0.6\n",
      "  Using cached clikit-0.6.2-py2.py3-none-any.whl (91 kB)\n",
      "Collecting httpstan<4.6,>=4.5\n",
      "  Using cached httpstan-4.5.0-cp37-cp37m-manylinux_2_24_x86_64.whl (40.0 MB)\n",
      "Collecting pysimdjson<4.0,>=3.2\n",
      "  Using cached pysimdjson-3.2.0-cp37-cp37m-manylinux2014_x86_64.whl (2.4 MB)\n",
      "Collecting typing-extensions>=3.6.5\n",
      "  Using cached typing_extensions-3.10.0.0-py3-none-any.whl (26 kB)\n",
      "Collecting yarl<2.0,>=1.0\n",
      "  Using cached yarl-1.6.3-cp37-cp37m-manylinux2014_x86_64.whl (294 kB)\n",
      "Collecting chardet<5.0,>=2.0\n",
      "  Using cached chardet-4.0.0-py2.py3-none-any.whl (178 kB)\n",
      "Collecting attrs>=17.3.0\n",
      "  Using cached attrs-21.2.0-py2.py3-none-any.whl (53 kB)\n",
      "Collecting multidict<7.0,>=4.5\n",
      "  Using cached multidict-5.1.0-cp37-cp37m-manylinux2014_x86_64.whl (142 kB)\n",
      "Collecting async-timeout<4.0,>=3.0\n",
      "  Using cached async_timeout-3.0.1-py3-none-any.whl (8.2 kB)\n",
      "Collecting pylev<2.0,>=1.3\n",
      "  Using cached pylev-1.4.0-py2.py3-none-any.whl (6.1 kB)\n",
      "Collecting crashtest<0.4.0,>=0.3.0\n",
      "  Using cached crashtest-0.3.1-py3-none-any.whl (7.0 kB)\n",
      "Collecting pastel<0.3.0,>=0.2.0\n",
      "  Using cached pastel-0.2.1-py2.py3-none-any.whl (6.0 kB)\n",
      "Collecting appdirs<2.0,>=1.4\n",
      "  Using cached appdirs-1.4.4-py2.py3-none-any.whl (9.6 kB)\n",
      "Collecting marshmallow<4.0,>=3.10\n",
      "  Using cached marshmallow-3.13.0-py2.py3-none-any.whl (47 kB)\n",
      "Collecting setuptools>=41.0\n",
      "  Using cached setuptools-57.4.0-py3-none-any.whl (819 kB)\n",
      "Collecting lz4<4.0,>=3.1\n",
      "  Using cached lz4-3.1.3-cp37-cp37m-manylinux2010_x86_64.whl (1.8 MB)\n",
      "Collecting webargs<8.0,>=7.0\n",
      "  Using cached webargs-7.0.1-py2.py3-none-any.whl (30 kB)\n",
      "Collecting idna>=2.0\n",
      "  Using cached idna-3.2-py3-none-any.whl (59 kB)\n",
      "Building wheels for collected packages: fbprophet\n",
      "  Building wheel for fbprophet (setup.py) ... \u001b[?25lerror\n",
      "\u001b[31m  ERROR: Command errored out with exit status 1:\n",
      "   command: /usr/local/bin/python3.7 -u -c 'import io, os, sys, setuptools, tokenize; sys.argv[0] = '\"'\"'/tmp/pip-install-_ce0pcc8/fbprophet_70e73d9b89644b31b3debfa91448bd4c/setup.py'\"'\"'; __file__='\"'\"'/tmp/pip-install-_ce0pcc8/fbprophet_70e73d9b89644b31b3debfa91448bd4c/setup.py'\"'\"';f = getattr(tokenize, '\"'\"'open'\"'\"', open)(__file__) if os.path.exists(__file__) else io.StringIO('\"'\"'from setuptools import setup; setup()'\"'\"');code = f.read().replace('\"'\"'\\r\\n'\"'\"', '\"'\"'\\n'\"'\"');f.close();exec(compile(code, __file__, '\"'\"'exec'\"'\"'))' bdist_wheel -d /tmp/pip-wheel-12uck7tw\n",
      "       cwd: /tmp/pip-install-_ce0pcc8/fbprophet_70e73d9b89644b31b3debfa91448bd4c/\n",
      "  Complete output (44 lines):\n",
      "  running bdist_wheel\n",
      "  running build\n",
      "  running build_py\n",
      "  creating build\n",
      "  creating build/lib\n",
      "  creating build/lib/fbprophet\n",
      "  creating build/lib/fbprophet/stan_model\n",
      "  Traceback (most recent call last):\n",
      "    File \"<string>\", line 1, in <module>\n",
      "    File \"/tmp/pip-install-_ce0pcc8/fbprophet_70e73d9b89644b31b3debfa91448bd4c/setup.py\", line 148, in <module>\n",
      "      \"\"\"\n",
      "    File \"/home/sbc_dev/.local/lib/python3.7/site-packages/setuptools/__init__.py\", line 153, in setup\n",
      "      return distutils.core.setup(**attrs)\n",
      "    File \"/usr/local/lib/python3.7/distutils/core.py\", line 148, in setup\n",
      "      dist.run_commands()\n",
      "    File \"/usr/local/lib/python3.7/distutils/dist.py\", line 966, in run_commands\n",
      "      self.run_command(cmd)\n",
      "    File \"/usr/local/lib/python3.7/distutils/dist.py\", line 985, in run_command\n",
      "      cmd_obj.run()\n",
      "    File \"/home/sbc_dev/.local/lib/python3.7/site-packages/wheel/bdist_wheel.py\", line 299, in run\n",
      "      self.run_command('build')\n",
      "    File \"/usr/local/lib/python3.7/distutils/cmd.py\", line 313, in run_command\n",
      "      self.distribution.run_command(command)\n",
      "    File \"/usr/local/lib/python3.7/distutils/dist.py\", line 985, in run_command\n",
      "      cmd_obj.run()\n",
      "    File \"/usr/local/lib/python3.7/distutils/command/build.py\", line 135, in run\n",
      "      self.run_command(cmd_name)\n",
      "    File \"/usr/local/lib/python3.7/distutils/cmd.py\", line 313, in run_command\n",
      "      self.distribution.run_command(command)\n",
      "    File \"/usr/local/lib/python3.7/distutils/dist.py\", line 985, in run_command\n",
      "      cmd_obj.run()\n",
      "    File \"/tmp/pip-install-_ce0pcc8/fbprophet_70e73d9b89644b31b3debfa91448bd4c/setup.py\", line 48, in run\n",
      "      build_models(target_dir)\n",
      "    File \"/tmp/pip-install-_ce0pcc8/fbprophet_70e73d9b89644b31b3debfa91448bd4c/setup.py\", line 36, in build_models\n",
      "      from fbprophet.models import StanBackendEnum\n",
      "    File \"/tmp/pip-install-_ce0pcc8/fbprophet_70e73d9b89644b31b3debfa91448bd4c/fbprophet/__init__.py\", line 8, in <module>\n",
      "      from fbprophet.forecaster import Prophet\n",
      "    File \"/tmp/pip-install-_ce0pcc8/fbprophet_70e73d9b89644b31b3debfa91448bd4c/fbprophet/forecaster.py\", line 17, in <module>\n",
      "      from fbprophet.make_holidays import get_holiday_names, make_holidays_df\n",
      "    File \"/tmp/pip-install-_ce0pcc8/fbprophet_70e73d9b89644b31b3debfa91448bd4c/fbprophet/make_holidays.py\", line 14, in <module>\n",
      "      import fbprophet.hdays as hdays_part2\n",
      "    File \"/tmp/pip-install-_ce0pcc8/fbprophet_70e73d9b89644b31b3debfa91448bd4c/fbprophet/hdays.py\", line 14, in <module>\n",
      "      from lunarcalendar import Lunar, Converter\n",
      "  ModuleNotFoundError: No module named 'lunarcalendar'\n",
      "  ----------------------------------------\u001b[0m\n",
      "\u001b[31m  ERROR: Failed building wheel for fbprophet\u001b[0m\n",
      "\u001b[?25h  Running setup.py clean for fbprophet\n",
      "Failed to build fbprophet\n",
      "Installing collected packages: typing-extensions, multidict, idna, yarl, six, marshmallow, chardet, attrs, async-timeout, webargs, setuptools, pytz, python-dateutil, pymeeus, pylev, pastel, numpy, lz4, crashtest, appdirs, aiohttp, pysimdjson, pyparsing, pillow, pandas, korean-lunar-calendar, kiwisolver, httpstan, hijri-converter, ephem, cycler, convertdate, clikit, setuptools-git, pystan, matplotlib, LunarCalendar, holidays, Cython, cmdstanpy, fbprophet\n",
      "    Running setup.py install for fbprophet ... \u001b[?25lerror\n",
      "\u001b[31m    ERROR: Command errored out with exit status 1:\n",
      "     command: /usr/local/bin/python3.7 -u -c 'import io, os, sys, setuptools, tokenize; sys.argv[0] = '\"'\"'/tmp/pip-install-_ce0pcc8/fbprophet_70e73d9b89644b31b3debfa91448bd4c/setup.py'\"'\"'; __file__='\"'\"'/tmp/pip-install-_ce0pcc8/fbprophet_70e73d9b89644b31b3debfa91448bd4c/setup.py'\"'\"';f = getattr(tokenize, '\"'\"'open'\"'\"', open)(__file__) if os.path.exists(__file__) else io.StringIO('\"'\"'from setuptools import setup; setup()'\"'\"');code = f.read().replace('\"'\"'\\r\\n'\"'\"', '\"'\"'\\n'\"'\"');f.close();exec(compile(code, __file__, '\"'\"'exec'\"'\"'))' install --record /tmp/pip-record-oy3bkvfq/install-record.txt --single-version-externally-managed --home /tmp/pip-target-6zf86bol --compile --install-headers /tmp/pip-target-6zf86bol/include/python/fbprophet\n",
      "         cwd: /tmp/pip-install-_ce0pcc8/fbprophet_70e73d9b89644b31b3debfa91448bd4c/\n",
      "    Complete output (46 lines):\n",
      "    running install\n",
      "    running build\n",
      "    running build_py\n",
      "    creating build\n",
      "    creating build/lib\n",
      "    creating build/lib/fbprophet\n",
      "    creating build/lib/fbprophet/stan_model\n",
      "    Traceback (most recent call last):\n",
      "      File \"<string>\", line 1, in <module>\n",
      "      File \"/tmp/pip-install-_ce0pcc8/fbprophet_70e73d9b89644b31b3debfa91448bd4c/setup.py\", line 148, in <module>\n",
      "        \"\"\"\n",
      "      File \"/home/sbc_dev/.local/lib/python3.7/site-packages/setuptools/__init__.py\", line 153, in setup\n",
      "        return distutils.core.setup(**attrs)\n",
      "      File \"/usr/local/lib/python3.7/distutils/core.py\", line 148, in setup\n",
      "        dist.run_commands()\n",
      "      File \"/usr/local/lib/python3.7/distutils/dist.py\", line 966, in run_commands\n",
      "        self.run_command(cmd)\n",
      "      File \"/usr/local/lib/python3.7/distutils/dist.py\", line 985, in run_command\n",
      "        cmd_obj.run()\n",
      "      File \"/home/sbc_dev/.local/lib/python3.7/site-packages/setuptools/command/install.py\", line 61, in run\n",
      "        return orig.install.run(self)\n",
      "      File \"/usr/local/lib/python3.7/distutils/command/install.py\", line 545, in run\n",
      "        self.run_command('build')\n",
      "      File \"/usr/local/lib/python3.7/distutils/cmd.py\", line 313, in run_command\n",
      "        self.distribution.run_command(command)\n",
      "      File \"/usr/local/lib/python3.7/distutils/dist.py\", line 985, in run_command\n",
      "        cmd_obj.run()\n",
      "      File \"/usr/local/lib/python3.7/distutils/command/build.py\", line 135, in run\n",
      "        self.run_command(cmd_name)\n",
      "      File \"/usr/local/lib/python3.7/distutils/cmd.py\", line 313, in run_command\n",
      "        self.distribution.run_command(command)\n",
      "      File \"/usr/local/lib/python3.7/distutils/dist.py\", line 985, in run_command\n",
      "        cmd_obj.run()\n",
      "      File \"/tmp/pip-install-_ce0pcc8/fbprophet_70e73d9b89644b31b3debfa91448bd4c/setup.py\", line 48, in run\n",
      "        build_models(target_dir)\n",
      "      File \"/tmp/pip-install-_ce0pcc8/fbprophet_70e73d9b89644b31b3debfa91448bd4c/setup.py\", line 36, in build_models\n",
      "        from fbprophet.models import StanBackendEnum\n",
      "      File \"/tmp/pip-install-_ce0pcc8/fbprophet_70e73d9b89644b31b3debfa91448bd4c/fbprophet/__init__.py\", line 8, in <module>\n",
      "        from fbprophet.forecaster import Prophet\n",
      "      File \"/tmp/pip-install-_ce0pcc8/fbprophet_70e73d9b89644b31b3debfa91448bd4c/fbprophet/forecaster.py\", line 17, in <module>\n",
      "        from fbprophet.make_holidays import get_holiday_names, make_holidays_df\n",
      "      File \"/tmp/pip-install-_ce0pcc8/fbprophet_70e73d9b89644b31b3debfa91448bd4c/fbprophet/make_holidays.py\", line 14, in <module>\n",
      "        import fbprophet.hdays as hdays_part2\n",
      "      File \"/tmp/pip-install-_ce0pcc8/fbprophet_70e73d9b89644b31b3debfa91448bd4c/fbprophet/hdays.py\", line 14, in <module>\n",
      "        from lunarcalendar import Lunar, Converter\n",
      "    ModuleNotFoundError: No module named 'lunarcalendar'\n",
      "    ----------------------------------------\u001b[0m\n"
     ]
    },
    {
     "name": "stdout",
     "output_type": "stream",
     "text": [
      "\u001b[31mERROR: Command errored out with exit status 1: /usr/local/bin/python3.7 -u -c 'import io, os, sys, setuptools, tokenize; sys.argv[0] = '\"'\"'/tmp/pip-install-_ce0pcc8/fbprophet_70e73d9b89644b31b3debfa91448bd4c/setup.py'\"'\"'; __file__='\"'\"'/tmp/pip-install-_ce0pcc8/fbprophet_70e73d9b89644b31b3debfa91448bd4c/setup.py'\"'\"';f = getattr(tokenize, '\"'\"'open'\"'\"', open)(__file__) if os.path.exists(__file__) else io.StringIO('\"'\"'from setuptools import setup; setup()'\"'\"');code = f.read().replace('\"'\"'\\r\\n'\"'\"', '\"'\"'\\n'\"'\"');f.close();exec(compile(code, __file__, '\"'\"'exec'\"'\"'))' install --record /tmp/pip-record-oy3bkvfq/install-record.txt --single-version-externally-managed --home /tmp/pip-target-6zf86bol --compile --install-headers /tmp/pip-target-6zf86bol/include/python/fbprophet Check the logs for full command output.\u001b[0m\n",
      "\u001b[?25h"
     ]
    }
   ],
   "source": [
    "!pip3.7 install fbprophet==0.6 -t /home/sbc_dev/.local/lib/python3.7/site-packages --force-reinstall"
   ]
  },
  {
   "cell_type": "markdown",
   "metadata": {},
   "source": [
    "# План по уроку"
   ]
  },
  {
   "cell_type": "markdown",
   "metadata": {},
   "source": [
    "## Кластеризация временных рядов\n",
    "## Зачем прогнозить диапазоны (еще раз)\n",
    "## Чуть-чуть про лоссы\n",
    "## Как прогнозировать диапазоны\n",
    "## Какую метрику качества можно выбрать"
   ]
  },
  {
   "cell_type": "markdown",
   "metadata": {},
   "source": [
    "## Кластеризация времменых рядов\n",
    "### Кластеризация в ценообразовании\n",
    "С помощью кластеризации можем выбрать товары интересные с точки зрения ценообразовани.\n",
    "\n",
    "Кластеризуем по цене, обороту/прибыли, эластичности \n",
    "\n",
    "Выбираем группы: \n",
    " - \"Генераторы трафика\" - товары с наибольшими продажами\n",
    " - \"Генераторы прибыли\" - товары с низкой эластичностью с невысокой ценой и средними продажами\n",
    " - \"Промотовары\" - товары продающиеся только в промо\n",
    " - \"Усилители прибыли\" - товары с низкой эластичностью и эпизодическими характерами продаж\n",
    "\n"
   ]
  },
  {
   "cell_type": "markdown",
   "metadata": {},
   "source": [
    "### Кластеризация временных рядов\n",
    "#### Time series Kmeans\n",
    "#### DTW\n",
    "#### Embending подход"
   ]
  },
  {
   "cell_type": "markdown",
   "metadata": {},
   "source": [
    "## Зачем прогнозировать диапазоны\n",
    "### Выигрыш на каждом моменте\n",
    "<img src=\"curve.png\" width=\"800\">\n",
    "\n",
    "\n",
    "### Проблема цен конкурентов\n",
    "1) Знаем цены из буклетов по промо\n",
    "\n",
    "2) Знаем цены на сегодняшний день, а должны изменять цену на завтра"
   ]
  },
  {
   "cell_type": "code",
   "execution_count": 66,
   "metadata": {},
   "outputs": [
    {
     "data": {
      "image/png": "[encoded data removed]",
      "text/plain": [
       "<Figure size 720x432 with 1 Axes>"
      ]
     },
     "execution_count": 66,
     "metadata": {},
     "output_type": "execute_result"
    },
    {
     "data": {
      "image/png": "[encoded data removed]",
      "text/plain": [
       "<Figure size 720x432 with 1 Axes>"
      ]
     },
     "metadata": {},
     "output_type": "display_data"
    }
   ],
   "source": [
    "prophet.plot(pred_df)"
   ]
  },
  {
   "cell_type": "markdown",
   "metadata": {},
   "source": [
    "## Чуть-чуть про лоссы"
   ]
  },
  {
   "cell_type": "markdown",
   "metadata": {},
   "source": [
    "<img src = https://miro.medium.com/max/1131/0*ufWnnvTA9AkjKrfI>"
   ]
  },
  {
   "cell_type": "markdown",
   "metadata": {},
   "source": [
    "## Как прогнозировать диапазоны"
   ]
  },
  {
   "cell_type": "code",
   "execution_count": 1,
   "metadata": {},
   "outputs": [],
   "source": [
    "import pandas as pd\n",
    "import numpy as np"
   ]
  },
  {
   "cell_type": "code",
   "execution_count": 2,
   "metadata": {},
   "outputs": [],
   "source": [
    "from pandas.plotting import autocorrelation_plot"
   ]
  },
  {
   "cell_type": "code",
   "execution_count": 3,
   "metadata": {},
   "outputs": [],
   "source": [
    "#import visualization libraries\n",
    "import matplotlib.pyplot as plt\n",
    "import seaborn as sns\n",
    "color = sns.color_palette()\n",
    "\n",
    "%matplotlib inline"
   ]
  },
  {
   "cell_type": "code",
   "execution_count": 4,
   "metadata": {},
   "outputs": [],
   "source": [
    "ZX_df = pd.read_csv('ZX10208_agr.csv')"
   ]
  },
  {
   "cell_type": "code",
   "execution_count": 5,
   "metadata": {},
   "outputs": [
    {
     "data": {
      "text/html": [
       "<div>\n",
       "<style scoped>\n",
       "    .dataframe tbody tr th:only-of-type {\n",
       "        vertical-align: middle;\n",
       "    }\n",
       "\n",
       "    .dataframe tbody tr th {\n",
       "        vertical-align: top;\n",
       "    }\n",
       "\n",
       "    .dataframe thead th {\n",
       "        text-align: right;\n",
       "    }\n",
       "</style>\n",
       "<table border=\"1\" class=\"dataframe\">\n",
       "  <thead>\n",
       "    <tr style=\"text-align: right;\">\n",
       "      <th></th>\n",
       "      <th>dates</th>\n",
       "      <th>SKU</th>\n",
       "      <th>price_per_sku</th>\n",
       "      <th>num_purchases</th>\n",
       "    </tr>\n",
       "  </thead>\n",
       "  <tbody>\n",
       "    <tr>\n",
       "      <th>0</th>\n",
       "      <td>2018-04-20</td>\n",
       "      <td>59567</td>\n",
       "      <td>169.19</td>\n",
       "      <td>3</td>\n",
       "    </tr>\n",
       "    <tr>\n",
       "      <th>1</th>\n",
       "      <td>2018-04-24</td>\n",
       "      <td>59567</td>\n",
       "      <td>171.71</td>\n",
       "      <td>3</td>\n",
       "    </tr>\n",
       "    <tr>\n",
       "      <th>2</th>\n",
       "      <td>2018-04-27</td>\n",
       "      <td>59567</td>\n",
       "      <td>174.04</td>\n",
       "      <td>3</td>\n",
       "    </tr>\n",
       "    <tr>\n",
       "      <th>3</th>\n",
       "      <td>2018-04-30</td>\n",
       "      <td>59567</td>\n",
       "      <td>NaN</td>\n",
       "      <td>1</td>\n",
       "    </tr>\n",
       "    <tr>\n",
       "      <th>4</th>\n",
       "      <td>2018-05-03</td>\n",
       "      <td>59567</td>\n",
       "      <td>176.38</td>\n",
       "      <td>2</td>\n",
       "    </tr>\n",
       "    <tr>\n",
       "      <th>...</th>\n",
       "      <td>...</td>\n",
       "      <td>...</td>\n",
       "      <td>...</td>\n",
       "      <td>...</td>\n",
       "    </tr>\n",
       "    <tr>\n",
       "      <th>254</th>\n",
       "      <td>2019-12-23</td>\n",
       "      <td>82947</td>\n",
       "      <td>NaN</td>\n",
       "      <td>1</td>\n",
       "    </tr>\n",
       "    <tr>\n",
       "      <th>255</th>\n",
       "      <td>2019-12-24</td>\n",
       "      <td>82947</td>\n",
       "      <td>195.46</td>\n",
       "      <td>2</td>\n",
       "    </tr>\n",
       "    <tr>\n",
       "      <th>256</th>\n",
       "      <td>2019-12-25</td>\n",
       "      <td>82947</td>\n",
       "      <td>195.21</td>\n",
       "      <td>1</td>\n",
       "    </tr>\n",
       "    <tr>\n",
       "      <th>257</th>\n",
       "      <td>2019-12-26</td>\n",
       "      <td>82947</td>\n",
       "      <td>193.79</td>\n",
       "      <td>1</td>\n",
       "    </tr>\n",
       "    <tr>\n",
       "      <th>258</th>\n",
       "      <td>2019-12-28</td>\n",
       "      <td>82947</td>\n",
       "      <td>194.78</td>\n",
       "      <td>1</td>\n",
       "    </tr>\n",
       "  </tbody>\n",
       "</table>\n",
       "<p>259 rows × 4 columns</p>\n",
       "</div>"
      ],
      "text/plain": [
       "          dates    SKU  price_per_sku  num_purchases\n",
       "0    2018-04-20  59567         169.19              3\n",
       "1    2018-04-24  59567         171.71              3\n",
       "2    2018-04-27  59567         174.04              3\n",
       "3    2018-04-30  59567            NaN              1\n",
       "4    2018-05-03  59567         176.38              2\n",
       "..          ...    ...            ...            ...\n",
       "254  2019-12-23  82947            NaN              1\n",
       "255  2019-12-24  82947         195.46              2\n",
       "256  2019-12-25  82947         195.21              1\n",
       "257  2019-12-26  82947         193.79              1\n",
       "258  2019-12-28  82947         194.78              1\n",
       "\n",
       "[259 rows x 4 columns]"
      ]
     },
     "execution_count": 5,
     "metadata": {},
     "output_type": "execute_result"
    }
   ],
   "source": [
    "ZX_df"
   ]
  },
  {
   "cell_type": "code",
   "execution_count": 6,
   "metadata": {},
   "outputs": [
    {
     "data": {
      "text/plain": [
       "59567    156\n",
       "82947    103\n",
       "Name: SKU, dtype: int64"
      ]
     },
     "execution_count": 6,
     "metadata": {},
     "output_type": "execute_result"
    }
   ],
   "source": [
    "ZX_df.SKU.value_counts()"
   ]
  },
  {
   "cell_type": "code",
   "execution_count": 7,
   "metadata": {},
   "outputs": [],
   "source": [
    "ZX_df['dates'] = pd.to_datetime(ZX_df.dates)"
   ]
  },
  {
   "cell_type": "code",
   "execution_count": 8,
   "metadata": {},
   "outputs": [],
   "source": [
    "ZX_df['price_per_sku'] = ZX_df.groupby('SKU').price_per_sku.ffill()"
   ]
  },
  {
   "cell_type": "code",
   "execution_count": 9,
   "metadata": {},
   "outputs": [],
   "source": [
    "pivot_t = ZX_df.pivot_table(index='dates', columns='SKU', values='price_per_sku')"
   ]
  },
  {
   "cell_type": "code",
   "execution_count": 10,
   "metadata": {},
   "outputs": [
    {
     "data": {
      "text/html": [
       "<div>\n",
       "<style scoped>\n",
       "    .dataframe tbody tr th:only-of-type {\n",
       "        vertical-align: middle;\n",
       "    }\n",
       "\n",
       "    .dataframe tbody tr th {\n",
       "        vertical-align: top;\n",
       "    }\n",
       "\n",
       "    .dataframe thead th {\n",
       "        text-align: right;\n",
       "    }\n",
       "</style>\n",
       "<table border=\"1\" class=\"dataframe\">\n",
       "  <thead>\n",
       "    <tr style=\"text-align: right;\">\n",
       "      <th>SKU</th>\n",
       "      <th>59567</th>\n",
       "      <th>82947</th>\n",
       "    </tr>\n",
       "    <tr>\n",
       "      <th>dates</th>\n",
       "      <th></th>\n",
       "      <th></th>\n",
       "    </tr>\n",
       "  </thead>\n",
       "  <tbody>\n",
       "    <tr>\n",
       "      <th>2018-04-20</th>\n",
       "      <td>169.19</td>\n",
       "      <td>NaN</td>\n",
       "    </tr>\n",
       "    <tr>\n",
       "      <th>2018-04-24</th>\n",
       "      <td>171.71</td>\n",
       "      <td>NaN</td>\n",
       "    </tr>\n",
       "    <tr>\n",
       "      <th>2018-04-27</th>\n",
       "      <td>174.04</td>\n",
       "      <td>NaN</td>\n",
       "    </tr>\n",
       "    <tr>\n",
       "      <th>2018-04-30</th>\n",
       "      <td>174.04</td>\n",
       "      <td>NaN</td>\n",
       "    </tr>\n",
       "    <tr>\n",
       "      <th>2018-05-03</th>\n",
       "      <td>176.38</td>\n",
       "      <td>NaN</td>\n",
       "    </tr>\n",
       "  </tbody>\n",
       "</table>\n",
       "</div>"
      ],
      "text/plain": [
       "SKU          59567  82947\n",
       "dates                    \n",
       "2018-04-20  169.19    NaN\n",
       "2018-04-24  171.71    NaN\n",
       "2018-04-27  174.04    NaN\n",
       "2018-04-30  174.04    NaN\n",
       "2018-05-03  176.38    NaN"
      ]
     },
     "execution_count": 10,
     "metadata": {},
     "output_type": "execute_result"
    }
   ],
   "source": [
    "pivot_t.head()"
   ]
  },
  {
   "cell_type": "code",
   "execution_count": 11,
   "metadata": {},
   "outputs": [
    {
     "data": {
      "text/plain": [
       "<AxesSubplot:xlabel='dates'>"
      ]
     },
     "execution_count": 11,
     "metadata": {},
     "output_type": "execute_result"
    },
    {
     "data": {
      "image/png": "[encoded data removed]",
      "text/plain": [
       "<Figure size 864x576 with 1 Axes>"
      ]
     },
     "metadata": {
      "needs_background": "light"
     },
     "output_type": "display_data"
    }
   ],
   "source": [
    "plt.figure(figsize = (12,8))\n",
    "sns.lineplot(data = pivot_t)"
   ]
  },
  {
   "cell_type": "code",
   "execution_count": 12,
   "metadata": {},
   "outputs": [],
   "source": [
    "df_59567 = ZX_df[ZX_df.SKU == 59567]"
   ]
  },
  {
   "cell_type": "code",
   "execution_count": 41,
   "metadata": {},
   "outputs": [
    {
     "data": {
      "text/plain": [
       "count                     156\n",
       "unique                    156\n",
       "top       2018-04-20 00:00:00\n",
       "freq                        1\n",
       "first     2018-04-20 00:00:00\n",
       "last      2019-04-21 00:00:00\n",
       "Name: dates, dtype: object"
      ]
     },
     "execution_count": 41,
     "metadata": {},
     "output_type": "execute_result"
    }
   ],
   "source": [
    "df_59567.dates.describe()"
   ]
  },
  {
   "cell_type": "code",
   "execution_count": 14,
   "metadata": {},
   "outputs": [],
   "source": [
    "train_df = df_59567[df_59567.dates <= pd.to_datetime('2019-04-01')]\n",
    "test_df = df_59567[df_59567.dates > pd.to_datetime('2019-04-01')]"
   ]
  },
  {
   "cell_type": "code",
   "execution_count": 15,
   "metadata": {},
   "outputs": [
    {
     "data": {
      "text/plain": [
       "(145, 4)"
      ]
     },
     "execution_count": 15,
     "metadata": {},
     "output_type": "execute_result"
    }
   ],
   "source": [
    "train_df.shape"
   ]
  },
  {
   "cell_type": "code",
   "execution_count": 16,
   "metadata": {},
   "outputs": [
    {
     "data": {
      "text/plain": [
       "(11, 4)"
      ]
     },
     "execution_count": 16,
     "metadata": {},
     "output_type": "execute_result"
    }
   ],
   "source": [
    "test_df.shape"
   ]
  },
  {
   "cell_type": "code",
   "execution_count": 17,
   "metadata": {},
   "outputs": [
    {
     "data": {
      "text/html": [
       "<div>\n",
       "<style scoped>\n",
       "    .dataframe tbody tr th:only-of-type {\n",
       "        vertical-align: middle;\n",
       "    }\n",
       "\n",
       "    .dataframe tbody tr th {\n",
       "        vertical-align: top;\n",
       "    }\n",
       "\n",
       "    .dataframe thead th {\n",
       "        text-align: right;\n",
       "    }\n",
       "</style>\n",
       "<table border=\"1\" class=\"dataframe\">\n",
       "  <thead>\n",
       "    <tr style=\"text-align: right;\">\n",
       "      <th></th>\n",
       "      <th>dates</th>\n",
       "      <th>SKU</th>\n",
       "      <th>price_per_sku</th>\n",
       "      <th>num_purchases</th>\n",
       "    </tr>\n",
       "  </thead>\n",
       "  <tbody>\n",
       "    <tr>\n",
       "      <th>0</th>\n",
       "      <td>2018-04-20</td>\n",
       "      <td>59567</td>\n",
       "      <td>169.19</td>\n",
       "      <td>3</td>\n",
       "    </tr>\n",
       "    <tr>\n",
       "      <th>1</th>\n",
       "      <td>2018-04-24</td>\n",
       "      <td>59567</td>\n",
       "      <td>171.71</td>\n",
       "      <td>3</td>\n",
       "    </tr>\n",
       "    <tr>\n",
       "      <th>2</th>\n",
       "      <td>2018-04-27</td>\n",
       "      <td>59567</td>\n",
       "      <td>174.04</td>\n",
       "      <td>3</td>\n",
       "    </tr>\n",
       "    <tr>\n",
       "      <th>3</th>\n",
       "      <td>2018-04-30</td>\n",
       "      <td>59567</td>\n",
       "      <td>174.04</td>\n",
       "      <td>1</td>\n",
       "    </tr>\n",
       "    <tr>\n",
       "      <th>4</th>\n",
       "      <td>2018-05-03</td>\n",
       "      <td>59567</td>\n",
       "      <td>176.38</td>\n",
       "      <td>2</td>\n",
       "    </tr>\n",
       "    <tr>\n",
       "      <th>...</th>\n",
       "      <td>...</td>\n",
       "      <td>...</td>\n",
       "      <td>...</td>\n",
       "      <td>...</td>\n",
       "    </tr>\n",
       "    <tr>\n",
       "      <th>184</th>\n",
       "      <td>2019-03-23</td>\n",
       "      <td>59567</td>\n",
       "      <td>177.28</td>\n",
       "      <td>3</td>\n",
       "    </tr>\n",
       "    <tr>\n",
       "      <th>185</th>\n",
       "      <td>2019-03-24</td>\n",
       "      <td>59567</td>\n",
       "      <td>177.28</td>\n",
       "      <td>1</td>\n",
       "    </tr>\n",
       "    <tr>\n",
       "      <th>188</th>\n",
       "      <td>2019-03-29</td>\n",
       "      <td>59567</td>\n",
       "      <td>180.15</td>\n",
       "      <td>1</td>\n",
       "    </tr>\n",
       "    <tr>\n",
       "      <th>189</th>\n",
       "      <td>2019-03-30</td>\n",
       "      <td>59567</td>\n",
       "      <td>179.96</td>\n",
       "      <td>1</td>\n",
       "    </tr>\n",
       "    <tr>\n",
       "      <th>190</th>\n",
       "      <td>2019-03-31</td>\n",
       "      <td>59567</td>\n",
       "      <td>179.96</td>\n",
       "      <td>1</td>\n",
       "    </tr>\n",
       "  </tbody>\n",
       "</table>\n",
       "<p>145 rows × 4 columns</p>\n",
       "</div>"
      ],
      "text/plain": [
       "         dates    SKU  price_per_sku  num_purchases\n",
       "0   2018-04-20  59567         169.19              3\n",
       "1   2018-04-24  59567         171.71              3\n",
       "2   2018-04-27  59567         174.04              3\n",
       "3   2018-04-30  59567         174.04              1\n",
       "4   2018-05-03  59567         176.38              2\n",
       "..         ...    ...            ...            ...\n",
       "184 2019-03-23  59567         177.28              3\n",
       "185 2019-03-24  59567         177.28              1\n",
       "188 2019-03-29  59567         180.15              1\n",
       "189 2019-03-30  59567         179.96              1\n",
       "190 2019-03-31  59567         179.96              1\n",
       "\n",
       "[145 rows x 4 columns]"
      ]
     },
     "execution_count": 17,
     "metadata": {},
     "output_type": "execute_result"
    }
   ],
   "source": [
    "train_df"
   ]
  },
  {
   "cell_type": "code",
   "execution_count": 18,
   "metadata": {},
   "outputs": [],
   "source": [
    "# Autoregressive Integrated Moving Average with boundaries\n",
    "import statsmodels.api as sm\n",
    "from statsmodels.tsa.arima.model import ARIMA\n",
    "from statsmodels.tsa.stattools import adfuller, arma_order_select_ic"
   ]
  },
  {
   "cell_type": "code",
   "execution_count": 51,
   "metadata": {},
   "outputs": [
    {
     "data": {
      "image/png": "[encoded data removed]",
      "text/plain": [
       "<Figure size 864x576 with 1 Axes>"
      ]
     },
     "metadata": {
      "needs_background": "light"
     },
     "output_type": "display_data"
    }
   ],
   "source": [
    "plt.figure(figsize=(12,8))\n",
    "var = train_df.price_per_sku.values\n",
    "autocorrelation_plot(var)\n",
    "plt.show()"
   ]
  },
  {
   "cell_type": "markdown",
   "metadata": {},
   "source": [
    "## Augmented Dickey-Fuller test"
   ]
  },
  {
   "cell_type": "code",
   "execution_count": 32,
   "metadata": {},
   "outputs": [],
   "source": [
    "var = train_df.price_per_sku.values\n",
    "result = adfuller(var, maxlag=None, regression='ctt', autolag='AIC', store=False, regresults=False)"
   ]
  },
  {
   "cell_type": "code",
   "execution_count": 33,
   "metadata": {},
   "outputs": [
    {
     "name": "stdout",
     "output_type": "stream",
     "text": [
      "ADF Statistic: -2.912960\n",
      "p-value: 0.338259\n",
      "Critical Values:\n",
      "\t1%: -4.453\n",
      "\t5%: -3.874\n",
      "\t10%: -3.579\n"
     ]
    }
   ],
   "source": [
    "print('ADF Statistic: %f' % result[0])\n",
    "print('p-value: %f' % result[1])\n",
    "print('Critical Values:')\n",
    "for key, value in result[4].items():\n",
    "    print('\\t%s: %.3f' % (key, value))"
   ]
  },
  {
   "cell_type": "code",
   "execution_count": 43,
   "metadata": {},
   "outputs": [],
   "source": [
    "res = arma_order_select_ic(train_df.price_per_sku.values, ic=['aic']) "
   ]
  },
  {
   "cell_type": "code",
   "execution_count": 44,
   "metadata": {},
   "outputs": [
    {
     "data": {
      "text/plain": [
       "{'aic':             0           1           2\n",
       " 0  917.232450  775.890310  700.420286\n",
       " 1  577.805268  579.226805  581.043851\n",
       " 2  579.198726  581.193186  582.463779\n",
       " 3  581.172872  582.801319  577.879479\n",
       " 4  581.079485  583.079362  579.879316,\n",
       " 'aic_min_order': (1, 0)}"
      ]
     },
     "execution_count": 44,
     "metadata": {},
     "output_type": "execute_result"
    }
   ],
   "source": [
    "res"
   ]
  },
  {
   "cell_type": "code",
   "execution_count": 45,
   "metadata": {
    "scrolled": true
   },
   "outputs": [
    {
     "name": "stderr",
     "output_type": "stream",
     "text": [
      "/home/sbc_dev/.local/lib/python3.7/site-packages/statsmodels/tsa/statespace/sarimax.py:966: UserWarning: Non-stationary starting autoregressive parameters found. Using zeros as starting parameters.\n",
      "  warn('Non-stationary starting autoregressive parameters'\n",
      "/home/sbc_dev/.local/lib/python3.7/site-packages/statsmodels/tsa/statespace/sarimax.py:978: UserWarning: Non-invertible starting MA parameters found. Using zeros as starting parameters.\n",
      "  warn('Non-invertible starting MA parameters found.'\n"
     ]
    },
    {
     "name": "stdout",
     "output_type": "stream",
     "text": [
      "                               SARIMAX Results                                \n",
      "==============================================================================\n",
      "Dep. Variable:                      y   No. Observations:                  145\n",
      "Model:               ARIMA(30, 1, 20)   Log Likelihood                -257.394\n",
      "Date:                Sun, 29 Aug 2021   AIC                            616.787\n",
      "Time:                        00:43:13   BIC                            768.248\n",
      "Sample:                             0   HQIC                           678.332\n",
      "                                - 145                                         \n",
      "Covariance Type:                  opg                                         \n",
      "==============================================================================\n",
      "                 coef    std err          z      P>|z|      [0.025      0.975]\n",
      "------------------------------------------------------------------------------\n",
      "ar.L1         -0.0892     65.754     -0.001      0.999    -128.964     128.786\n",
      "ar.L2          0.1804     14.894      0.012      0.990     -29.012      29.373\n",
      "ar.L3         -0.2400      6.923     -0.035      0.972     -13.809      13.329\n",
      "ar.L4         -0.1178     19.543     -0.006      0.995     -38.422      38.186\n",
      "ar.L5          0.0999      2.502      0.040      0.968      -4.804       5.004\n",
      "ar.L6          0.2089      7.026      0.030      0.976     -13.563      13.980\n",
      "ar.L7          0.3134     10.672      0.029      0.977     -20.602      21.229\n",
      "ar.L8          0.2297     17.040      0.013      0.989     -33.169      33.628\n",
      "ar.L9         -0.3757      9.613     -0.039      0.969     -19.216      18.465\n",
      "ar.L10        -0.2443     27.409     -0.009      0.993     -53.966      53.477\n",
      "ar.L11         0.2449      6.781      0.036      0.971     -13.045      13.534\n",
      "ar.L12         0.1031     18.566      0.006      0.996     -36.285      36.492\n",
      "ar.L13         0.0526      0.812      0.065      0.948      -1.540       1.645\n",
      "ar.L14         0.1520      3.205      0.047      0.962      -6.130       6.434\n",
      "ar.L15        -0.1518      9.483     -0.016      0.987     -18.737      18.434\n",
      "ar.L16         0.3436     12.732      0.027      0.978     -24.611      25.298\n",
      "ar.L17         0.2566     26.924      0.010      0.992     -52.514      53.028\n",
      "ar.L18        -0.2336      8.854     -0.026      0.979     -17.587      17.120\n",
      "ar.L19        -0.2084     18.003     -0.012      0.991     -35.495      35.078\n",
      "ar.L20        -0.0277      7.345     -0.004      0.997     -14.424      14.369\n",
      "ar.L21         0.0882      1.208      0.073      0.942      -2.280       2.457\n",
      "ar.L22        -0.0825      5.066     -0.016      0.987     -10.011       9.846\n",
      "ar.L23         0.0343      7.200      0.005      0.996     -14.078      14.146\n",
      "ar.L24         0.2263      4.485      0.050      0.960      -8.565       9.017\n",
      "ar.L25         0.0006     13.593   4.52e-05      1.000     -26.642      26.643\n",
      "ar.L26        -0.0184      4.391     -0.004      0.997      -8.624       8.587\n",
      "ar.L27         0.0850      0.505      0.168      0.866      -0.904       1.074\n",
      "ar.L28         0.0768      5.837      0.013      0.990     -11.364      11.518\n",
      "ar.L29        -0.1529      3.300     -0.046      0.963      -6.621       6.315\n",
      "ar.L30        -0.0555     10.939     -0.005      0.996     -21.496      21.385\n",
      "ma.L1          0.1978     65.005      0.003      0.998    -127.210     127.606\n",
      "ma.L2         -0.1221      9.403     -0.013      0.990     -18.552      18.307\n",
      "ma.L3         -0.0259      5.691     -0.005      0.996     -11.181      11.129\n",
      "ma.L4          0.1183      3.070      0.039      0.969      -5.899       6.136\n",
      "ma.L5         -0.0054      8.869     -0.001      1.000     -17.388      17.377\n",
      "ma.L6         -0.1807      4.908     -0.037      0.971      -9.799       9.438\n",
      "ma.L7         -0.4054     11.340     -0.036      0.971     -22.632      21.821\n",
      "ma.L8         -0.2489     23.118     -0.011      0.991     -45.560      45.062\n",
      "ma.L9          0.5368     10.402      0.052      0.959     -19.850      20.924\n",
      "ma.L10         0.4201     38.168      0.011      0.991     -74.388      75.228\n",
      "ma.L11         0.0839     15.014      0.006      0.996     -29.342      29.510\n",
      "ma.L12        -0.3727      4.204     -0.089      0.929      -8.613       7.867\n",
      "ma.L13        -0.1804     25.103     -0.007      0.994     -49.381      49.020\n",
      "ma.L14        -0.3356      6.528     -0.051      0.959     -13.131      12.459\n",
      "ma.L15         0.1334     21.899      0.006      0.995     -42.788      43.055\n",
      "ma.L16        -0.4070     14.912     -0.027      0.978     -29.634      28.820\n",
      "ma.L17        -0.6687     32.230     -0.021      0.983     -63.838      62.500\n",
      "ma.L18         0.1969     34.160      0.006      0.995     -66.755      67.148\n",
      "ma.L19         0.2895     23.646      0.012      0.990     -46.056      46.635\n",
      "ma.L20         0.0746     10.767      0.007      0.994     -21.029      21.178\n",
      "sigma2         1.7110      8.415      0.203      0.839     -14.783      18.205\n",
      "===================================================================================\n",
      "Ljung-Box (L1) (Q):                   0.00   Jarque-Bera (JB):                26.88\n",
      "Prob(Q):                              0.96   Prob(JB):                         0.00\n",
      "Heteroskedasticity (H):               0.61   Skew:                             0.13\n",
      "Prob(H) (two-sided):                  0.09   Kurtosis:                         5.10\n",
      "===================================================================================\n",
      "\n",
      "Warnings:\n",
      "[1] Covariance matrix calculated using the outer product of gradients (complex-step).\n"
     ]
    },
    {
     "data": {
      "text/plain": [
       "array([181.60592873, 180.9069684 , 179.83198248, 180.32974193,\n",
       "       177.90387395, 178.24060826, 177.18091273, 178.18648531,\n",
       "       180.57085109, 178.67229804, 179.84137669])"
      ]
     },
     "execution_count": 45,
     "metadata": {},
     "output_type": "execute_result"
    }
   ],
   "source": [
    "# log_returns = np.log(train_df.price_per_sku.values/train_df.price_per_sku.shift(1).values)[1:]\n",
    "ARIMA_ = ARIMA(train_df.price_per_sku.values, order=(30,1,20))\n",
    "# ARIMA_ = ARIMA(log_returns, order=(20,1,20))\n",
    "ARIMA_model = ARIMA_.fit() #start_ar_lags = 1\n",
    "print(ARIMA_model.summary())\n",
    "ARIMA_model.predict(start = len(train_df), end = len(train_df) + len(test_df)-1)"
   ]
  },
  {
   "cell_type": "code",
   "execution_count": 46,
   "metadata": {
    "scrolled": true
   },
   "outputs": [],
   "source": [
    "test_df['ARIMA_low_boundary'] = ARIMA_model.get_forecast(11).conf_int(0.05)[:,0]\n",
    "test_df['ARIMA_high_boundary'] = ARIMA_model.get_forecast(11).conf_int(0.05)[:,1]\n",
    "test_df['ARIMA_model_prediction'] = ARIMA_model.predict(start =len(train_df), end= len(train_df) + len(test_df)-1)"
   ]
  },
  {
   "cell_type": "code",
   "execution_count": 28,
   "metadata": {},
   "outputs": [
    {
     "data": {
      "text/plain": [
       "Index(['dates', 'SKU', 'price_per_sku', 'num_purchases', 'ARIMA_low_boundary',\n",
       "       'ARIMA_high_boundary', 'ARIMA_model_prediction'],\n",
       "      dtype='object')"
      ]
     },
     "execution_count": 28,
     "metadata": {},
     "output_type": "execute_result"
    }
   ],
   "source": [
    "test_df.columns"
   ]
  },
  {
   "cell_type": "code",
   "execution_count": 46,
   "metadata": {},
   "outputs": [
    {
     "data": {
      "text/html": [
       "<div>\n",
       "<style scoped>\n",
       "    .dataframe tbody tr th:only-of-type {\n",
       "        vertical-align: middle;\n",
       "    }\n",
       "\n",
       "    .dataframe tbody tr th {\n",
       "        vertical-align: top;\n",
       "    }\n",
       "\n",
       "    .dataframe thead th {\n",
       "        text-align: right;\n",
       "    }\n",
       "</style>\n",
       "<table border=\"1\" class=\"dataframe\">\n",
       "  <thead>\n",
       "    <tr style=\"text-align: right;\">\n",
       "      <th></th>\n",
       "      <th>dates</th>\n",
       "      <th>SKU</th>\n",
       "      <th>price_per_sku</th>\n",
       "      <th>num_purchases</th>\n",
       "      <th>ARIMA_low_boundary</th>\n",
       "      <th>ARIMA_high_boundary</th>\n",
       "      <th>ARIMA_model_prediction</th>\n",
       "    </tr>\n",
       "  </thead>\n",
       "  <tbody>\n",
       "    <tr>\n",
       "      <th>192</th>\n",
       "      <td>2019-04-02</td>\n",
       "      <td>59567</td>\n",
       "      <td>181.86</td>\n",
       "      <td>2</td>\n",
       "      <td>178.973010</td>\n",
       "      <td>184.238847</td>\n",
       "      <td>181.605929</td>\n",
       "    </tr>\n",
       "    <tr>\n",
       "      <th>194</th>\n",
       "      <td>2019-04-06</td>\n",
       "      <td>59567</td>\n",
       "      <td>181.83</td>\n",
       "      <td>2</td>\n",
       "      <td>176.976797</td>\n",
       "      <td>184.837140</td>\n",
       "      <td>180.906968</td>\n",
       "    </tr>\n",
       "    <tr>\n",
       "      <th>195</th>\n",
       "      <td>2019-04-08</td>\n",
       "      <td>59567</td>\n",
       "      <td>181.83</td>\n",
       "      <td>1</td>\n",
       "      <td>174.875495</td>\n",
       "      <td>184.788470</td>\n",
       "      <td>179.831982</td>\n",
       "    </tr>\n",
       "    <tr>\n",
       "      <th>196</th>\n",
       "      <td>2019-04-09</td>\n",
       "      <td>59567</td>\n",
       "      <td>181.67</td>\n",
       "      <td>1</td>\n",
       "      <td>174.824065</td>\n",
       "      <td>185.835418</td>\n",
       "      <td>180.329742</td>\n",
       "    </tr>\n",
       "    <tr>\n",
       "      <th>197</th>\n",
       "      <td>2019-04-10</td>\n",
       "      <td>59567</td>\n",
       "      <td>180.08</td>\n",
       "      <td>2</td>\n",
       "      <td>171.890271</td>\n",
       "      <td>183.917477</td>\n",
       "      <td>177.903874</td>\n",
       "    </tr>\n",
       "    <tr>\n",
       "      <th>198</th>\n",
       "      <td>2019-04-11</td>\n",
       "      <td>59567</td>\n",
       "      <td>179.97</td>\n",
       "      <td>2</td>\n",
       "      <td>171.734533</td>\n",
       "      <td>184.746683</td>\n",
       "      <td>178.240608</td>\n",
       "    </tr>\n",
       "    <tr>\n",
       "      <th>199</th>\n",
       "      <td>2019-04-12</td>\n",
       "      <td>59567</td>\n",
       "      <td>179.03</td>\n",
       "      <td>1</td>\n",
       "      <td>170.149884</td>\n",
       "      <td>184.211942</td>\n",
       "      <td>177.180913</td>\n",
       "    </tr>\n",
       "    <tr>\n",
       "      <th>200</th>\n",
       "      <td>2019-04-13</td>\n",
       "      <td>59567</td>\n",
       "      <td>179.36</td>\n",
       "      <td>1</td>\n",
       "      <td>170.710634</td>\n",
       "      <td>185.662336</td>\n",
       "      <td>178.186485</td>\n",
       "    </tr>\n",
       "    <tr>\n",
       "      <th>202</th>\n",
       "      <td>2019-04-16</td>\n",
       "      <td>59567</td>\n",
       "      <td>178.61</td>\n",
       "      <td>2</td>\n",
       "      <td>172.664813</td>\n",
       "      <td>188.476889</td>\n",
       "      <td>180.570851</td>\n",
       "    </tr>\n",
       "    <tr>\n",
       "      <th>203</th>\n",
       "      <td>2019-04-18</td>\n",
       "      <td>59567</td>\n",
       "      <td>177.77</td>\n",
       "      <td>1</td>\n",
       "      <td>170.267862</td>\n",
       "      <td>187.076734</td>\n",
       "      <td>178.672298</td>\n",
       "    </tr>\n",
       "    <tr>\n",
       "      <th>204</th>\n",
       "      <td>2019-04-21</td>\n",
       "      <td>59567</td>\n",
       "      <td>177.77</td>\n",
       "      <td>1</td>\n",
       "      <td>170.929329</td>\n",
       "      <td>188.753424</td>\n",
       "      <td>179.841377</td>\n",
       "    </tr>\n",
       "  </tbody>\n",
       "</table>\n",
       "</div>"
      ],
      "text/plain": [
       "         dates    SKU  price_per_sku  num_purchases  ARIMA_low_boundary  \\\n",
       "192 2019-04-02  59567         181.86              2          178.973010   \n",
       "194 2019-04-06  59567         181.83              2          176.976797   \n",
       "195 2019-04-08  59567         181.83              1          174.875495   \n",
       "196 2019-04-09  59567         181.67              1          174.824065   \n",
       "197 2019-04-10  59567         180.08              2          171.890271   \n",
       "198 2019-04-11  59567         179.97              2          171.734533   \n",
       "199 2019-04-12  59567         179.03              1          170.149884   \n",
       "200 2019-04-13  59567         179.36              1          170.710634   \n",
       "202 2019-04-16  59567         178.61              2          172.664813   \n",
       "203 2019-04-18  59567         177.77              1          170.267862   \n",
       "204 2019-04-21  59567         177.77              1          170.929329   \n",
       "\n",
       "     ARIMA_high_boundary  ARIMA_model_prediction  \n",
       "192           184.238847              181.605929  \n",
       "194           184.837140              180.906968  \n",
       "195           184.788470              179.831982  \n",
       "196           185.835418              180.329742  \n",
       "197           183.917477              177.903874  \n",
       "198           184.746683              178.240608  \n",
       "199           184.211942              177.180913  \n",
       "200           185.662336              178.186485  \n",
       "202           188.476889              180.570851  \n",
       "203           187.076734              178.672298  \n",
       "204           188.753424              179.841377  "
      ]
     },
     "execution_count": 46,
     "metadata": {},
     "output_type": "execute_result"
    }
   ],
   "source": [
    "test_df"
   ]
  },
  {
   "cell_type": "code",
   "execution_count": 47,
   "metadata": {},
   "outputs": [],
   "source": [
    "col_list = ['dates','ARIMA_model_prediction', 'ARIMA_low_boundary', 'ARIMA_high_boundary', 'price_per_sku']"
   ]
  },
  {
   "cell_type": "code",
   "execution_count": 48,
   "metadata": {},
   "outputs": [
    {
     "data": {
      "text/plain": [
       "<AxesSubplot:xlabel='dates'>"
      ]
     },
     "execution_count": 48,
     "metadata": {},
     "output_type": "execute_result"
    },
    {
     "data": {
      "image/png": "[encoded data removed]",
      "text/plain": [
       "<Figure size 864x576 with 1 Axes>"
      ]
     },
     "metadata": {
      "needs_background": "light"
     },
     "output_type": "display_data"
    }
   ],
   "source": [
    "plt.figure(figsize=(12,8))\n",
    "sns.lineplot(data=test_df[col_list].set_index('dates'), dashes=False,linewidth = 3)"
   ]
  },
  {
   "cell_type": "markdown",
   "metadata": {},
   "source": [
    "## FBProphet"
   ]
  },
  {
   "cell_type": "code",
   "execution_count": 48,
   "metadata": {},
   "outputs": [],
   "source": [
    "from fbprophet import Prophet"
   ]
  },
  {
   "cell_type": "code",
   "execution_count": 49,
   "metadata": {},
   "outputs": [],
   "source": [
    "prophet = Prophet()"
   ]
  },
  {
   "cell_type": "code",
   "execution_count": 50,
   "metadata": {},
   "outputs": [
    {
     "name": "stderr",
     "output_type": "stream",
     "text": [
      "INFO:fbprophet:Disabling yearly seasonality. Run prophet with yearly_seasonality=True to override this.\n",
      "INFO:fbprophet:Disabling daily seasonality. Run prophet with daily_seasonality=True to override this.\n"
     ]
    },
    {
     "name": "stdout",
     "output_type": "stream",
     "text": [
      "Initial log joint probability = -2.15416\n",
      "    Iter      log prob        ||dx||      ||grad||       alpha      alpha0  # evals  Notes \n"
     ]
    },
    {
     "data": {
      "text/plain": [
       "<fbprophet.forecaster.Prophet at 0x7f3e12e8d850>"
      ]
     },
     "execution_count": 50,
     "metadata": {},
     "output_type": "execute_result"
    },
    {
     "name": "stdout",
     "output_type": "stream",
     "text": [
      "      99       531.997    0.00423473       211.506           1           1      119   \n",
      "    Iter      log prob        ||dx||      ||grad||       alpha      alpha0  # evals  Notes \n",
      "     131        535.48    9.7849e-05        131.06   3.612e-07       0.001      194  LS failed, Hessian reset \n",
      "     199       537.968   0.000169799       69.2556      0.9723      0.9723      286   \n",
      "    Iter      log prob        ||dx||      ||grad||       alpha      alpha0  # evals  Notes \n",
      "     299       540.745   0.000220847       94.5011      0.4484      0.4484      414   \n",
      "    Iter      log prob        ||dx||      ||grad||       alpha      alpha0  # evals  Notes \n",
      "     374       542.274   0.000224521       94.0009   2.316e-06       0.001      541  LS failed, Hessian reset \n",
      "     399       542.293   0.000112619       79.1137      0.3545           1      569   \n",
      "    Iter      log prob        ||dx||      ||grad||       alpha      alpha0  # evals  Notes \n",
      "     499       542.781   5.59094e-05       65.3726      0.8439      0.8439      688   \n",
      "    Iter      log prob        ||dx||      ||grad||       alpha      alpha0  # evals  Notes \n",
      "     561       543.407   6.92467e-05       102.069   2.814e-07       0.001      863  LS failed, Hessian reset \n",
      "     599       543.549   0.000958226       97.8988      0.7016      0.7016      910   \n",
      "    Iter      log prob        ||dx||      ||grad||       alpha      alpha0  # evals  Notes \n",
      "     647       543.612   2.71778e-06       64.7509   4.842e-08       0.001     1025  LS failed, Hessian reset \n",
      "     699       543.619   3.92163e-08        62.784      0.3585      0.3585     1092   \n",
      "    Iter      log prob        ||dx||      ||grad||       alpha      alpha0  # evals  Notes \n",
      "     706       543.619   6.88321e-09       64.3602     0.07383           1     1105   \n",
      "Optimization terminated normally: \n",
      "  Convergence detected: absolute parameter change was below tolerance\n"
     ]
    }
   ],
   "source": [
    "prophet.fit(train_df[['dates', 'price_per_sku']].rename(columns={'dates':'ds','price_per_sku':'y'}))"
   ]
  },
  {
   "cell_type": "code",
   "execution_count": 23,
   "metadata": {},
   "outputs": [],
   "source": [
    "pred_df = prophet.predict(test_df[['dates']].rename(columns={'dates':'ds'}))"
   ]
  },
  {
   "cell_type": "code",
   "execution_count": 24,
   "metadata": {},
   "outputs": [
    {
     "data": {
      "text/html": [
       "<div>\n",
       "<style scoped>\n",
       "    .dataframe tbody tr th:only-of-type {\n",
       "        vertical-align: middle;\n",
       "    }\n",
       "\n",
       "    .dataframe tbody tr th {\n",
       "        vertical-align: top;\n",
       "    }\n",
       "\n",
       "    .dataframe thead th {\n",
       "        text-align: right;\n",
       "    }\n",
       "</style>\n",
       "<table border=\"1\" class=\"dataframe\">\n",
       "  <thead>\n",
       "    <tr style=\"text-align: right;\">\n",
       "      <th></th>\n",
       "      <th>ds</th>\n",
       "      <th>trend</th>\n",
       "      <th>yhat_lower</th>\n",
       "      <th>yhat_upper</th>\n",
       "      <th>trend_lower</th>\n",
       "      <th>trend_upper</th>\n",
       "      <th>additive_terms</th>\n",
       "      <th>additive_terms_lower</th>\n",
       "      <th>additive_terms_upper</th>\n",
       "      <th>weekly</th>\n",
       "      <th>weekly_lower</th>\n",
       "      <th>weekly_upper</th>\n",
       "      <th>multiplicative_terms</th>\n",
       "      <th>multiplicative_terms_lower</th>\n",
       "      <th>multiplicative_terms_upper</th>\n",
       "      <th>yhat</th>\n",
       "    </tr>\n",
       "  </thead>\n",
       "  <tbody>\n",
       "    <tr>\n",
       "      <th>0</th>\n",
       "      <td>2019-04-02</td>\n",
       "      <td>178.686707</td>\n",
       "      <td>176.408341</td>\n",
       "      <td>181.627181</td>\n",
       "      <td>178.686707</td>\n",
       "      <td>178.686707</td>\n",
       "      <td>0.351620</td>\n",
       "      <td>0.351620</td>\n",
       "      <td>0.351620</td>\n",
       "      <td>0.351620</td>\n",
       "      <td>0.351620</td>\n",
       "      <td>0.351620</td>\n",
       "      <td>0.0</td>\n",
       "      <td>0.0</td>\n",
       "      <td>0.0</td>\n",
       "      <td>179.038326</td>\n",
       "    </tr>\n",
       "    <tr>\n",
       "      <th>1</th>\n",
       "      <td>2019-04-06</td>\n",
       "      <td>178.303979</td>\n",
       "      <td>175.950307</td>\n",
       "      <td>180.909416</td>\n",
       "      <td>178.226584</td>\n",
       "      <td>178.377013</td>\n",
       "      <td>0.124485</td>\n",
       "      <td>0.124485</td>\n",
       "      <td>0.124485</td>\n",
       "      <td>0.124485</td>\n",
       "      <td>0.124485</td>\n",
       "      <td>0.124485</td>\n",
       "      <td>0.0</td>\n",
       "      <td>0.0</td>\n",
       "      <td>0.0</td>\n",
       "      <td>178.428464</td>\n",
       "    </tr>\n",
       "    <tr>\n",
       "      <th>2</th>\n",
       "      <td>2019-04-08</td>\n",
       "      <td>178.112615</td>\n",
       "      <td>175.221856</td>\n",
       "      <td>180.647649</td>\n",
       "      <td>177.945177</td>\n",
       "      <td>178.272952</td>\n",
       "      <td>-0.209808</td>\n",
       "      <td>-0.209808</td>\n",
       "      <td>-0.209808</td>\n",
       "      <td>-0.209808</td>\n",
       "      <td>-0.209808</td>\n",
       "      <td>-0.209808</td>\n",
       "      <td>0.0</td>\n",
       "      <td>0.0</td>\n",
       "      <td>0.0</td>\n",
       "      <td>177.902807</td>\n",
       "    </tr>\n",
       "    <tr>\n",
       "      <th>3</th>\n",
       "      <td>2019-04-09</td>\n",
       "      <td>178.016933</td>\n",
       "      <td>175.783509</td>\n",
       "      <td>180.808077</td>\n",
       "      <td>177.772950</td>\n",
       "      <td>178.221699</td>\n",
       "      <td>0.351620</td>\n",
       "      <td>0.351620</td>\n",
       "      <td>0.351620</td>\n",
       "      <td>0.351620</td>\n",
       "      <td>0.351620</td>\n",
       "      <td>0.351620</td>\n",
       "      <td>0.0</td>\n",
       "      <td>0.0</td>\n",
       "      <td>0.0</td>\n",
       "      <td>178.368553</td>\n",
       "    </tr>\n",
       "    <tr>\n",
       "      <th>4</th>\n",
       "      <td>2019-04-10</td>\n",
       "      <td>177.921251</td>\n",
       "      <td>174.911457</td>\n",
       "      <td>179.962913</td>\n",
       "      <td>177.601644</td>\n",
       "      <td>178.180565</td>\n",
       "      <td>-0.451874</td>\n",
       "      <td>-0.451874</td>\n",
       "      <td>-0.451874</td>\n",
       "      <td>-0.451874</td>\n",
       "      <td>-0.451874</td>\n",
       "      <td>-0.451874</td>\n",
       "      <td>0.0</td>\n",
       "      <td>0.0</td>\n",
       "      <td>0.0</td>\n",
       "      <td>177.469378</td>\n",
       "    </tr>\n",
       "    <tr>\n",
       "      <th>5</th>\n",
       "      <td>2019-04-11</td>\n",
       "      <td>177.825569</td>\n",
       "      <td>174.776469</td>\n",
       "      <td>179.938305</td>\n",
       "      <td>177.447177</td>\n",
       "      <td>178.139766</td>\n",
       "      <td>-0.401398</td>\n",
       "      <td>-0.401398</td>\n",
       "      <td>-0.401398</td>\n",
       "      <td>-0.401398</td>\n",
       "      <td>-0.401398</td>\n",
       "      <td>-0.401398</td>\n",
       "      <td>0.0</td>\n",
       "      <td>0.0</td>\n",
       "      <td>0.0</td>\n",
       "      <td>177.424171</td>\n",
       "    </tr>\n",
       "    <tr>\n",
       "      <th>6</th>\n",
       "      <td>2019-04-12</td>\n",
       "      <td>177.729887</td>\n",
       "      <td>175.842425</td>\n",
       "      <td>181.229733</td>\n",
       "      <td>177.289459</td>\n",
       "      <td>178.101420</td>\n",
       "      <td>0.803568</td>\n",
       "      <td>0.803568</td>\n",
       "      <td>0.803568</td>\n",
       "      <td>0.803568</td>\n",
       "      <td>0.803568</td>\n",
       "      <td>0.803568</td>\n",
       "      <td>0.0</td>\n",
       "      <td>0.0</td>\n",
       "      <td>0.0</td>\n",
       "      <td>178.533456</td>\n",
       "    </tr>\n",
       "    <tr>\n",
       "      <th>7</th>\n",
       "      <td>2019-04-13</td>\n",
       "      <td>177.634205</td>\n",
       "      <td>175.167864</td>\n",
       "      <td>180.669699</td>\n",
       "      <td>177.128199</td>\n",
       "      <td>178.063931</td>\n",
       "      <td>0.124485</td>\n",
       "      <td>0.124485</td>\n",
       "      <td>0.124485</td>\n",
       "      <td>0.124485</td>\n",
       "      <td>0.124485</td>\n",
       "      <td>0.124485</td>\n",
       "      <td>0.0</td>\n",
       "      <td>0.0</td>\n",
       "      <td>0.0</td>\n",
       "      <td>177.758690</td>\n",
       "    </tr>\n",
       "    <tr>\n",
       "      <th>8</th>\n",
       "      <td>2019-04-16</td>\n",
       "      <td>177.347159</td>\n",
       "      <td>174.757659</td>\n",
       "      <td>180.509830</td>\n",
       "      <td>176.637298</td>\n",
       "      <td>177.968152</td>\n",
       "      <td>0.351620</td>\n",
       "      <td>0.351620</td>\n",
       "      <td>0.351620</td>\n",
       "      <td>0.351620</td>\n",
       "      <td>0.351620</td>\n",
       "      <td>0.351620</td>\n",
       "      <td>0.0</td>\n",
       "      <td>0.0</td>\n",
       "      <td>0.0</td>\n",
       "      <td>177.698779</td>\n",
       "    </tr>\n",
       "    <tr>\n",
       "      <th>9</th>\n",
       "      <td>2019-04-18</td>\n",
       "      <td>177.155795</td>\n",
       "      <td>174.159630</td>\n",
       "      <td>179.495671</td>\n",
       "      <td>176.291989</td>\n",
       "      <td>177.912325</td>\n",
       "      <td>-0.401398</td>\n",
       "      <td>-0.401398</td>\n",
       "      <td>-0.401398</td>\n",
       "      <td>-0.401398</td>\n",
       "      <td>-0.401398</td>\n",
       "      <td>-0.401398</td>\n",
       "      <td>0.0</td>\n",
       "      <td>0.0</td>\n",
       "      <td>0.0</td>\n",
       "      <td>176.754397</td>\n",
       "    </tr>\n",
       "    <tr>\n",
       "      <th>10</th>\n",
       "      <td>2019-04-21</td>\n",
       "      <td>176.868750</td>\n",
       "      <td>173.686753</td>\n",
       "      <td>179.588993</td>\n",
       "      <td>175.728203</td>\n",
       "      <td>177.846400</td>\n",
       "      <td>-0.216594</td>\n",
       "      <td>-0.216594</td>\n",
       "      <td>-0.216594</td>\n",
       "      <td>-0.216594</td>\n",
       "      <td>-0.216594</td>\n",
       "      <td>-0.216594</td>\n",
       "      <td>0.0</td>\n",
       "      <td>0.0</td>\n",
       "      <td>0.0</td>\n",
       "      <td>176.652156</td>\n",
       "    </tr>\n",
       "  </tbody>\n",
       "</table>\n",
       "</div>"
      ],
      "text/plain": [
       "           ds       trend  yhat_lower  yhat_upper  trend_lower  trend_upper  \\\n",
       "0  2019-04-02  178.686707  176.408341  181.627181   178.686707   178.686707   \n",
       "1  2019-04-06  178.303979  175.950307  180.909416   178.226584   178.377013   \n",
       "2  2019-04-08  178.112615  175.221856  180.647649   177.945177   178.272952   \n",
       "3  2019-04-09  178.016933  175.783509  180.808077   177.772950   178.221699   \n",
       "4  2019-04-10  177.921251  174.911457  179.962913   177.601644   178.180565   \n",
       "5  2019-04-11  177.825569  174.776469  179.938305   177.447177   178.139766   \n",
       "6  2019-04-12  177.729887  175.842425  181.229733   177.289459   178.101420   \n",
       "7  2019-04-13  177.634205  175.167864  180.669699   177.128199   178.063931   \n",
       "8  2019-04-16  177.347159  174.757659  180.509830   176.637298   177.968152   \n",
       "9  2019-04-18  177.155795  174.159630  179.495671   176.291989   177.912325   \n",
       "10 2019-04-21  176.868750  173.686753  179.588993   175.728203   177.846400   \n",
       "\n",
       "    additive_terms  additive_terms_lower  additive_terms_upper    weekly  \\\n",
       "0         0.351620              0.351620              0.351620  0.351620   \n",
       "1         0.124485              0.124485              0.124485  0.124485   \n",
       "2        -0.209808             -0.209808             -0.209808 -0.209808   \n",
       "3         0.351620              0.351620              0.351620  0.351620   \n",
       "4        -0.451874             -0.451874             -0.451874 -0.451874   \n",
       "5        -0.401398             -0.401398             -0.401398 -0.401398   \n",
       "6         0.803568              0.803568              0.803568  0.803568   \n",
       "7         0.124485              0.124485              0.124485  0.124485   \n",
       "8         0.351620              0.351620              0.351620  0.351620   \n",
       "9        -0.401398             -0.401398             -0.401398 -0.401398   \n",
       "10       -0.216594             -0.216594             -0.216594 -0.216594   \n",
       "\n",
       "    weekly_lower  weekly_upper  multiplicative_terms  \\\n",
       "0       0.351620      0.351620                   0.0   \n",
       "1       0.124485      0.124485                   0.0   \n",
       "2      -0.209808     -0.209808                   0.0   \n",
       "3       0.351620      0.351620                   0.0   \n",
       "4      -0.451874     -0.451874                   0.0   \n",
       "5      -0.401398     -0.401398                   0.0   \n",
       "6       0.803568      0.803568                   0.0   \n",
       "7       0.124485      0.124485                   0.0   \n",
       "8       0.351620      0.351620                   0.0   \n",
       "9      -0.401398     -0.401398                   0.0   \n",
       "10     -0.216594     -0.216594                   0.0   \n",
       "\n",
       "    multiplicative_terms_lower  multiplicative_terms_upper        yhat  \n",
       "0                          0.0                         0.0  179.038326  \n",
       "1                          0.0                         0.0  178.428464  \n",
       "2                          0.0                         0.0  177.902807  \n",
       "3                          0.0                         0.0  178.368553  \n",
       "4                          0.0                         0.0  177.469378  \n",
       "5                          0.0                         0.0  177.424171  \n",
       "6                          0.0                         0.0  178.533456  \n",
       "7                          0.0                         0.0  177.758690  \n",
       "8                          0.0                         0.0  177.698779  \n",
       "9                          0.0                         0.0  176.754397  \n",
       "10                         0.0                         0.0  176.652156  "
      ]
     },
     "execution_count": 24,
     "metadata": {},
     "output_type": "execute_result"
    }
   ],
   "source": [
    "pred_df"
   ]
  },
  {
   "cell_type": "code",
   "execution_count": 25,
   "metadata": {
    "scrolled": false
   },
   "outputs": [
    {
     "data": {
      "image/png": "[encoded data removed]",
      "text/plain": [
       "<Figure size 720x432 with 1 Axes>"
      ]
     },
     "execution_count": 25,
     "metadata": {},
     "output_type": "execute_result"
    },
    {
     "data": {
      "image/png": "[encoded data removed]",
      "text/plain": [
       "<Figure size 720x432 with 1 Axes>"
      ]
     },
     "metadata": {},
     "output_type": "display_data"
    }
   ],
   "source": [
    "prophet.plot(pred_df)"
   ]
  },
  {
   "cell_type": "code",
   "execution_count": 51,
   "metadata": {},
   "outputs": [
    {
     "data": {
      "image/png": "[encoded data removed]",
      "text/plain": [
       "<Figure size 648x432 with 2 Axes>"
      ]
     },
     "execution_count": 51,
     "metadata": {},
     "output_type": "execute_result"
    },
    {
     "data": {
      "image/png": "[encoded data removed]",
      "text/plain": [
       "<Figure size 648x432 with 2 Axes>"
      ]
     },
     "metadata": {},
     "output_type": "display_data"
    }
   ],
   "source": [
    "prophet.plot_components(pred_df)"
   ]
  },
  {
   "cell_type": "code",
   "execution_count": 52,
   "metadata": {},
   "outputs": [],
   "source": [
    "test_df['prophet_model_prediction'] = pred_df['yhat'].values"
   ]
  },
  {
   "cell_type": "code",
   "execution_count": 28,
   "metadata": {},
   "outputs": [
    {
     "data": {
      "text/plain": [
       "<AxesSubplot:xlabel='dates'>"
      ]
     },
     "execution_count": 28,
     "metadata": {},
     "output_type": "execute_result"
    },
    {
     "data": {
      "image/png": "[encoded data removed]",
      "text/plain": [
       "<Figure size 864x576 with 1 Axes>"
      ]
     },
     "metadata": {
      "needs_background": "light"
     },
     "output_type": "display_data"
    }
   ],
   "source": [
    "plt.figure(figsize=(12,8))\n",
    "sns.lineplot(data=test_df[['dates', 'price_per_sku', 'prophet_model_prediction']].set_index('dates'), \n",
    "             dashes=False, linewidth = 3)"
   ]
  },
  {
   "cell_type": "code",
   "execution_count": 34,
   "metadata": {},
   "outputs": [],
   "source": [
    "from orbit.models.dlt import DLTFull\n",
    "from orbit.diagnostics.plot import plot_predicted_data"
   ]
  },
  {
   "cell_type": "code",
   "execution_count": 30,
   "metadata": {},
   "outputs": [],
   "source": [
    "dlt = DLTFull(\n",
    "    response_col='price_per_sku', date_col='dates',\n",
    "    seasonality=365,\n",
    ")"
   ]
  },
  {
   "cell_type": "code",
   "execution_count": 53,
   "metadata": {
    "scrolled": true
   },
   "outputs": [
    {
     "name": "stdout",
     "output_type": "stream",
     "text": [
      "\n",
      "\n",
      "Gradient evaluation took 0.000439 seconds\n",
      "1000 transitions using 10 leapfrog steps per transition would take 4.39 seconds.\n",
      "Adjust your expectations accordingly!\n",
      "\n",
      "\n",
      "Gradient evaluation took 0.000439 seconds\n",
      "1000 transitions using 10 leapfrog steps per transition would take 4.39 seconds.\n",
      "Adjust your expectations accordingly!\n",
      "\n",
      "\n",
      "Iteration:   1 / 250 [  0%]  (Warmup)\n",
      "Iteration:   1 / 250 [  0%]  (Warmup)\n",
      "\n",
      "Gradient evaluation took 0.000464 seconds\n",
      "1000 transitions using 10 leapfrog steps per transition would take 4.64 seconds.\n",
      "Adjust your expectations accordingly!\n",
      "\n",
      "\n",
      "\n",
      "Gradient evaluation took 0.000427 seconds\n",
      "1000 transitions using 10 leapfrog steps per transition would take 4.27 seconds.\n",
      "Adjust your expectations accordingly!\n",
      "\n",
      "\n",
      "Iteration:   1 / 250 [  0%]  (Warmup)\n",
      "Iteration:   1 / 250 [  0%]  (Warmup)\n",
      "Iteration:  25 / 250 [ 10%]  (Warmup)\n",
      "Iteration:  25 / 250 [ 10%]  (Warmup)\n",
      "Iteration:  25 / 250 [ 10%]  (Warmup)\n",
      "Iteration:  25 / 250 [ 10%]  (Warmup)\n",
      "Iteration:  50 / 250 [ 20%]  (Warmup)\n",
      "Iteration:  50 / 250 [ 20%]  (Warmup)\n",
      "Iteration:  50 / 250 [ 20%]  (Warmup)\n",
      "Iteration:  50 / 250 [ 20%]  (Warmup)\n",
      "Iteration:  75 / 250 [ 30%]  (Warmup)\n",
      "Iteration:  75 / 250 [ 30%]  (Warmup)\n",
      "Iteration:  75 / 250 [ 30%]  (Warmup)\n",
      "Iteration:  75 / 250 [ 30%]  (Warmup)\n",
      "Iteration: 100 / 250 [ 40%]  (Warmup)\n",
      "Iteration: 100 / 250 [ 40%]  (Warmup)\n",
      "Iteration: 100 / 250 [ 40%]  (Warmup)\n",
      "Iteration: 100 / 250 [ 40%]  (Warmup)\n",
      "Iteration: 125 / 250 [ 50%]  (Warmup)\n",
      "Iteration: 125 / 250 [ 50%]  (Warmup)\n",
      "Iteration: 125 / 250 [ 50%]  (Warmup)\n",
      "Iteration: 125 / 250 [ 50%]  (Warmup)\n",
      "Iteration: 150 / 250 [ 60%]  (Warmup)\n",
      "Iteration: 150 / 250 [ 60%]  (Warmup)\n",
      "Iteration: 150 / 250 [ 60%]  (Warmup)\n",
      "Iteration: 150 / 250 [ 60%]  (Warmup)\n",
      "Iteration: 175 / 250 [ 70%]  (Warmup)\n",
      "Iteration: 175 / 250 [ 70%]  (Warmup)\n",
      "Iteration: 175 / 250 [ 70%]  (Warmup)\n",
      "Iteration: 175 / 250 [ 70%]  (Warmup)\n",
      "Iteration: 200 / 250 [ 80%]  (Warmup)\n",
      "Iteration: 200 / 250 [ 80%]  (Warmup)\n",
      "Iteration: 200 / 250 [ 80%]  (Warmup)\n",
      "Iteration: 225 / 250 [ 90%]  (Warmup)\n",
      "Iteration: 225 / 250 [ 90%]  (Warmup)\n",
      "Iteration: 226 / 250 [ 90%]  (Sampling)\n",
      "Iteration: 226 / 250 [ 90%]  (Sampling)\n",
      "Iteration: 250 / 250 [100%]  (Sampling)\n",
      "Iteration: 250 / 250 [100%]  (Sampling)\n",
      "\n",
      " Elapsed Time: 1.65707 seconds (Warm-up)\n",
      "               0.074708 seconds (Sampling)\n",
      "               1.73178 seconds (Total)\n",
      "\n",
      "\n",
      " Elapsed Time: 1.66517 seconds (Warm-up)\n",
      "               0.074331 seconds (Sampling)\n",
      "               1.7395 seconds (Total)\n",
      "\n",
      "Iteration: 200 / 250 [ 80%]  (Warmup)\n",
      "Iteration: 225 / 250 [ 90%]  (Warmup)\n",
      "Iteration: 226 / 250 [ 90%]  (Sampling)\n",
      "Iteration: 250 / 250 [100%]  (Sampling)\n",
      "\n",
      " Elapsed Time: 1.75498 seconds (Warm-up)\n",
      "               0.077035 seconds (Sampling)\n",
      "               1.83202 seconds (Total)\n",
      "\n",
      "Iteration: 225 / 250 [ 90%]  (Warmup)\n",
      "Iteration: 226 / 250 [ 90%]  (Sampling)\n",
      "Iteration: 250 / 250 [100%]  (Sampling)\n",
      "\n",
      " Elapsed Time: 1.91181 seconds (Warm-up)\n",
      "               0.070821 seconds (Sampling)\n",
      "               1.98263 seconds (Total)\n",
      "\n"
     ]
    },
    {
     "name": "stderr",
     "output_type": "stream",
     "text": [
      "WARNING:pystan:Maximum (flat) parameter count (1000) exceeded: skipping diagnostic tests for n_eff and Rhat.\n",
      "To run all diagnostics call pystan.check_hmc_diagnostics(fit)\n"
     ]
    }
   ],
   "source": [
    "dlt.fit(df=train_df[['dates', 'price_per_sku']])"
   ]
  },
  {
   "cell_type": "code",
   "execution_count": 54,
   "metadata": {},
   "outputs": [],
   "source": [
    "pred = dlt.predict(test_df[['dates']])"
   ]
  },
  {
   "cell_type": "code",
   "execution_count": 55,
   "metadata": {},
   "outputs": [
    {
     "data": {
      "text/html": [
       "<div>\n",
       "<style scoped>\n",
       "    .dataframe tbody tr th:only-of-type {\n",
       "        vertical-align: middle;\n",
       "    }\n",
       "\n",
       "    .dataframe tbody tr th {\n",
       "        vertical-align: top;\n",
       "    }\n",
       "\n",
       "    .dataframe thead th {\n",
       "        text-align: right;\n",
       "    }\n",
       "</style>\n",
       "<table border=\"1\" class=\"dataframe\">\n",
       "  <thead>\n",
       "    <tr style=\"text-align: right;\">\n",
       "      <th></th>\n",
       "      <th>dates</th>\n",
       "      <th>prediction_5</th>\n",
       "      <th>prediction</th>\n",
       "      <th>prediction_95</th>\n",
       "    </tr>\n",
       "  </thead>\n",
       "  <tbody>\n",
       "    <tr>\n",
       "      <th>0</th>\n",
       "      <td>2019-04-02</td>\n",
       "      <td>177.667429</td>\n",
       "      <td>180.004738</td>\n",
       "      <td>182.205736</td>\n",
       "    </tr>\n",
       "    <tr>\n",
       "      <th>1</th>\n",
       "      <td>2019-04-06</td>\n",
       "      <td>176.664127</td>\n",
       "      <td>180.397977</td>\n",
       "      <td>183.151623</td>\n",
       "    </tr>\n",
       "    <tr>\n",
       "      <th>2</th>\n",
       "      <td>2019-04-08</td>\n",
       "      <td>176.321257</td>\n",
       "      <td>180.451373</td>\n",
       "      <td>184.058008</td>\n",
       "    </tr>\n",
       "    <tr>\n",
       "      <th>3</th>\n",
       "      <td>2019-04-09</td>\n",
       "      <td>175.938090</td>\n",
       "      <td>180.212701</td>\n",
       "      <td>183.933185</td>\n",
       "    </tr>\n",
       "    <tr>\n",
       "      <th>4</th>\n",
       "      <td>2019-04-10</td>\n",
       "      <td>175.724980</td>\n",
       "      <td>180.013191</td>\n",
       "      <td>184.404913</td>\n",
       "    </tr>\n",
       "    <tr>\n",
       "      <th>5</th>\n",
       "      <td>2019-04-11</td>\n",
       "      <td>175.357612</td>\n",
       "      <td>180.205107</td>\n",
       "      <td>184.841381</td>\n",
       "    </tr>\n",
       "    <tr>\n",
       "      <th>6</th>\n",
       "      <td>2019-04-12</td>\n",
       "      <td>174.809890</td>\n",
       "      <td>180.519269</td>\n",
       "      <td>185.077759</td>\n",
       "    </tr>\n",
       "    <tr>\n",
       "      <th>7</th>\n",
       "      <td>2019-04-13</td>\n",
       "      <td>172.901294</td>\n",
       "      <td>180.604011</td>\n",
       "      <td>185.600713</td>\n",
       "    </tr>\n",
       "    <tr>\n",
       "      <th>8</th>\n",
       "      <td>2019-04-16</td>\n",
       "      <td>173.478646</td>\n",
       "      <td>180.856733</td>\n",
       "      <td>186.497808</td>\n",
       "    </tr>\n",
       "    <tr>\n",
       "      <th>9</th>\n",
       "      <td>2019-04-18</td>\n",
       "      <td>173.269067</td>\n",
       "      <td>180.048638</td>\n",
       "      <td>187.275097</td>\n",
       "    </tr>\n",
       "    <tr>\n",
       "      <th>10</th>\n",
       "      <td>2019-04-21</td>\n",
       "      <td>172.669328</td>\n",
       "      <td>180.223823</td>\n",
       "      <td>187.799904</td>\n",
       "    </tr>\n",
       "  </tbody>\n",
       "</table>\n",
       "</div>"
      ],
      "text/plain": [
       "        dates  prediction_5  prediction  prediction_95\n",
       "0  2019-04-02    177.667429  180.004738     182.205736\n",
       "1  2019-04-06    176.664127  180.397977     183.151623\n",
       "2  2019-04-08    176.321257  180.451373     184.058008\n",
       "3  2019-04-09    175.938090  180.212701     183.933185\n",
       "4  2019-04-10    175.724980  180.013191     184.404913\n",
       "5  2019-04-11    175.357612  180.205107     184.841381\n",
       "6  2019-04-12    174.809890  180.519269     185.077759\n",
       "7  2019-04-13    172.901294  180.604011     185.600713\n",
       "8  2019-04-16    173.478646  180.856733     186.497808\n",
       "9  2019-04-18    173.269067  180.048638     187.275097\n",
       "10 2019-04-21    172.669328  180.223823     187.799904"
      ]
     },
     "execution_count": 55,
     "metadata": {},
     "output_type": "execute_result"
    }
   ],
   "source": [
    "pred"
   ]
  },
  {
   "cell_type": "code",
   "execution_count": 56,
   "metadata": {},
   "outputs": [],
   "source": [
    "test_df[['Orbit_lower_bound', 'Orbit_pred', 'Orbit_upper_bound']] = \\\n",
    "pred[['prediction_5', 'prediction', 'prediction_95']].values"
   ]
  },
  {
   "cell_type": "code",
   "execution_count": 36,
   "metadata": {},
   "outputs": [
    {
     "data": {
      "text/plain": [
       "<AxesSubplot:xlabel='dates'>"
      ]
     },
     "execution_count": 36,
     "metadata": {},
     "output_type": "execute_result"
    },
    {
     "data": {
      "image/png": "[encoded data removed]",
      "text/plain": [
       "<Figure size 864x576 with 1 Axes>"
      ]
     },
     "metadata": {
      "needs_background": "light"
     },
     "output_type": "display_data"
    }
   ],
   "source": [
    "col_list = ['dates', 'Orbit_lower_bound', 'Orbit_pred', 'Orbit_upper_bound', 'price_per_sku']\n",
    "plt.figure(figsize=(12,8))\n",
    "sns.lineplot(data=test_df[col_list].set_index('dates'), dashes=False,linewidth = 3)"
   ]
  },
  {
   "cell_type": "code",
   "execution_count": 37,
   "metadata": {},
   "outputs": [
    {
     "data": {
      "text/html": [
       "<div>\n",
       "<style scoped>\n",
       "    .dataframe tbody tr th:only-of-type {\n",
       "        vertical-align: middle;\n",
       "    }\n",
       "\n",
       "    .dataframe tbody tr th {\n",
       "        vertical-align: top;\n",
       "    }\n",
       "\n",
       "    .dataframe thead th {\n",
       "        text-align: right;\n",
       "    }\n",
       "</style>\n",
       "<table border=\"1\" class=\"dataframe\">\n",
       "  <thead>\n",
       "    <tr style=\"text-align: right;\">\n",
       "      <th></th>\n",
       "      <th>dates</th>\n",
       "      <th>SKU</th>\n",
       "      <th>price_per_sku</th>\n",
       "      <th>num_purchases</th>\n",
       "      <th>prophet_model_prediction</th>\n",
       "      <th>Orbit_lower_bound</th>\n",
       "      <th>Orbit_pred</th>\n",
       "      <th>Orbit_upper_bound</th>\n",
       "    </tr>\n",
       "  </thead>\n",
       "  <tbody>\n",
       "    <tr>\n",
       "      <th>192</th>\n",
       "      <td>2019-04-02</td>\n",
       "      <td>59567</td>\n",
       "      <td>181.86</td>\n",
       "      <td>2</td>\n",
       "      <td>179.038326</td>\n",
       "      <td>176.621717</td>\n",
       "      <td>179.975585</td>\n",
       "      <td>182.098288</td>\n",
       "    </tr>\n",
       "    <tr>\n",
       "      <th>194</th>\n",
       "      <td>2019-04-06</td>\n",
       "      <td>59567</td>\n",
       "      <td>181.83</td>\n",
       "      <td>2</td>\n",
       "      <td>178.428464</td>\n",
       "      <td>176.925725</td>\n",
       "      <td>180.182888</td>\n",
       "      <td>183.252167</td>\n",
       "    </tr>\n",
       "    <tr>\n",
       "      <th>195</th>\n",
       "      <td>2019-04-08</td>\n",
       "      <td>59567</td>\n",
       "      <td>181.83</td>\n",
       "      <td>1</td>\n",
       "      <td>177.902807</td>\n",
       "      <td>176.187548</td>\n",
       "      <td>180.124028</td>\n",
       "      <td>184.291088</td>\n",
       "    </tr>\n",
       "    <tr>\n",
       "      <th>196</th>\n",
       "      <td>2019-04-09</td>\n",
       "      <td>59567</td>\n",
       "      <td>181.67</td>\n",
       "      <td>1</td>\n",
       "      <td>178.368553</td>\n",
       "      <td>175.609541</td>\n",
       "      <td>179.856605</td>\n",
       "      <td>184.761416</td>\n",
       "    </tr>\n",
       "    <tr>\n",
       "      <th>197</th>\n",
       "      <td>2019-04-10</td>\n",
       "      <td>59567</td>\n",
       "      <td>180.08</td>\n",
       "      <td>2</td>\n",
       "      <td>177.469378</td>\n",
       "      <td>174.992796</td>\n",
       "      <td>180.149503</td>\n",
       "      <td>186.877978</td>\n",
       "    </tr>\n",
       "    <tr>\n",
       "      <th>198</th>\n",
       "      <td>2019-04-11</td>\n",
       "      <td>59567</td>\n",
       "      <td>179.97</td>\n",
       "      <td>2</td>\n",
       "      <td>177.424171</td>\n",
       "      <td>174.697155</td>\n",
       "      <td>179.812744</td>\n",
       "      <td>185.905293</td>\n",
       "    </tr>\n",
       "    <tr>\n",
       "      <th>199</th>\n",
       "      <td>2019-04-12</td>\n",
       "      <td>59567</td>\n",
       "      <td>179.03</td>\n",
       "      <td>1</td>\n",
       "      <td>178.533456</td>\n",
       "      <td>173.982140</td>\n",
       "      <td>180.044000</td>\n",
       "      <td>186.555459</td>\n",
       "    </tr>\n",
       "    <tr>\n",
       "      <th>200</th>\n",
       "      <td>2019-04-13</td>\n",
       "      <td>59567</td>\n",
       "      <td>179.36</td>\n",
       "      <td>1</td>\n",
       "      <td>177.758690</td>\n",
       "      <td>173.840363</td>\n",
       "      <td>180.005430</td>\n",
       "      <td>187.574655</td>\n",
       "    </tr>\n",
       "    <tr>\n",
       "      <th>202</th>\n",
       "      <td>2019-04-16</td>\n",
       "      <td>59567</td>\n",
       "      <td>178.61</td>\n",
       "      <td>2</td>\n",
       "      <td>177.698779</td>\n",
       "      <td>172.635412</td>\n",
       "      <td>179.689420</td>\n",
       "      <td>187.463318</td>\n",
       "    </tr>\n",
       "    <tr>\n",
       "      <th>203</th>\n",
       "      <td>2019-04-18</td>\n",
       "      <td>59567</td>\n",
       "      <td>177.77</td>\n",
       "      <td>1</td>\n",
       "      <td>176.754397</td>\n",
       "      <td>173.148655</td>\n",
       "      <td>179.944909</td>\n",
       "      <td>188.040118</td>\n",
       "    </tr>\n",
       "    <tr>\n",
       "      <th>204</th>\n",
       "      <td>2019-04-21</td>\n",
       "      <td>59567</td>\n",
       "      <td>177.77</td>\n",
       "      <td>1</td>\n",
       "      <td>176.652156</td>\n",
       "      <td>172.100585</td>\n",
       "      <td>179.850635</td>\n",
       "      <td>188.169459</td>\n",
       "    </tr>\n",
       "  </tbody>\n",
       "</table>\n",
       "</div>"
      ],
      "text/plain": [
       "         dates    SKU  price_per_sku  num_purchases  prophet_model_prediction  \\\n",
       "192 2019-04-02  59567         181.86              2                179.038326   \n",
       "194 2019-04-06  59567         181.83              2                178.428464   \n",
       "195 2019-04-08  59567         181.83              1                177.902807   \n",
       "196 2019-04-09  59567         181.67              1                178.368553   \n",
       "197 2019-04-10  59567         180.08              2                177.469378   \n",
       "198 2019-04-11  59567         179.97              2                177.424171   \n",
       "199 2019-04-12  59567         179.03              1                178.533456   \n",
       "200 2019-04-13  59567         179.36              1                177.758690   \n",
       "202 2019-04-16  59567         178.61              2                177.698779   \n",
       "203 2019-04-18  59567         177.77              1                176.754397   \n",
       "204 2019-04-21  59567         177.77              1                176.652156   \n",
       "\n",
       "     Orbit_lower_bound  Orbit_pred  Orbit_upper_bound  \n",
       "192         176.621717  179.975585         182.098288  \n",
       "194         176.925725  180.182888         183.252167  \n",
       "195         176.187548  180.124028         184.291088  \n",
       "196         175.609541  179.856605         184.761416  \n",
       "197         174.992796  180.149503         186.877978  \n",
       "198         174.697155  179.812744         185.905293  \n",
       "199         173.982140  180.044000         186.555459  \n",
       "200         173.840363  180.005430         187.574655  \n",
       "202         172.635412  179.689420         187.463318  \n",
       "203         173.148655  179.944909         188.040118  \n",
       "204         172.100585  179.850635         188.169459  "
      ]
     },
     "execution_count": 37,
     "metadata": {},
     "output_type": "execute_result"
    }
   ],
   "source": [
    "test_df"
   ]
  },
  {
   "cell_type": "markdown",
   "metadata": {},
   "source": [
    "## GradientBoostingRegressor"
   ]
  },
  {
   "cell_type": "code",
   "execution_count": 57,
   "metadata": {},
   "outputs": [],
   "source": [
    "from sklearn.ensemble import GradientBoostingRegressor\n",
    "GBR = GradientBoostingRegressor()"
   ]
  },
  {
   "cell_type": "code",
   "execution_count": 58,
   "metadata": {},
   "outputs": [],
   "source": [
    "import lightgbm"
   ]
  },
  {
   "cell_type": "code",
   "execution_count": 59,
   "metadata": {},
   "outputs": [],
   "source": [
    "from xgboost.sklearn import XGBRegressor\n",
    "from functools import partial"
   ]
  },
  {
   "cell_type": "markdown",
   "metadata": {},
   "source": [
    "Quantile:\n",
    "$$C(x) = \\left\\{\\begin{array}{cc}(\\alpha-1)|x-q| & \\mbox{if }x<q \\\\ \\alpha|x-q| & \\mbox{if }x\\geq q \\end{array}\\right. $$"
   ]
  },
  {
   "cell_type": "markdown",
   "metadata": {},
   "source": [
    "Split condition:"
   ]
  },
  {
   "cell_type": "markdown",
   "metadata": {},
   "source": [
    "$$\\mathcal{L}_{\\mbox{ split}} = \\frac{\\left(\\sum\\limits_{i \\in I_L}g_j \\right)^2}{\\sum\\limits_{i \\in I_L}h_j+\\lambda}+\\frac{\\left(\\sum\\limits_{i \\in I_R}g_j\\right)^2}{\\sum\\limits_{i \\in I_R}h_j+\\lambda}-\\frac{\\left(\\sum\\limits_{i \\in I}g_j\\right)^2}{\\sum\\limits_{i \\in I}h_j+\\lambda}~~~~\\mbox{for } I_{L} \\cup I_{R} = I $$"
   ]
  },
  {
   "cell_type": "code",
   "execution_count": 45,
   "metadata": {},
   "outputs": [],
   "source": [
    "#@title XGBQuantile Class\n",
    "class XGBQuantile(XGBRegressor):\n",
    "    def __init__(self,quant_alpha=0.95,quant_delta = 1.0,quant_thres=1.0,quant_var =1.0,base_score=0.5, booster='gbtree', colsample_bylevel=1,\n",
    "                colsample_bytree=1, gamma=0, learning_rate=0.1, max_delta_step=0,max_depth=3, min_child_weight=1, missing=None, n_estimators=100,\n",
    "                n_jobs=1, nthread=None, objective='reg:linear', random_state=0,reg_alpha=0, reg_lambda=1, scale_pos_weight=1, seed=None,silent=True, subsample=1):\n",
    "        self.quant_alpha = quant_alpha\n",
    "        self.quant_delta = quant_delta\n",
    "        self.quant_thres = quant_thres\n",
    "        self.quant_var = quant_var\n",
    "    \n",
    "        super().__init__(base_score=base_score, booster=booster, colsample_bylevel=colsample_bylevel,\n",
    "           colsample_bytree=colsample_bytree, gamma=gamma, learning_rate=learning_rate, max_delta_step=max_delta_step,\n",
    "           max_depth=max_depth, min_child_weight=min_child_weight, missing=missing, n_estimators=n_estimators,\n",
    "           n_jobs= n_jobs, nthread=nthread, objective=objective, random_state=random_state,\n",
    "           reg_alpha=reg_alpha, reg_lambda=reg_lambda, scale_pos_weight=scale_pos_weight, seed=seed,\n",
    "           silent=silent, subsample=subsample)\n",
    "\n",
    "        self.test = None\n",
    "  \n",
    "    def fit(self, X, y):\n",
    "        super().set_params(objective=partial(XGBQuantile.quantile_loss,alpha = self.quant_alpha,delta = self.quant_delta,threshold = self.quant_thres,var = self.quant_var) )\n",
    "        super().fit(X,y)\n",
    "        return self\n",
    "  \n",
    "    def predict(self,X):\n",
    "        return super().predict(X)\n",
    "  \n",
    "    def score(self, X, y):\n",
    "        y_pred = super().predict(X)\n",
    "        score = XGBQuantile.quantile_score(y, y_pred, self.quant_alpha)\n",
    "        score = 1./score\n",
    "        return score\n",
    "      \n",
    "    @staticmethod\n",
    "    def quantile_loss(y_true,y_pred,alpha,delta,threshold,var):\n",
    "        x = y_true - y_pred\n",
    "        grad = (x<(alpha-1.0)*delta)*(1.0-alpha)-  ((x>=(alpha-1.0)*delta)& (x<alpha*delta) )*x/delta-alpha*(x>alpha*delta)\n",
    "        hess = ((x>=(alpha-1.0)*delta)& (x<alpha*delta) )/delta \n",
    "\n",
    "        grad = (np.abs(x)<threshold )*grad - (np.abs(x)>=threshold )*(2*np.random.randint(2, size=len(y_true)) -1.0)*var\n",
    "        hess = (np.abs(x)<threshold )*hess + (np.abs(x)>=threshold )\n",
    "        return grad, hess\n",
    "  \n",
    "    @staticmethod\n",
    "    def original_quantile_loss(y_true,y_pred,alpha,delta):\n",
    "        x = y_true - y_pred\n",
    "        grad = (x<(alpha-1.0)*delta)*(1.0-alpha)-((x>=(alpha-1.0)*delta)& (x<alpha*delta) )*x/delta-alpha*(x>alpha*delta)\n",
    "        hess = ((x>=(alpha-1.0)*delta)& (x<alpha*delta) )/delta \n",
    "        return grad,hess\n",
    "\n",
    "  \n",
    "    @staticmethod\n",
    "    def quantile_score(y_true, y_pred, alpha):\n",
    "        score = XGBQuantile.quantile_cost(x=y_true-y_pred,alpha=alpha)\n",
    "        score = np.sum(score)\n",
    "        return score\n",
    "  \n",
    "    @staticmethod\n",
    "    def quantile_cost(x, alpha):\n",
    "        return (alpha-1.0)*x*(x<0)+alpha*x*(x>=0)\n",
    "  \n",
    "    @staticmethod\n",
    "    def get_split_gain(gradient,hessian,l=1):\n",
    "        split_gain = list()\n",
    "        for i in range(gradient.shape[0]):\n",
    "            split_gain.append(np.sum(gradient[:i])**2/(np.sum(hessian[:i])+l)+np.sum(gradient[i:])**2/(np.sum(hessian[i:])+l)-np.sum(gradient)**2/(np.sum(hessian)+l) )\n",
    "    \n",
    "        return np.array(split_gain)\n"
   ]
  },
  {
   "cell_type": "code",
   "execution_count": null,
   "metadata": {},
   "outputs": [],
   "source": []
  },
  {
   "cell_type": "markdown",
   "metadata": {},
   "source": [
    "## Какую метрику качества можно выбрать "
   ]
  },
  {
   "cell_type": "code",
   "execution_count": null,
   "metadata": {},
   "outputs": [],
   "source": []
  },
  {
   "cell_type": "markdown",
   "metadata": {},
   "source": [
    "<img src=\"RMSLE.png\" width=\"800\">"
   ]
  },
  {
   "cell_type": "code",
   "execution_count": null,
   "metadata": {},
   "outputs": [],
   "source": []
  },
  {
   "cell_type": "markdown",
   "metadata": {},
   "source": [
    "<img src=\"1.png\" width=\"600\">\n",
    "<img src=\"2.png\" width=\"600\">\n",
    "<img src=\"3.png\" width=\"600\">\n",
    "<img src=\"4.png\" width=\"600\">\n",
    "<img src=\"5.png\" width=\"600\">\n",
    "<img src=\"6.png\" width=\"600\">"
   ]
  },
  {
   "cell_type": "code",
   "execution_count": null,
   "metadata": {},
   "outputs": [],
   "source": []
  }
 ],
 "metadata": {
  "kernelspec": {
   "display_name": "Python 3",
   "language": "python",
   "name": "python3"
  },
  "language_info": {
   "codemirror_mode": {
    "name": "ipython",
    "version": 3
   },
   "file_extension": ".py",
   "mimetype": "text/x-python",
   "name": "python",
   "nbconvert_exporter": "python",
   "pygments_lexer": "ipython3",
   "version": "3.7.4"
  }
 },
 "nbformat": 4,
 "nbformat_minor": 4
}
